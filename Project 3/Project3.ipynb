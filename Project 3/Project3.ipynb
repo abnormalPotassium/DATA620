{
  "nbformat": 4,
  "nbformat_minor": 0,
  "metadata": {
    "colab": {
      "provenance": [],
      "collapsed_sections": [
        "Kq75V0AUSB7Q"
      ],
      "include_colab_link": true
    },
    "kernelspec": {
      "name": "python3",
      "display_name": "Python 3"
    },
    "language_info": {
      "name": "python"
    }
  },
  "cells": [
    {
      "cell_type": "markdown",
      "metadata": {
        "id": "view-in-github",
        "colab_type": "text"
      },
      "source": [
        "<a href=\"https://colab.research.google.com/github/abnormalPotassium/DATA620/blob/main/Project%203/Project3.ipynb\" target=\"_parent\"><img src=\"https://colab.research.google.com/assets/colab-badge.svg\" alt=\"Open In Colab\"/></a>"
      ]
    },
    {
      "cell_type": "markdown",
      "source": [
        "# Project 3: Names Corpus Collaborative Classifier\n",
        "\n",
        "By: DATA620 SP2024 Class"
      ],
      "metadata": {
        "id": "CcZGeYKPCeSk"
      }
    },
    {
      "cell_type": "markdown",
      "source": [
        "\n",
        "---\n",
        "## Goal"
      ],
      "metadata": {
        "id": "1GeSQDPeDB6k"
      }
    },
    {
      "cell_type": "markdown",
      "source": [
        "This project's goal is to:\n",
        "-  Using any of the three classifiers described in chapter 6 of Natural Language Processing with Python, and any features you can think of, build the best name gender classifier you can.\n",
        "  -  Begin by splitting the Names Corpus into three subsets: 500 words for the test set, 500 words for the dev-test set, and the remaining 6900 words for the training set.\n",
        "  -  Then, starting with the example name gender classifier, make incremental improvements. Use the dev-test set to check your progress.\n",
        "  -  Once you are satisfied with your classifier, check its final performance on the test set.\n",
        "  -  Describe how the performance on the test set compares to the performance on the dev-test set and if the divergence is expected.\n"
      ],
      "metadata": {
        "id": "-T22ZdovCj0T"
      }
    },
    {
      "cell_type": "markdown",
      "source": [
        "---\n",
        "## Package Installation"
      ],
      "metadata": {
        "id": "Kq75V0AUSB7Q"
      }
    },
    {
      "cell_type": "markdown",
      "source": [
        "Any packages that need to be installed for working on the classifier can be added in the code block below. The very initial package assumption is that we'll simply need nltk and possibly pandas."
      ],
      "metadata": {
        "id": "ITz6TsrANhO6"
      }
    },
    {
      "cell_type": "code",
      "execution_count": 1,
      "metadata": {
        "id": "10LeWLa5KBGR",
        "colab": {
          "base_uri": "https://localhost:8080/"
        },
        "outputId": "dfb2d53e-ac94-4c8a-df44-7727b3bcf434"
      },
      "outputs": [
        {
          "output_type": "stream",
          "name": "stdout",
          "text": [
            "Requirement already satisfied: nltk in /usr/local/lib/python3.10/dist-packages (3.8.1)\n",
            "Requirement already satisfied: click in /usr/local/lib/python3.10/dist-packages (from nltk) (8.1.7)\n",
            "Requirement already satisfied: joblib in /usr/local/lib/python3.10/dist-packages (from nltk) (1.3.2)\n",
            "Requirement already satisfied: regex>=2021.8.3 in /usr/local/lib/python3.10/dist-packages (from nltk) (2023.12.25)\n",
            "Requirement already satisfied: tqdm in /usr/local/lib/python3.10/dist-packages (from nltk) (4.66.2)\n"
          ]
        }
      ],
      "source": [
        "!pip install nltk\n",
        "!pip install pandas"
      ]
    },
    {
      "cell_type": "markdown",
      "source": [
        "\n",
        "---\n",
        "## Dataset Loading"
      ],
      "metadata": {
        "id": "BkVXljx_Dwut"
      }
    },
    {
      "cell_type": "markdown",
      "source": [
        "[Our data](http://www.cs.cmu.edu/afs/cs/project/ai-repository/ai/areas/nlp/corpora/names/0.html) is a set of names collected by Mark Kantrowitz and Bill Ross in 1994 where the names are separated in files by gender. There are 7944 observations in total with 5001 female names and 2943 males that are sorted alphabetically.\n",
        "\n",
        "The nltk package allows for directly downloading and accessing this dataset which we do below. Note that dataset loading process is largely identical to sample code provided in the [nltk book](https://www.nltk.org/book/ch06.html) by Steven Bird, Ewan Klein, and Edward Loper."
      ],
      "metadata": {
        "id": "t55GNXkUHSEb"
      }
    },
    {
      "cell_type": "code",
      "source": [
        "import nltk\n",
        "nltk.download('names')"
      ],
      "metadata": {
        "colab": {
          "base_uri": "https://localhost:8080/"
        },
        "id": "HuVmVUVV9xGQ",
        "outputId": "2babf96c-0bff-4558-df20-3cc8b4124288"
      },
      "execution_count": 16,
      "outputs": [
        {
          "output_type": "stream",
          "name": "stderr",
          "text": [
            "[nltk_data] Downloading package names to /root/nltk_data...\n",
            "[nltk_data]   Unzipping corpora/names.zip.\n"
          ]
        },
        {
          "output_type": "execute_result",
          "data": {
            "text/plain": [
              "True"
            ]
          },
          "metadata": {},
          "execution_count": 16
        }
      ]
    },
    {
      "cell_type": "markdown",
      "source": [
        "After downloading the dataset that consists of two separate files for male and female, we create a combined list of lists which has each name paired with its gender. Since, these are initially sorted alphabetically we used the random package's ability to shuffle lists in place to allow us to split the data randomly. Note that a seed is set here to encourage reproducibility."
      ],
      "metadata": {
        "id": "YRv-d1JcBb-F"
      }
    },
    {
      "cell_type": "code",
      "source": [
        "from nltk.corpus import names\n",
        "import random\n",
        "\n",
        "labeled_names = ([(name, 'male') for name in names.words('male.txt')] + [(name, 'female') for name in names.words('female.txt')])\n",
        "\n",
        "random.seed(1337)\n",
        "random.shuffle(labeled_names)"
      ],
      "metadata": {
        "id": "80VwrO_E9isZ"
      },
      "execution_count": 31,
      "outputs": []
    },
    {
      "cell_type": "markdown",
      "source": [
        "We split the `labeled_names` list into a training set with 6944 observations, a dev-test set with 500 observations, and a test set with 500 observations. The training set will be used for training the models, the dev-test set will be used for initially testing the trained models while further developing them, and the test set will be used for the final performance test."
      ],
      "metadata": {
        "id": "mY_t9lJEDIQB"
      }
    },
    {
      "cell_type": "code",
      "source": [
        "train_names = labeled_names[1000:]\n",
        "devtest_names = labeled_names[500:1000]\n",
        "test_names = labeled_names[:500]"
      ],
      "metadata": {
        "id": "vZkUCpyh-WKL"
      },
      "execution_count": 32,
      "outputs": []
    },
    {
      "cell_type": "markdown",
      "source": [
        "---\n",
        "## Model Building"
      ],
      "metadata": {
        "id": "0dVuoU2SsKw2"
      }
    },
    {
      "cell_type": "markdown",
      "source": [
        "With our dataset split we can now focus on building a model to classify gender from names. We will focus on three different types of classifiers and optimizing these three classifiers to get the best predictive performance out of them."
      ],
      "metadata": {
        "id": "MjB1GT36r84c"
      }
    },
    {
      "cell_type": "markdown",
      "source": [
        "### Classifier 1: Naive Bayes"
      ],
      "metadata": {
        "id": "hraJFM3V8lt5"
      }
    },
    {
      "cell_type": "markdown",
      "source": [
        "**The groups that will work on the naive Bayes classifier are:**"
      ],
      "metadata": {
        "id": "u4Nc2aUXHqzj"
      }
    },
    {
      "cell_type": "markdown",
      "source": [
        "#### Book Base"
      ],
      "metadata": {
        "id": "aPuW4VnNHflY"
      }
    },
    {
      "cell_type": "markdown",
      "source": [
        "We begin the base of our naive Bayes classifier by looking at how the ntlk book tackles it. We have three different ways to extract features from our dataset:\n",
        "\n",
        "1.   A very simple approach that uses the last letter of the name as the singular feature.\n",
        "2.   A complex approach that predicts based on the first letter of the name, the last letter of the name, and two features for every single letter in the alphabet based on if a letter is present in the name and how many of the letter are present.\n",
        "3.   A simple approach that uses the last two letters of the name as features.\n",
        "\n"
      ],
      "metadata": {
        "id": "GcNV9WceEyHj"
      }
    },
    {
      "cell_type": "code",
      "source": [
        "def gender_features1(word):\n",
        "  return {'last_letter': word[-1]}\n",
        "\n",
        "def gender_features2(name):\n",
        "    features = {}\n",
        "    features[\"first_letter\"] = name[0].lower()\n",
        "    features[\"last_letter\"] = name[-1].lower()\n",
        "    for letter in 'abcdefghijklmnopqrstuvwxyz':\n",
        "        features[\"count({})\".format(letter)] = name.lower().count(letter)\n",
        "        features[\"has({})\".format(letter)] = (letter in name.lower())\n",
        "    return features\n",
        "\n",
        "def gender_features3(word):\n",
        "  return {'suffix1': word[-1:],\n",
        "          'suffix2': word[-2:]}"
      ],
      "metadata": {
        "id": "aS4oHiXB_yuv"
      },
      "execution_count": 40,
      "outputs": []
    },
    {
      "cell_type": "markdown",
      "source": [
        "If we check the accuracy of each of these feature sets trained to a naive Bayes model we see that the more features we have the greater the accuracy. However, the book showcases that our complex featureset actually ends up overfitting the test set. Thus, our starting point for improvement should be adding and modifying features to the suffix based classifier."
      ],
      "metadata": {
        "id": "P5Ba0imxMcQM"
      }
    },
    {
      "cell_type": "code",
      "source": [
        "train_set1 = [(gender_features1(n), gender) for (n, gender) in train_names]\n",
        "devtest_set1 = [(gender_features1(n), gender) for (n, gender) in devtest_names]\n",
        "\n",
        "classifier1 = nltk.NaiveBayesClassifier.train(train_set1)\n",
        "\n",
        "train_set2 = [(gender_features2(n), gender) for (n, gender) in train_names]\n",
        "devtest_set2 = [(gender_features2(n), gender) for (n, gender) in devtest_names]\n",
        "\n",
        "classifier2 = nltk.NaiveBayesClassifier.train(train_set2)\n",
        "\n",
        "train_set3 = [(gender_features3(n), gender) for (n, gender) in train_names]\n",
        "devtest_set3 = [(gender_features3(n), gender) for (n, gender) in devtest_names]\n",
        "\n",
        "classifier3 = nltk.NaiveBayesClassifier.train(train_set3)\n",
        "\n",
        "print(f\"\"\"\n",
        "The gender prediction accuracy for our last letter based classifier is {nltk.classify.accuracy(classifier1, devtest_set1)*100}%\n",
        "The gender prediction accuracy for our large featureset classifier is {nltk.classify.accuracy(classifier2, devtest_set2)*100}%\n",
        "The gender prediction accuracy for our suffix based classifier is {nltk.classify.accuracy(classifier3, devtest_set3)*100}%\n",
        "\"\"\")"
      ],
      "metadata": {
        "colab": {
          "base_uri": "https://localhost:8080/"
        },
        "id": "EXRclAdI_4Vo",
        "outputId": "df5e8b0f-15f8-422b-e6fa-df6fb39d3b6f"
      },
      "execution_count": 53,
      "outputs": [
        {
          "output_type": "stream",
          "name": "stdout",
          "text": [
            "\n",
            "The gender prediction accuracy for our last letter based classifier is 77.2%\n",
            "The gender prediction accuracy for our large featureset classifier is 80.0%\n",
            "The gender prediction accuracy for our suffix based classifier is 78.2%\n",
            "\n"
          ]
        }
      ]
    },
    {
      "cell_type": "markdown",
      "source": [
        "#### Building Upon The Base"
      ],
      "metadata": {
        "id": "xKRbXLngK9E8"
      }
    },
    {
      "cell_type": "markdown",
      "source": [
        "Here we begin working on improving our existing naive Bayes model."
      ],
      "metadata": {
        "id": "ghJStI8QNkKX"
      }
    },
    {
      "cell_type": "markdown",
      "source": [
        "### Classifier 2: Maximum Entropy Model"
      ],
      "metadata": {
        "id": "t1HnWMs68tOG"
      }
    },
    {
      "cell_type": "markdown",
      "source": [
        "**The groups that will work on the maximum entropy model classifier are:**"
      ],
      "metadata": {
        "id": "1jjoCz_hK1KF"
      }
    },
    {
      "cell_type": "markdown",
      "source": [
        "### Classifier 3: Decision Tree"
      ],
      "metadata": {
        "id": "MEcH-yyb8vjj"
      }
    },
    {
      "cell_type": "markdown",
      "source": [
        "**The groups that will work on the decision tree classifier are:**"
      ],
      "metadata": {
        "id": "WMuyAYrkLFZh"
      }
    },
    {
      "cell_type": "markdown",
      "source": [
        "---\n",
        "## Final Models Performance Analysis"
      ],
      "metadata": {
        "id": "7R3_PRKS9ASD"
      }
    },
    {
      "cell_type": "markdown",
      "source": [
        "**The group that will work on final performance analysis and conclusion is:**"
      ],
      "metadata": {
        "id": "VP4xDT_WLLpJ"
      }
    },
    {
      "cell_type": "markdown",
      "source": [
        "Here we test the final versions of each classifier against the test set to see which model is possibly the best for predicting our data."
      ],
      "metadata": {
        "id": "d4rtRpXHESeX"
      }
    },
    {
      "cell_type": "markdown",
      "source": [
        "---\n",
        "## Conclusion"
      ],
      "metadata": {
        "id": "luaSd3tnIeyV"
      }
    },
    {
      "cell_type": "markdown",
      "source": [
        "Here we take a look at why our best model might have come out on top. Such as features of the classifier that are best suited to name classification. We will also propose further data or classifiers that may allow us to stretch our predictive performance even further"
      ],
      "metadata": {
        "id": "KQQ3aI3BEdyd"
      }
    },
    {
      "cell_type": "markdown",
      "source": [
        "---\n",
        "## Video Presentation"
      ],
      "metadata": {
        "id": "-pgx8Yxu9MxS"
      }
    },
    {
      "cell_type": "markdown",
      "source": [
        "**The group that will do the video presentation is:**"
      ],
      "metadata": {
        "id": "6jjLttWlLaUz"
      }
    },
    {
      "cell_type": "markdown",
      "source": [
        "The code below allows a YouTube link to the video presentation to be inserted for the url variable and will then display the YouTube video within the notebook itself.\n",
        "\n",
        "A regex match extracts the video ID from the URL which is then fed into the IPython package's built in Youtube embedder."
      ],
      "metadata": {
        "id": "ICW8tUu15X3E"
      }
    },
    {
      "cell_type": "code",
      "source": [
        "url = \"https://www.youtube.com/watch?v=tqj290bL-rE\""
      ],
      "metadata": {
        "id": "uGhP5XMT7yHL"
      },
      "execution_count": 13,
      "outputs": []
    },
    {
      "cell_type": "code",
      "source": [
        "from IPython.display import YouTubeVideo\n",
        "import re\n",
        "\n",
        "reg = r\"(?:v=|\\/)([0-9A-Za-z_-]{11}).*\"\n",
        "urlid = re.search(reg, url)[1]\n",
        "\n",
        "YouTubeVideo(urlid, width=800, height=450)"
      ],
      "metadata": {
        "colab": {
          "base_uri": "https://localhost:8080/",
          "height": 471
        },
        "id": "gp6ithnRIjDA",
        "outputId": "4e094be3-c225-4cc1-ae04-5ee94b26fde5"
      },
      "execution_count": 14,
      "outputs": [
        {
          "output_type": "execute_result",
          "data": {
            "text/plain": [
              "<IPython.lib.display.YouTubeVideo at 0x79ccbbefd480>"
            ],
            "text/html": [
              "\n",
              "        <iframe\n",
              "            width=\"800\"\n",
              "            height=\"450\"\n",
              "            src=\"https://www.youtube.com/embed/tqj290bL-rE\"\n",
              "            frameborder=\"0\"\n",
              "            allowfullscreen\n",
              "            \n",
              "        ></iframe>\n",
              "        "
            ],
            "image/jpeg": "[encoded data removed]"
          },
          "metadata": {},
          "execution_count": 14
        }
      ]
    }
  ]
}