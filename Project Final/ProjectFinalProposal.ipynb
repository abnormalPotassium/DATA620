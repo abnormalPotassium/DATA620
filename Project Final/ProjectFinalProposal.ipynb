{
  "nbformat": 4,
  "nbformat_minor": 0,
  "metadata": {
    "colab": {
      "provenance": [],
      "collapsed_sections": [
        "Kq75V0AUSB7Q"
      ],
      "include_colab_link": true
    },
    "kernelspec": {
      "name": "python3",
      "display_name": "Python 3"
    },
    "language_info": {
      "name": "python"
    }
  },
  "cells": [
    {
      "cell_type": "markdown",
      "metadata": {
        "id": "view-in-github",
        "colab_type": "text"
      },
      "source": [
        "<a href=\"https://colab.research.google.com/github/abnormalPotassium/DATA620/blob/main/Project%20Final/ProjectFinalProposal.ipynb\" target=\"_parent\"><img src=\"https://colab.research.google.com/assets/colab-badge.svg\" alt=\"Open In Colab\"/></a>"
      ]
    },
    {
      "cell_type": "markdown",
      "source": [
        "# Final Project: Proposal\n",
        "\n",
        "By: Al Haque, Taha Ahmad"
      ],
      "metadata": {
        "id": "CcZGeYKPCeSk"
      }
    },
    {
      "cell_type": "markdown",
      "source": [
        "\n",
        "---\n",
        "## Goal"
      ],
      "metadata": {
        "id": "1GeSQDPeDB6k"
      }
    },
    {
      "cell_type": "markdown",
      "source": [
        "This proposal's goal is to:\n",
        "- Create a guiding question to test against\n",
        "- Describe at a high level:\n",
        "  - What we’re seeking to accomplish\n",
        "  - Our motivation for performing this analysis\n",
        "  - Our data sources\n",
        "  - Our plan of action\n",
        "  - Our up front concerns\n",
        "  - Roles and responsibilities within the group\n"
      ],
      "metadata": {
        "id": "-T22ZdovCj0T"
      }
    },
    {
      "cell_type": "markdown",
      "source": [
        "\n",
        "---\n",
        "## Proposal"
      ],
      "metadata": {
        "id": "BkVXljx_Dwut"
      }
    },
    {
      "cell_type": "markdown",
      "source": [
        "We'll split our proposal into outlining the goals of the project and how we plan to achieve those goals."
      ],
      "metadata": {
        "id": "qp5GdQMZh9f8"
      }
    },
    {
      "cell_type": "markdown",
      "source": [
        "### Project Goals"
      ],
      "metadata": {
        "id": "29RvmArThoBT"
      }
    },
    {
      "cell_type": "markdown",
      "source": [
        "Our project is an attempt at tackling a portion of a problem that has exponentially grown more difficult for companies to navigate in the era of thousands of similar competing products: How does someone stand out from the competitors and garner more sales than the rest in our huge digital marketplaces? Tackling this problem would be invaluable to those trying to break into markets without an existing large amount of consumer recognition.\n",
        "\n",
        "There are multiple different ways to tackle this problem like focusing on getting advertisement in front of prospective customers, choosing flattering images to showcase the product, attempting to maximize quality to win the word of mouth favor, and many more. Our focus will be attempting to use text mining on product descriptions to see if there are certain writing features which are leading to more sales as a partial indicator of visibility to the customer. Specifically, we want to attempt this analysis with products in the video game industry on the computer game storefront of Steam. Thus, the problem we want to tackle is:\n",
        "\n",
        "What features within a description of a computer game on Steam are most influential to the amount of sales for the product?"
      ],
      "metadata": {
        "id": "z8Rs7etEiIV0"
      }
    },
    {
      "cell_type": "markdown",
      "source": [
        "### Project Plans"
      ],
      "metadata": {
        "id": "ssR5De_5huoy"
      }
    },
    {
      "cell_type": "markdown",
      "source": [
        "We will be sourcing the data from [SteamSpy](https://steamspy.com/), a third-party API which collects data from the Steam marketplace platform including the descriptions of the products on the platform and the estimated sales. In theory this will be all the information we need for our project.\n",
        "\n",
        "Once we are able to load the data in, the plan will be to break down the descriptions into a multitude of different features such as the amount of time a word may be used, the length of the description, the overall sentiment of the description based on a sentiment dictionary. With the features broken down we will train multiple different classification models, but focus on a logistic regression model with a larger featureset due to the benefit of increased interpretability. Both members will work on the iterative model building process and feature extraction. Our final trained model should give us insight into which features within the description increase sales and thus consumer reach.\n",
        "\n",
        "Perhaps the biggest concern at the moment would be extracting enough features with actual meaning to our response variable to make a good model. As description features may actually not be that influential to the total amount of buyers."
      ],
      "metadata": {
        "id": "OcWov3lPnedB"
      }
    }
  ]
}