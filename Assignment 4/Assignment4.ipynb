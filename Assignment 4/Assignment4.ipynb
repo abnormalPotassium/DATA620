{
  "nbformat": 4,
  "nbformat_minor": 0,
  "metadata": {
    "colab": {
      "provenance": [],
      "authorship_tag": "ABX9TyM+XMSdvXijI7j7VbVG0b77",
      "include_colab_link": true
    },
    "kernelspec": {
      "name": "python3",
      "display_name": "Python 3"
    },
    "language_info": {
      "name": "python"
    }
  },
  "cells": [
    {
      "cell_type": "markdown",
      "metadata": {
        "id": "view-in-github",
        "colab_type": "text"
      },
      "source": [
        "<a href=\"https://colab.research.google.com/github/abnormalPotassium/DATA620/blob/main/Assignment%204/Assignment4.ipynb\" target=\"_parent\"><img src=\"https://colab.research.google.com/assets/colab-badge.svg\" alt=\"Open In Colab\"/></a>"
      ]
    },
    {
      "cell_type": "markdown",
      "source": [
        "# Assignment 4: Categorical Network Analysis Planning\n",
        "\n",
        "By: Al Haque, Taha Ahmad"
      ],
      "metadata": {
        "id": "CcZGeYKPCeSk"
      }
    },
    {
      "cell_type": "markdown",
      "source": [
        "\n",
        "---\n",
        "## Goal"
      ],
      "metadata": {
        "id": "1GeSQDPeDB6k"
      }
    },
    {
      "cell_type": "markdown",
      "source": [
        "This assignment's goal is to:\n",
        "- Identify an interesting set of network data that is available on the web (either through web scraping or web APIs) that could be used for analyzing and comparing centrality measures across nodes.  \n",
        "  - As an additional constraint, there should be at least one categorical variable available for each node (such as “Male” or “Female”; “Republican”, “Democrat,” or “Undecided”, etc.)\n",
        "- Create a high level plan that describes how you would load the data for analysis.\n",
        "- Describe a hypothetical outcome that could be predicted from comparing degree centrality across categorical groups."
      ],
      "metadata": {
        "id": "-T22ZdovCj0T"
      }
    },
    {
      "cell_type": "markdown",
      "source": [
        "\n",
        "---\n",
        "## Dataset Identification"
      ],
      "metadata": {
        "id": "BkVXljx_Dwut"
      }
    },
    {
      "cell_type": "markdown",
      "source": [
        "Data has been identified from the [Animal Social Network Repository](https://www.nature.com/articles/s41597-019-0056-z) which is a large collection of animal network data that is extracted from various different scientific publications.\n",
        "\n",
        "While looking through the repository there are certain datasets that are categorical with gender of the animal being recorded. [One of these networks](https://github.com/bansallab/asnr/blob/master/Networks/Aves/junglefowl_sexual_weighted/junglefowl_mcdonald_sexual_network_group5.graphml) is an observation set of the reproduction habits of captive junglefowl obtained from a [2017 study](https://pubmed.ncbi.nlm.nih.gov/28369868/). We will be taking the data from a group within the study and attempting to see what role gender plays within the reproductive habits of junglefowl."
      ],
      "metadata": {
        "id": "t55GNXkUHSEb"
      }
    },
    {
      "cell_type": "markdown",
      "source": [
        "\n",
        "---\n",
        "## Data Loading Plan"
      ],
      "metadata": {
        "id": "O6-QhkXED28E"
      }
    },
    {
      "cell_type": "markdown",
      "source": [
        "The data is hosted on GitHub thanks to the ANSR, so the first step will be to download the [raw graphml file](https://raw.githubusercontent.com/bansallab/asnr/master/Networks/Aves/junglefowl_sexual_weighted/junglefowl_mcdonald_sexual_network_group5.graphml) through curl.\n",
        "\n",
        "Afterwards, the file will be able to be read into a variable through networkx's [read_graphml](https://networkx.org/documentation/stable/reference/readwrite/generated/networkx.readwrite.graphml.read_graphml.html#networkx.readwrite.graphml.read_graphml) function.\n",
        "\n",
        "With the graph initialized in a variable we will be able to tackle different centrality measures based on gender."
      ],
      "metadata": {
        "id": "1V9Pmr-EHSpm"
      }
    },
    {
      "cell_type": "markdown",
      "source": [
        "\n",
        "---\n",
        "## Possible Centrality Analysis Outcome"
      ],
      "metadata": {
        "id": "mC49X5LkD3EX"
      }
    },
    {
      "cell_type": "markdown",
      "source": [
        "If degree centrality was calculated between genders we would be able to classify the reproductive habits of our junglefowl beasts into one that might be dominated by males having many female partners, a more even ration, or females having multiple male partners."
      ],
      "metadata": {
        "id": "imWfwWq8HTI3"
      }
    }
  ]
}