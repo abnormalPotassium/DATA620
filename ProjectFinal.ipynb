{
  "nbformat": 4,
  "nbformat_minor": 0,
  "metadata": {
    "colab": {
      "provenance": [],
      "mount_file_id": "1MAL7k76yTuGbi7gpuouWaz2QaphPdU_r",
      "authorship_tag": "ABX9TyNqFpIkGMLORiP0gaUVr3wA",
      "include_colab_link": true
    },
    "kernelspec": {
      "name": "python3",
      "display_name": "Python 3"
    },
    "language_info": {
      "name": "python"
    }
  },
  "cells": [
    {
      "cell_type": "markdown",
      "metadata": {
        "id": "view-in-github",
        "colab_type": "text"
      },
      "source": [
        "<a href=\"https://colab.research.google.com/github/abnormalPotassium/DATA620/blob/main/ProjectFinal.ipynb\" target=\"_parent\"><img src=\"https://colab.research.google.com/assets/colab-badge.svg\" alt=\"Open In Colab\"/></a>"
      ]
    },
    {
      "cell_type": "markdown",
      "source": [
        "# Final Project: Video Game Description Processing for Model Building\n",
        "By: Al Haque, Taha Ahmad"
      ],
      "metadata": {
        "id": "CcZGeYKPCeSk"
      }
    },
    {
      "cell_type": "markdown",
      "source": [
        "\n",
        "---\n",
        "## Requirements"
      ],
      "metadata": {
        "id": "1GeSQDPeDB6k"
      }
    },
    {
      "cell_type": "markdown",
      "source": [
        "This project's requirements are to:\n",
        "- Answer our proposal's guiding question with work that incorporates text processing, one of the main themes of the course\n",
        "- Show all of our work in a coherent workflow and in a reproducible format\n",
        "- Explain how we evaluate the “goodness” of the final model and parameters\n"
      ],
      "metadata": {
        "id": "-T22ZdovCj0T"
      }
    },
    {
      "cell_type": "markdown",
      "source": [
        "\n",
        "---\n",
        "## Introduction"
      ],
      "metadata": {
        "id": "BkVXljx_Dwut"
      }
    },
    {
      "cell_type": "markdown",
      "source": [
        "### Project Goals"
      ],
      "metadata": {
        "id": "29RvmArThoBT"
      }
    },
    {
      "cell_type": "markdown",
      "source": [
        "Our project is an attempt at tackling a portion of a problem that has exponentially grown more difficult for companies to navigate in the era of thousands of similar competing products: How does someone stand out from the competitors and garner more sales than the rest in our huge digital marketplaces? Tackling this problem would be invaluable to those trying to break into markets without an existing large amount of consumer recognition.\n",
        "\n",
        "There are multiple different ways to tackle this problem like focusing on getting advertisement in front of prospective customers, choosing flattering images to showcase the product, attempting to maximize quality to win the word of mouth favor, and many more. Our focus will be attempting to use text mining on product descriptions to see if there are certain writing features which are leading to more sales as a partial indicator of visibility to the customer. Specifically, we want to attempt this analysis with products in the video game industry on the computer game storefront of Steam. Thus, the problem we want to tackle is:\n",
        "\n",
        "What features within a description of a computer game on Steam are most influential to the amount of sales for the product?"
      ],
      "metadata": {
        "id": "z8Rs7etEiIV0"
      }
    },
    {
      "cell_type": "markdown",
      "source": [
        "### Methodology"
      ],
      "metadata": {
        "id": "ssR5De_5huoy"
      }
    },
    {
      "cell_type": "markdown",
      "source": [
        "To answer this question, we will start by sourcing the data from [Gamalytic](https://gamalytic.com/api-reference.txt), a third-party API which collects data from the Steam marketplace platform including features of the products on the platform and the estimated sales. Additionally, we will need to gather description data from an official [Steam API](https://store.steampowered.com) with no official documentation, but [unofficial documentation](https://wiki.teamfortress.com/wiki/User:RJackson/StorefrontAPI) is available and was used.\n",
        "\n",
        "Once we are able to load the data in, the plan will be to break down the descriptions into a multitude of different features such as the amount of time a word may be used, the length of the description, the overall sentiment of the description based on a sentiment dictionary. With the features broken down we will train multiple different classification models, but focus on a logistic regression model with a larger featureset due to the benefit of increased interpretability. Both members will work on the iterative model building process and feature extraction. Our final trained model should give us insight into which features within the description increase sales and thus consumer reach.\n",
        "\n",
        "Perhaps the biggest concern at the moment would be extracting enough features with actual meaning to our response variable to make a good model. As description features may actually not be that influential to the total amount of buyers."
      ],
      "metadata": {
        "id": "OcWov3lPnedB"
      }
    },
    {
      "cell_type": "markdown",
      "source": [
        "---\n",
        "## Package Installation\n"
      ],
      "metadata": {
        "id": "Vrh0_fBhQUMc"
      }
    },
    {
      "cell_type": "markdown",
      "source": [
        "Any packages that need to be installed for working on our project will be added in the code block below. The very initial package assumption is that we'll simply need nltk and possibly pandas."
      ],
      "metadata": {
        "id": "k0hmQQQDQfmO"
      }
    },
    {
      "cell_type": "code",
      "source": [
        "!pip install nltk\n",
        "!pip install pandas\n",
        "!pip install requests\n",
        "!pip install beautifulsoup4\n",
        "!pip install nltk\n",
        "!pip install re\n",
        "!pip install scikit-learn\n",
        "!pip install spacy\n",
        "!pip install skimpy\n",
        "!python -m spacy download en_core_web_md"
      ],
      "metadata": {
        "id": "0hZtl35dQTr2"
      },
      "execution_count": null,
      "outputs": []
    },
    {
      "cell_type": "code",
      "source": [
        "import pandas as pd\n",
        "import numpy as np\n",
        "import nltk\n",
        "nltk.download('punkt')\n",
        "nltk.download('stopwords')\n",
        "from nltk.tokenize import word_tokenize\n",
        "from nltk.corpus import stopwords\n",
        "import re\n",
        "from sklearn.model_selection import train_test_split\n",
        "from sklearn.feature_extraction.text import CountVectorizer, TfidfTransformer, TfidfVectorizer\n",
        "from sklearn import svm\n",
        "from sklearn.metrics import accuracy_score, confusion_matrix, roc_curve, auc\n",
        "import matplotlib.pyplot as plt\n",
        "import spacy\n",
        "from skimpy import skim"
      ],
      "metadata": {
        "id": "ln8U-MiY4b2r"
      },
      "execution_count": 2,
      "outputs": []
    },
    {
      "cell_type": "markdown",
      "source": [
        "---\n",
        "## Data Collection"
      ],
      "metadata": {
        "id": "-pPat651LXj0"
      }
    },
    {
      "cell_type": "markdown",
      "source": [
        "We begin our data collection by importing the Requests Python package which allows us to easily query the APIs that we will be using the data from. We'll also be importing the time module so we can wait a bit before querying the API repeatedly in order to be polite and not overload servers. The json package in combination with the google colab drive module are used to save the data queried to google drive so far in case of an error when querying the API so we will not have to retry from scratch."
      ],
      "metadata": {
        "id": "5ca_gi2ARfN8"
      }
    },
    {
      "cell_type": "code",
      "execution_count": 3,
      "metadata": {
        "id": "i4QDN7f3myup"
      },
      "outputs": [],
      "source": [
        "import requests\n",
        "import time\n",
        "import json"
      ]
    },
    {
      "cell_type": "markdown",
      "source": [
        "### SteamIDs and Copies Sold"
      ],
      "metadata": {
        "id": "K6ZM30mqDRRF"
      }
    },
    {
      "cell_type": "markdown",
      "source": [
        "From the Gamalytic API we have created a function using requests json to page through and get information on 200 of the latest games. For each page we add the json information to an array and save it once the function is done."
      ],
      "metadata": {
        "id": "Y5HjVKfcRvz7"
      }
    },
    {
      "cell_type": "code",
      "source": [
        "def paged_requests(url = 'https://api.gamalytic.com/steam-games/list', payload = {\"price_min\": 1, 'date_min': 1420070399999, \"limit\" : 100, \"page\": 0}, maxpage = 2, timeout = 10):\n",
        "  request_list = []\n",
        "  start = payload['page']\n",
        "\n",
        "  r = requests.get(url, params=payload)\n",
        "\n",
        "  if isinstance(maxpage, int):\n",
        "    maxpage = min(maxpage, r.json()['pages'])\n",
        "  else:\n",
        "    maxpage = r.json()['pages']\n",
        "\n",
        "  for page in range(payload['page'], maxpage):\n",
        "    if page == start:\n",
        "      request_list.extend(r.json()['result'])\n",
        "      time.sleep(1)\n",
        "    else:\n",
        "      payload['page'] = page\n",
        "\n",
        "      try:\n",
        "        r = requests.get(url, params=payload, timeout = timeout)\n",
        "      except requests.exceptions.Timeout:\n",
        "        print(f\"Timed out on page {page}\")\n",
        "        with open(f'{drive}/erroratpage{page}.json', 'w') as f:\n",
        "          f.write(json.dumps(request_list))\n",
        "        return request_list\n",
        "\n",
        "      request_list.extend(r.json()['result'])\n",
        "      time.sleep(1)\n",
        "  with open(f'{drive}/completedpagedquery.json', 'w') as f:\n",
        "    f.write(json.dumps(request_list))\n",
        "  return request_list"
      ],
      "metadata": {
        "id": "aVTeA0qYdytn"
      },
      "execution_count": null,
      "outputs": []
    },
    {
      "cell_type": "markdown",
      "source": [
        "Initially our functions saved the API information to Google Drive after mounting the drive. However, once we were able to download the information we moved it to GitHub for easier reproducibility and download the data again from there."
      ],
      "metadata": {
        "id": "TOZaOmsECHNF"
      }
    },
    {
      "cell_type": "code",
      "source": [
        "drive = \"/content/drive/MyDrive/Colab Notebooks\"\n",
        "\n",
        "'''\n",
        "from google.colab import drive\n",
        "drive.mount('/content/drive')\n",
        "gamalytic_list = paged_requests()\n",
        "'''"
      ],
      "metadata": {
        "id": "UqQ3v76hUGSM"
      },
      "execution_count": null,
      "outputs": []
    },
    {
      "cell_type": "markdown",
      "source": [
        "Afterwards, we import pandas as the package will be crucial for working with our data in a reasonable manner. Reading our uploaded json file as a dataframe allows us to preview the data we have collected so far. Although, we really only need the id and copiesSold field from this data."
      ],
      "metadata": {
        "id": "rYZWaO2NCqsZ"
      }
    },
    {
      "cell_type": "code",
      "source": [
        "import pandas as pd\n",
        "\n",
        "!wget https://github.com/abnormalPotassium/DATA620/raw/main/Project%20Final/completedpagedquery.json\n",
        "df = pd.read_json(\"completedpagedquery.json\")"
      ],
      "metadata": {
        "id": "ofXfUglkP0hj",
        "colab": {
          "base_uri": "https://localhost:8080/"
        },
        "outputId": "c6ec4f99-e380-4a6d-9dc0-95a95dd866f9"
      },
      "execution_count": 9,
      "outputs": [
        {
          "output_type": "stream",
          "name": "stdout",
          "text": [
            "--2024-05-17 23:36:15--  https://github.com/abnormalPotassium/DATA620/raw/main/Project%20Final/completedpagedquery.json\n",
            "Resolving github.com (github.com)... 140.82.114.3\n",
            "Connecting to github.com (github.com)|140.82.114.3|:443... connected.\n",
            "HTTP request sent, awaiting response... 302 Found\n",
            "Location: https://raw.githubusercontent.com/abnormalPotassium/DATA620/main/Project%20Final/completedpagedquery.json [following]\n",
            "--2024-05-17 23:36:15--  https://raw.githubusercontent.com/abnormalPotassium/DATA620/main/Project%20Final/completedpagedquery.json\n",
            "Resolving raw.githubusercontent.com (raw.githubusercontent.com)... 185.199.108.133, 185.199.109.133, 185.199.110.133, ...\n",
            "Connecting to raw.githubusercontent.com (raw.githubusercontent.com)|185.199.108.133|:443... connected.\n",
            "HTTP request sent, awaiting response... 200 OK\n",
            "Length: 139106 (136K) [text/plain]\n",
            "Saving to: ‘completedpagedquery.json’\n",
            "\n",
            "completedpagedquery 100%[===================>] 135.85K  --.-KB/s    in 0.03s   \n",
            "\n",
            "2024-05-17 23:36:15 (4.23 MB/s) - ‘completedpagedquery.json’ saved [139106/139106]\n",
            "\n"
          ]
        }
      ]
    },
    {
      "cell_type": "code",
      "source": [
        "df"
      ],
      "metadata": {
        "colab": {
          "base_uri": "https://localhost:8080/",
          "height": 597
        },
        "id": "VVcJTToECivT",
        "outputId": "ce425b87-9f3b-4b18-a650-ad8dc02d4d2a"
      },
      "execution_count": 10,
      "outputs": [
        {
          "output_type": "execute_result",
          "data": {
            "text/plain": [
              "     steamId       id                             name  price  reviews  \\\n",
              "0    1086940  1086940                  Baldur's Gate 3  59.99   537110   \n",
              "1     271590   271590               Grand Theft Auto V  39.99  1640585   \n",
              "2    1091500  1091500                   Cyberpunk 2077  59.99   653469   \n",
              "3     306130   306130        The Elder Scrolls® Online  19.99   137887   \n",
              "4     359550   359550  Tom Clancy's Rainbow Six® Siege  19.99  1178856   \n",
              "..       ...      ...                              ...    ...      ...   \n",
              "195   431240   431240           Golf With Your Friends  14.99    58936   \n",
              "196   292730   292730  Call of Duty®: Infinite Warfare  59.99    25718   \n",
              "197   310950   310950                 Street Fighter V  19.99    42075   \n",
              "198   960090   960090                      Bloons TD 6  13.99   275170   \n",
              "199   851850   851850           DRAGON BALL Z: KAKAROT  59.99    43844   \n",
              "\n",
              "     reviewScore  copiesSold       revenue  avgPlaytime  \\\n",
              "0             96    16113300  8.386532e+08    65.780621   \n",
              "1             86    35118817  7.586372e+08   190.169759   \n",
              "2             81    14072558  5.800287e+08    66.727864   \n",
              "3             82     5226369  5.233994e+08   128.857166   \n",
              "4             86    21327664  4.976081e+08   218.986833   \n",
              "..           ...         ...           ...          ...   \n",
              "195           89     3734612  3.566563e+07    11.216670   \n",
              "196           57      600697  3.555098e+07    22.269230   \n",
              "197           67     1278316  3.535854e+07    44.706498   \n",
              "198           97     7209688  3.497538e+07    56.794273   \n",
              "199           93     1143220  3.442234e+07    25.369536   \n",
              "\n",
              "                                                  tags  \\\n",
              "0    [RPG, Choices Matter, Character Customization,...   \n",
              "1    [Open World, Action, Multiplayer, Crime, Autom...   \n",
              "2    [Cyberpunk, Open World, Nudity, RPG, Singlepla...   \n",
              "3    [RPG, MMORPG, Open World, Fantasy, Adventure, ...   \n",
              "4    [FPS, PvP, eSports, Multiplayer, Tactical, Sho...   \n",
              "..                                                 ...   \n",
              "195  [Multiplayer, Casual, Mini Golf, Sports, Golf,...   \n",
              "196  [Action, FPS, Multiplayer, Zombies, Space, Fut...   \n",
              "197  [Fighting, Action, 2D Fighter, Multiplayer, Co...   \n",
              "198  [Tower Defense, Strategy, Multiplayer, Singlep...   \n",
              "199  [Action, RPG, Anime, Open World, Multiplayer, ...   \n",
              "\n",
              "                                              genres  \\\n",
              "0                         [Adventure, RPG, Strategy]   \n",
              "1                                [Action, Adventure]   \n",
              "2                                              [RPG]   \n",
              "3    [Action, Adventure, Massively Multiplayer, RPG]   \n",
              "4                                           [Action]   \n",
              "..                                               ...   \n",
              "195                          [Casual, Indie, Sports]   \n",
              "196                              [Action, Adventure]   \n",
              "197                                         [Action]   \n",
              "198                                       [Strategy]   \n",
              "199                                    [Action, RPG]   \n",
              "\n",
              "                                              features  \\\n",
              "0    [Single-player, Online Co-op, LAN Co-op, Steam...   \n",
              "1    [Single-player, Online PvP, Online Co-op, Stea...   \n",
              "2    [Single-player, Steam Achievements, Steam Trad...   \n",
              "3    [MMO, Online PvP, Online Co-op, Steam Trading ...   \n",
              "4    [Single-player, Online PvP, Online Co-op, Stea...   \n",
              "..                                                 ...   \n",
              "195  [Single-player, Online PvP, Shared/Split Scree...   \n",
              "196  [Single-player, Online PvP, Online Co-op, Stea...   \n",
              "197  [Single-player, Cross-Platform Multiplayer, St...   \n",
              "198  [Single-player, Online Co-op, Steam Achievemen...   \n",
              "199  [Single-player, Online PvP, Steam Achievements...   \n",
              "\n",
              "                           developers                         publishers  \\\n",
              "0                    [Larian Studios]                   [Larian Studios]   \n",
              "1                    [Rockstar North]                   [Rockstar Games]   \n",
              "2                    [CD PROJEKT RED]                   [CD PROJEKT RED]   \n",
              "3            [ZeniMax Online Studios]               [Bethesda Softworks]   \n",
              "4                  [Ubisoft Montreal]                          [Ubisoft]   \n",
              "..                                ...                                ...   \n",
              "195  [Blacklight Interactive, Team17]                           [Team17]   \n",
              "196                   [Infinity Ward]                       [Activision]   \n",
              "197                [CAPCOM Co., Ltd.]                 [CAPCOM Co., Ltd.]   \n",
              "198                      [Ninja Kiwi]                       [Ninja Kiwi]   \n",
              "199          [CyberConnect2 Co. Ltd.]  [Bandai Namco Entertainment Inc.]   \n",
              "\n",
              "     unreleased  earlyAccess    releaseDate  EAReleaseDate publisherClass  \n",
              "0         False        False  1691035200000   1.601957e+12            AAA  \n",
              "1         False        False  1428897600000            NaN            AAA  \n",
              "2         False        False  1607490000000            NaN            AAA  \n",
              "3         False        False  1495425600000   1.404173e+12            AAA  \n",
              "4         False        False  1448946000000            NaN            AAA  \n",
              "..          ...          ...            ...            ...            ...  \n",
              "195       False        False  1589860800000   1.451606e+12             AA  \n",
              "196       False        False  1478145600000            NaN            AAA  \n",
              "197       False        False  1455512400000            NaN            AAA  \n",
              "198       False        False  1545022800000            NaN          Indie  \n",
              "199       False        False  1579150800000            NaN             AA  \n",
              "\n",
              "[200 rows x 19 columns]"
            ],
            "text/html": [
              "\n",
              "  <div id=\"df-dd8412f8-475b-4d36-9ecb-63635d916594\" class=\"colab-df-container\">\n",
              "    <div>\n",
              "<style scoped>\n",
              "    .dataframe tbody tr th:only-of-type {\n",
              "        vertical-align: middle;\n",
              "    }\n",
              "\n",
              "    .dataframe tbody tr th {\n",
              "        vertical-align: top;\n",
              "    }\n",
              "\n",
              "    .dataframe thead th {\n",
              "        text-align: right;\n",
              "    }\n",
              "</style>\n",
              "<table border=\"1\" class=\"dataframe\">\n",
              "  <thead>\n",
              "    <tr style=\"text-align: right;\">\n",
              "      <th></th>\n",
              "      <th>steamId</th>\n",
              "      <th>id</th>\n",
              "      <th>name</th>\n",
              "      <th>price</th>\n",
              "      <th>reviews</th>\n",
              "      <th>reviewScore</th>\n",
              "      <th>copiesSold</th>\n",
              "      <th>revenue</th>\n",
              "      <th>avgPlaytime</th>\n",
              "      <th>tags</th>\n",
              "      <th>genres</th>\n",
              "      <th>features</th>\n",
              "      <th>developers</th>\n",
              "      <th>publishers</th>\n",
              "      <th>unreleased</th>\n",
              "      <th>earlyAccess</th>\n",
              "      <th>releaseDate</th>\n",
              "      <th>EAReleaseDate</th>\n",
              "      <th>publisherClass</th>\n",
              "    </tr>\n",
              "  </thead>\n",
              "  <tbody>\n",
              "    <tr>\n",
              "      <th>0</th>\n",
              "      <td>1086940</td>\n",
              "      <td>1086940</td>\n",
              "      <td>Baldur's Gate 3</td>\n",
              "      <td>59.99</td>\n",
              "      <td>537110</td>\n",
              "      <td>96</td>\n",
              "      <td>16113300</td>\n",
              "      <td>8.386532e+08</td>\n",
              "      <td>65.780621</td>\n",
              "      <td>[RPG, Choices Matter, Character Customization,...</td>\n",
              "      <td>[Adventure, RPG, Strategy]</td>\n",
              "      <td>[Single-player, Online Co-op, LAN Co-op, Steam...</td>\n",
              "      <td>[Larian Studios]</td>\n",
              "      <td>[Larian Studios]</td>\n",
              "      <td>False</td>\n",
              "      <td>False</td>\n",
              "      <td>1691035200000</td>\n",
              "      <td>1.601957e+12</td>\n",
              "      <td>AAA</td>\n",
              "    </tr>\n",
              "    <tr>\n",
              "      <th>1</th>\n",
              "      <td>271590</td>\n",
              "      <td>271590</td>\n",
              "      <td>Grand Theft Auto V</td>\n",
              "      <td>39.99</td>\n",
              "      <td>1640585</td>\n",
              "      <td>86</td>\n",
              "      <td>35118817</td>\n",
              "      <td>7.586372e+08</td>\n",
              "      <td>190.169759</td>\n",
              "      <td>[Open World, Action, Multiplayer, Crime, Autom...</td>\n",
              "      <td>[Action, Adventure]</td>\n",
              "      <td>[Single-player, Online PvP, Online Co-op, Stea...</td>\n",
              "      <td>[Rockstar North]</td>\n",
              "      <td>[Rockstar Games]</td>\n",
              "      <td>False</td>\n",
              "      <td>False</td>\n",
              "      <td>1428897600000</td>\n",
              "      <td>NaN</td>\n",
              "      <td>AAA</td>\n",
              "    </tr>\n",
              "    <tr>\n",
              "      <th>2</th>\n",
              "      <td>1091500</td>\n",
              "      <td>1091500</td>\n",
              "      <td>Cyberpunk 2077</td>\n",
              "      <td>59.99</td>\n",
              "      <td>653469</td>\n",
              "      <td>81</td>\n",
              "      <td>14072558</td>\n",
              "      <td>5.800287e+08</td>\n",
              "      <td>66.727864</td>\n",
              "      <td>[Cyberpunk, Open World, Nudity, RPG, Singlepla...</td>\n",
              "      <td>[RPG]</td>\n",
              "      <td>[Single-player, Steam Achievements, Steam Trad...</td>\n",
              "      <td>[CD PROJEKT RED]</td>\n",
              "      <td>[CD PROJEKT RED]</td>\n",
              "      <td>False</td>\n",
              "      <td>False</td>\n",
              "      <td>1607490000000</td>\n",
              "      <td>NaN</td>\n",
              "      <td>AAA</td>\n",
              "    </tr>\n",
              "    <tr>\n",
              "      <th>3</th>\n",
              "      <td>306130</td>\n",
              "      <td>306130</td>\n",
              "      <td>The Elder Scrolls® Online</td>\n",
              "      <td>19.99</td>\n",
              "      <td>137887</td>\n",
              "      <td>82</td>\n",
              "      <td>5226369</td>\n",
              "      <td>5.233994e+08</td>\n",
              "      <td>128.857166</td>\n",
              "      <td>[RPG, MMORPG, Open World, Fantasy, Adventure, ...</td>\n",
              "      <td>[Action, Adventure, Massively Multiplayer, RPG]</td>\n",
              "      <td>[MMO, Online PvP, Online Co-op, Steam Trading ...</td>\n",
              "      <td>[ZeniMax Online Studios]</td>\n",
              "      <td>[Bethesda Softworks]</td>\n",
              "      <td>False</td>\n",
              "      <td>False</td>\n",
              "      <td>1495425600000</td>\n",
              "      <td>1.404173e+12</td>\n",
              "      <td>AAA</td>\n",
              "    </tr>\n",
              "    <tr>\n",
              "      <th>4</th>\n",
              "      <td>359550</td>\n",
              "      <td>359550</td>\n",
              "      <td>Tom Clancy's Rainbow Six® Siege</td>\n",
              "      <td>19.99</td>\n",
              "      <td>1178856</td>\n",
              "      <td>86</td>\n",
              "      <td>21327664</td>\n",
              "      <td>4.976081e+08</td>\n",
              "      <td>218.986833</td>\n",
              "      <td>[FPS, PvP, eSports, Multiplayer, Tactical, Sho...</td>\n",
              "      <td>[Action]</td>\n",
              "      <td>[Single-player, Online PvP, Online Co-op, Stea...</td>\n",
              "      <td>[Ubisoft Montreal]</td>\n",
              "      <td>[Ubisoft]</td>\n",
              "      <td>False</td>\n",
              "      <td>False</td>\n",
              "      <td>1448946000000</td>\n",
              "      <td>NaN</td>\n",
              "      <td>AAA</td>\n",
              "    </tr>\n",
              "    <tr>\n",
              "      <th>...</th>\n",
              "      <td>...</td>\n",
              "      <td>...</td>\n",
              "      <td>...</td>\n",
              "      <td>...</td>\n",
              "      <td>...</td>\n",
              "      <td>...</td>\n",
              "      <td>...</td>\n",
              "      <td>...</td>\n",
              "      <td>...</td>\n",
              "      <td>...</td>\n",
              "      <td>...</td>\n",
              "      <td>...</td>\n",
              "      <td>...</td>\n",
              "      <td>...</td>\n",
              "      <td>...</td>\n",
              "      <td>...</td>\n",
              "      <td>...</td>\n",
              "      <td>...</td>\n",
              "      <td>...</td>\n",
              "    </tr>\n",
              "    <tr>\n",
              "      <th>195</th>\n",
              "      <td>431240</td>\n",
              "      <td>431240</td>\n",
              "      <td>Golf With Your Friends</td>\n",
              "      <td>14.99</td>\n",
              "      <td>58936</td>\n",
              "      <td>89</td>\n",
              "      <td>3734612</td>\n",
              "      <td>3.566563e+07</td>\n",
              "      <td>11.216670</td>\n",
              "      <td>[Multiplayer, Casual, Mini Golf, Sports, Golf,...</td>\n",
              "      <td>[Casual, Indie, Sports]</td>\n",
              "      <td>[Single-player, Online PvP, Shared/Split Scree...</td>\n",
              "      <td>[Blacklight Interactive, Team17]</td>\n",
              "      <td>[Team17]</td>\n",
              "      <td>False</td>\n",
              "      <td>False</td>\n",
              "      <td>1589860800000</td>\n",
              "      <td>1.451606e+12</td>\n",
              "      <td>AA</td>\n",
              "    </tr>\n",
              "    <tr>\n",
              "      <th>196</th>\n",
              "      <td>292730</td>\n",
              "      <td>292730</td>\n",
              "      <td>Call of Duty®: Infinite Warfare</td>\n",
              "      <td>59.99</td>\n",
              "      <td>25718</td>\n",
              "      <td>57</td>\n",
              "      <td>600697</td>\n",
              "      <td>3.555098e+07</td>\n",
              "      <td>22.269230</td>\n",
              "      <td>[Action, FPS, Multiplayer, Zombies, Space, Fut...</td>\n",
              "      <td>[Action, Adventure]</td>\n",
              "      <td>[Single-player, Online PvP, Online Co-op, Stea...</td>\n",
              "      <td>[Infinity Ward]</td>\n",
              "      <td>[Activision]</td>\n",
              "      <td>False</td>\n",
              "      <td>False</td>\n",
              "      <td>1478145600000</td>\n",
              "      <td>NaN</td>\n",
              "      <td>AAA</td>\n",
              "    </tr>\n",
              "    <tr>\n",
              "      <th>197</th>\n",
              "      <td>310950</td>\n",
              "      <td>310950</td>\n",
              "      <td>Street Fighter V</td>\n",
              "      <td>19.99</td>\n",
              "      <td>42075</td>\n",
              "      <td>67</td>\n",
              "      <td>1278316</td>\n",
              "      <td>3.535854e+07</td>\n",
              "      <td>44.706498</td>\n",
              "      <td>[Fighting, Action, 2D Fighter, Multiplayer, Co...</td>\n",
              "      <td>[Action]</td>\n",
              "      <td>[Single-player, Cross-Platform Multiplayer, St...</td>\n",
              "      <td>[CAPCOM Co., Ltd.]</td>\n",
              "      <td>[CAPCOM Co., Ltd.]</td>\n",
              "      <td>False</td>\n",
              "      <td>False</td>\n",
              "      <td>1455512400000</td>\n",
              "      <td>NaN</td>\n",
              "      <td>AAA</td>\n",
              "    </tr>\n",
              "    <tr>\n",
              "      <th>198</th>\n",
              "      <td>960090</td>\n",
              "      <td>960090</td>\n",
              "      <td>Bloons TD 6</td>\n",
              "      <td>13.99</td>\n",
              "      <td>275170</td>\n",
              "      <td>97</td>\n",
              "      <td>7209688</td>\n",
              "      <td>3.497538e+07</td>\n",
              "      <td>56.794273</td>\n",
              "      <td>[Tower Defense, Strategy, Multiplayer, Singlep...</td>\n",
              "      <td>[Strategy]</td>\n",
              "      <td>[Single-player, Online Co-op, Steam Achievemen...</td>\n",
              "      <td>[Ninja Kiwi]</td>\n",
              "      <td>[Ninja Kiwi]</td>\n",
              "      <td>False</td>\n",
              "      <td>False</td>\n",
              "      <td>1545022800000</td>\n",
              "      <td>NaN</td>\n",
              "      <td>Indie</td>\n",
              "    </tr>\n",
              "    <tr>\n",
              "      <th>199</th>\n",
              "      <td>851850</td>\n",
              "      <td>851850</td>\n",
              "      <td>DRAGON BALL Z: KAKAROT</td>\n",
              "      <td>59.99</td>\n",
              "      <td>43844</td>\n",
              "      <td>93</td>\n",
              "      <td>1143220</td>\n",
              "      <td>3.442234e+07</td>\n",
              "      <td>25.369536</td>\n",
              "      <td>[Action, RPG, Anime, Open World, Multiplayer, ...</td>\n",
              "      <td>[Action, RPG]</td>\n",
              "      <td>[Single-player, Online PvP, Steam Achievements...</td>\n",
              "      <td>[CyberConnect2 Co. Ltd.]</td>\n",
              "      <td>[Bandai Namco Entertainment Inc.]</td>\n",
              "      <td>False</td>\n",
              "      <td>False</td>\n",
              "      <td>1579150800000</td>\n",
              "      <td>NaN</td>\n",
              "      <td>AA</td>\n",
              "    </tr>\n",
              "  </tbody>\n",
              "</table>\n",
              "<p>200 rows × 19 columns</p>\n",
              "</div>\n",
              "    <div class=\"colab-df-buttons\">\n",
              "\n",
              "  <div class=\"colab-df-container\">\n",
              "    <button class=\"colab-df-convert\" onclick=\"convertToInteractive('df-dd8412f8-475b-4d36-9ecb-63635d916594')\"\n",
              "            title=\"Convert this dataframe to an interactive table.\"\n",
              "            style=\"display:none;\">\n",
              "\n",
              "  <svg xmlns=\"http://www.w3.org/2000/svg\" height=\"24px\" viewBox=\"0 -960 960 960\">\n",
              "    <path d=\"M120-120v-720h720v720H120Zm60-500h600v-160H180v160Zm220 220h160v-160H400v160Zm0 220h160v-160H400v160ZM180-400h160v-160H180v160Zm440 0h160v-160H620v160ZM180-180h160v-160H180v160Zm440 0h160v-160H620v160Z\"/>\n",
              "  </svg>\n",
              "    </button>\n",
              "\n",
              "  <style>\n",
              "    .colab-df-container {\n",
              "      display:flex;\n",
              "      gap: 12px;\n",
              "    }\n",
              "\n",
              "    .colab-df-convert {\n",
              "      background-color: #E8F0FE;\n",
              "      border: none;\n",
              "      border-radius: 50%;\n",
              "      cursor: pointer;\n",
              "      display: none;\n",
              "      fill: #1967D2;\n",
              "      height: 32px;\n",
              "      padding: 0 0 0 0;\n",
              "      width: 32px;\n",
              "    }\n",
              "\n",
              "    .colab-df-convert:hover {\n",
              "      background-color: #E2EBFA;\n",
              "      box-shadow: 0px 1px 2px rgba(60, 64, 67, 0.3), 0px 1px 3px 1px rgba(60, 64, 67, 0.15);\n",
              "      fill: #174EA6;\n",
              "    }\n",
              "\n",
              "    .colab-df-buttons div {\n",
              "      margin-bottom: 4px;\n",
              "    }\n",
              "\n",
              "    [theme=dark] .colab-df-convert {\n",
              "      background-color: #3B4455;\n",
              "      fill: #D2E3FC;\n",
              "    }\n",
              "\n",
              "    [theme=dark] .colab-df-convert:hover {\n",
              "      background-color: #434B5C;\n",
              "      box-shadow: 0px 1px 3px 1px rgba(0, 0, 0, 0.15);\n",
              "      filter: drop-shadow(0px 1px 2px rgba(0, 0, 0, 0.3));\n",
              "      fill: #FFFFFF;\n",
              "    }\n",
              "  </style>\n",
              "\n",
              "    <script>\n",
              "      const buttonEl =\n",
              "        document.querySelector('#df-dd8412f8-475b-4d36-9ecb-63635d916594 button.colab-df-convert');\n",
              "      buttonEl.style.display =\n",
              "        google.colab.kernel.accessAllowed ? 'block' : 'none';\n",
              "\n",
              "      async function convertToInteractive(key) {\n",
              "        const element = document.querySelector('#df-dd8412f8-475b-4d36-9ecb-63635d916594');\n",
              "        const dataTable =\n",
              "          await google.colab.kernel.invokeFunction('convertToInteractive',\n",
              "                                                    [key], {});\n",
              "        if (!dataTable) return;\n",
              "\n",
              "        const docLinkHtml = 'Like what you see? Visit the ' +\n",
              "          '<a target=\"_blank\" href=https://colab.research.google.com/notebooks/data_table.ipynb>data table notebook</a>'\n",
              "          + ' to learn more about interactive tables.';\n",
              "        element.innerHTML = '';\n",
              "        dataTable['output_type'] = 'display_data';\n",
              "        await google.colab.output.renderOutput(dataTable, element);\n",
              "        const docLink = document.createElement('div');\n",
              "        docLink.innerHTML = docLinkHtml;\n",
              "        element.appendChild(docLink);\n",
              "      }\n",
              "    </script>\n",
              "  </div>\n",
              "\n",
              "\n",
              "<div id=\"df-f6d3094a-a449-42c1-8ff2-ec20ce8a0cfa\">\n",
              "  <button class=\"colab-df-quickchart\" onclick=\"quickchart('df-f6d3094a-a449-42c1-8ff2-ec20ce8a0cfa')\"\n",
              "            title=\"Suggest charts\"\n",
              "            style=\"display:none;\">\n",
              "\n",
              "<svg xmlns=\"http://www.w3.org/2000/svg\" height=\"24px\"viewBox=\"0 0 24 24\"\n",
              "     width=\"24px\">\n",
              "    <g>\n",
              "        <path d=\"M19 3H5c-1.1 0-2 .9-2 2v14c0 1.1.9 2 2 2h14c1.1 0 2-.9 2-2V5c0-1.1-.9-2-2-2zM9 17H7v-7h2v7zm4 0h-2V7h2v10zm4 0h-2v-4h2v4z\"/>\n",
              "    </g>\n",
              "</svg>\n",
              "  </button>\n",
              "\n",
              "<style>\n",
              "  .colab-df-quickchart {\n",
              "      --bg-color: #E8F0FE;\n",
              "      --fill-color: #1967D2;\n",
              "      --hover-bg-color: #E2EBFA;\n",
              "      --hover-fill-color: #174EA6;\n",
              "      --disabled-fill-color: #AAA;\n",
              "      --disabled-bg-color: #DDD;\n",
              "  }\n",
              "\n",
              "  [theme=dark] .colab-df-quickchart {\n",
              "      --bg-color: #3B4455;\n",
              "      --fill-color: #D2E3FC;\n",
              "      --hover-bg-color: #434B5C;\n",
              "      --hover-fill-color: #FFFFFF;\n",
              "      --disabled-bg-color: #3B4455;\n",
              "      --disabled-fill-color: #666;\n",
              "  }\n",
              "\n",
              "  .colab-df-quickchart {\n",
              "    background-color: var(--bg-color);\n",
              "    border: none;\n",
              "    border-radius: 50%;\n",
              "    cursor: pointer;\n",
              "    display: none;\n",
              "    fill: var(--fill-color);\n",
              "    height: 32px;\n",
              "    padding: 0;\n",
              "    width: 32px;\n",
              "  }\n",
              "\n",
              "  .colab-df-quickchart:hover {\n",
              "    background-color: var(--hover-bg-color);\n",
              "    box-shadow: 0 1px 2px rgba(60, 64, 67, 0.3), 0 1px 3px 1px rgba(60, 64, 67, 0.15);\n",
              "    fill: var(--button-hover-fill-color);\n",
              "  }\n",
              "\n",
              "  .colab-df-quickchart-complete:disabled,\n",
              "  .colab-df-quickchart-complete:disabled:hover {\n",
              "    background-color: var(--disabled-bg-color);\n",
              "    fill: var(--disabled-fill-color);\n",
              "    box-shadow: none;\n",
              "  }\n",
              "\n",
              "  .colab-df-spinner {\n",
              "    border: 2px solid var(--fill-color);\n",
              "    border-color: transparent;\n",
              "    border-bottom-color: var(--fill-color);\n",
              "    animation:\n",
              "      spin 1s steps(1) infinite;\n",
              "  }\n",
              "\n",
              "  @keyframes spin {\n",
              "    0% {\n",
              "      border-color: transparent;\n",
              "      border-bottom-color: var(--fill-color);\n",
              "      border-left-color: var(--fill-color);\n",
              "    }\n",
              "    20% {\n",
              "      border-color: transparent;\n",
              "      border-left-color: var(--fill-color);\n",
              "      border-top-color: var(--fill-color);\n",
              "    }\n",
              "    30% {\n",
              "      border-color: transparent;\n",
              "      border-left-color: var(--fill-color);\n",
              "      border-top-color: var(--fill-color);\n",
              "      border-right-color: var(--fill-color);\n",
              "    }\n",
              "    40% {\n",
              "      border-color: transparent;\n",
              "      border-right-color: var(--fill-color);\n",
              "      border-top-color: var(--fill-color);\n",
              "    }\n",
              "    60% {\n",
              "      border-color: transparent;\n",
              "      border-right-color: var(--fill-color);\n",
              "    }\n",
              "    80% {\n",
              "      border-color: transparent;\n",
              "      border-right-color: var(--fill-color);\n",
              "      border-bottom-color: var(--fill-color);\n",
              "    }\n",
              "    90% {\n",
              "      border-color: transparent;\n",
              "      border-bottom-color: var(--fill-color);\n",
              "    }\n",
              "  }\n",
              "</style>\n",
              "\n",
              "  <script>\n",
              "    async function quickchart(key) {\n",
              "      const quickchartButtonEl =\n",
              "        document.querySelector('#' + key + ' button');\n",
              "      quickchartButtonEl.disabled = true;  // To prevent multiple clicks.\n",
              "      quickchartButtonEl.classList.add('colab-df-spinner');\n",
              "      try {\n",
              "        const charts = await google.colab.kernel.invokeFunction(\n",
              "            'suggestCharts', [key], {});\n",
              "      } catch (error) {\n",
              "        console.error('Error during call to suggestCharts:', error);\n",
              "      }\n",
              "      quickchartButtonEl.classList.remove('colab-df-spinner');\n",
              "      quickchartButtonEl.classList.add('colab-df-quickchart-complete');\n",
              "    }\n",
              "    (() => {\n",
              "      let quickchartButtonEl =\n",
              "        document.querySelector('#df-f6d3094a-a449-42c1-8ff2-ec20ce8a0cfa button');\n",
              "      quickchartButtonEl.style.display =\n",
              "        google.colab.kernel.accessAllowed ? 'block' : 'none';\n",
              "    })();\n",
              "  </script>\n",
              "</div>\n",
              "\n",
              "  <div id=\"id_4d7af0f2-873c-448f-87f5-6986e3f16932\">\n",
              "    <style>\n",
              "      .colab-df-generate {\n",
              "        background-color: #E8F0FE;\n",
              "        border: none;\n",
              "        border-radius: 50%;\n",
              "        cursor: pointer;\n",
              "        display: none;\n",
              "        fill: #1967D2;\n",
              "        height: 32px;\n",
              "        padding: 0 0 0 0;\n",
              "        width: 32px;\n",
              "      }\n",
              "\n",
              "      .colab-df-generate:hover {\n",
              "        background-color: #E2EBFA;\n",
              "        box-shadow: 0px 1px 2px rgba(60, 64, 67, 0.3), 0px 1px 3px 1px rgba(60, 64, 67, 0.15);\n",
              "        fill: #174EA6;\n",
              "      }\n",
              "\n",
              "      [theme=dark] .colab-df-generate {\n",
              "        background-color: #3B4455;\n",
              "        fill: #D2E3FC;\n",
              "      }\n",
              "\n",
              "      [theme=dark] .colab-df-generate:hover {\n",
              "        background-color: #434B5C;\n",
              "        box-shadow: 0px 1px 3px 1px rgba(0, 0, 0, 0.15);\n",
              "        filter: drop-shadow(0px 1px 2px rgba(0, 0, 0, 0.3));\n",
              "        fill: #FFFFFF;\n",
              "      }\n",
              "    </style>\n",
              "    <button class=\"colab-df-generate\" onclick=\"generateWithVariable('df')\"\n",
              "            title=\"Generate code using this dataframe.\"\n",
              "            style=\"display:none;\">\n",
              "\n",
              "  <svg xmlns=\"http://www.w3.org/2000/svg\" height=\"24px\"viewBox=\"0 0 24 24\"\n",
              "       width=\"24px\">\n",
              "    <path d=\"M7,19H8.4L18.45,9,17,7.55,7,17.6ZM5,21V16.75L18.45,3.32a2,2,0,0,1,2.83,0l1.4,1.43a1.91,1.91,0,0,1,.58,1.4,1.91,1.91,0,0,1-.58,1.4L9.25,21ZM18.45,9,17,7.55Zm-12,3A5.31,5.31,0,0,0,4.9,8.1,5.31,5.31,0,0,0,1,6.5,5.31,5.31,0,0,0,4.9,4.9,5.31,5.31,0,0,0,6.5,1,5.31,5.31,0,0,0,8.1,4.9,5.31,5.31,0,0,0,12,6.5,5.46,5.46,0,0,0,6.5,12Z\"/>\n",
              "  </svg>\n",
              "    </button>\n",
              "    <script>\n",
              "      (() => {\n",
              "      const buttonEl =\n",
              "        document.querySelector('#id_4d7af0f2-873c-448f-87f5-6986e3f16932 button.colab-df-generate');\n",
              "      buttonEl.style.display =\n",
              "        google.colab.kernel.accessAllowed ? 'block' : 'none';\n",
              "\n",
              "      buttonEl.onclick = () => {\n",
              "        google.colab.notebook.generateWithVariable('df');\n",
              "      }\n",
              "      })();\n",
              "    </script>\n",
              "  </div>\n",
              "\n",
              "    </div>\n",
              "  </div>\n"
            ],
            "application/vnd.google.colaboratory.intrinsic+json": {
              "type": "dataframe",
              "variable_name": "df",
              "summary": "{\n  \"name\": \"df\",\n  \"rows\": 200,\n  \"fields\": [\n    {\n      \"column\": \"steamId\",\n      \"properties\": {\n        \"dtype\": \"number\",\n        \"std\": 536849,\n        \"min\": 12210,\n        \"max\": 2519060,\n        \"num_unique_values\": 200,\n        \"samples\": [\n          356190,\n          275850,\n          311210\n        ],\n        \"semantic_type\": \"\",\n        \"description\": \"\"\n      }\n    },\n    {\n      \"column\": \"id\",\n      \"properties\": {\n        \"dtype\": \"number\",\n        \"std\": 536849,\n        \"min\": 12210,\n        \"max\": 2519060,\n        \"num_unique_values\": 200,\n        \"samples\": [\n          356190,\n          275850,\n          311210\n        ],\n        \"semantic_type\": \"\",\n        \"description\": \"\"\n      }\n    },\n    {\n      \"column\": \"name\",\n      \"properties\": {\n        \"dtype\": \"string\",\n        \"num_unique_values\": 200,\n        \"samples\": [\n          \"Middle-earth\\u2122: Shadow of War\\u2122\",\n          \"No Man's Sky\",\n          \"Call of Duty\\u00ae: Black Ops III\"\n        ],\n        \"semantic_type\": \"\",\n        \"description\": \"\"\n      }\n    },\n    {\n      \"column\": \"price\",\n      \"properties\": {\n        \"dtype\": \"number\",\n        \"std\": 16.10595125494403,\n        \"min\": 4.99,\n        \"max\": 69.99,\n        \"num_unique_values\": 15,\n        \"samples\": [\n          9.99,\n          24.99,\n          59.99\n        ],\n        \"semantic_type\": \"\",\n        \"description\": \"\"\n      }\n    },\n    {\n      \"column\": \"reviews\",\n      \"properties\": {\n        \"dtype\": \"number\",\n        \"std\": 197397,\n        \"min\": 8525,\n        \"max\": 1640585,\n        \"num_unique_values\": 200,\n        \"samples\": [\n          90165,\n          276995,\n          180650\n        ],\n        \"semantic_type\": \"\",\n        \"description\": \"\"\n      }\n    },\n    {\n      \"column\": \"reviewScore\",\n      \"properties\": {\n        \"dtype\": \"number\",\n        \"std\": 16,\n        \"min\": 0,\n        \"max\": 99,\n        \"num_unique_values\": 44,\n        \"samples\": [\n          59,\n          61,\n          64\n        ],\n        \"semantic_type\": \"\",\n        \"description\": \"\"\n      }\n    },\n    {\n      \"column\": \"copiesSold\",\n      \"properties\": {\n        \"dtype\": \"number\",\n        \"std\": 4702706,\n        \"min\": 600697,\n        \"max\": 35118817,\n        \"num_unique_values\": 200,\n        \"samples\": [\n          3874439,\n          5949624,\n          4874587\n        ],\n        \"semantic_type\": \"\",\n        \"description\": \"\"\n      }\n    },\n    {\n      \"column\": \"revenue\",\n      \"properties\": {\n        \"dtype\": \"number\",\n        \"std\": 114909686.33076349,\n        \"min\": 34422340.0,\n        \"max\": 838653230.0,\n        \"num_unique_values\": 200,\n        \"samples\": [\n          72934275.0,\n          221977875.0,\n          170221262.70571002\n        ],\n        \"semantic_type\": \"\",\n        \"description\": \"\"\n      }\n    },\n    {\n      \"column\": \"avgPlaytime\",\n      \"properties\": {\n        \"dtype\": \"number\",\n        \"std\": 47.68538148170053,\n        \"min\": 0.0,\n        \"max\": 358.8298266932,\n        \"num_unique_values\": 200,\n        \"samples\": [\n          33.084472549,\n          49.4362406065,\n          59.9059184454\n        ],\n        \"semantic_type\": \"\",\n        \"description\": \"\"\n      }\n    },\n    {\n      \"column\": \"tags\",\n      \"properties\": {\n        \"dtype\": \"object\",\n        \"semantic_type\": \"\",\n        \"description\": \"\"\n      }\n    },\n    {\n      \"column\": \"genres\",\n      \"properties\": {\n        \"dtype\": \"object\",\n        \"semantic_type\": \"\",\n        \"description\": \"\"\n      }\n    },\n    {\n      \"column\": \"features\",\n      \"properties\": {\n        \"dtype\": \"object\",\n        \"semantic_type\": \"\",\n        \"description\": \"\"\n      }\n    },\n    {\n      \"column\": \"developers\",\n      \"properties\": {\n        \"dtype\": \"object\",\n        \"semantic_type\": \"\",\n        \"description\": \"\"\n      }\n    },\n    {\n      \"column\": \"publishers\",\n      \"properties\": {\n        \"dtype\": \"object\",\n        \"semantic_type\": \"\",\n        \"description\": \"\"\n      }\n    },\n    {\n      \"column\": \"unreleased\",\n      \"properties\": {\n        \"dtype\": \"boolean\",\n        \"num_unique_values\": 1,\n        \"samples\": [\n          false\n        ],\n        \"semantic_type\": \"\",\n        \"description\": \"\"\n      }\n    },\n    {\n      \"column\": \"earlyAccess\",\n      \"properties\": {\n        \"dtype\": \"boolean\",\n        \"num_unique_values\": 2,\n        \"samples\": [\n          true\n        ],\n        \"semantic_type\": \"\",\n        \"description\": \"\"\n      }\n    },\n    {\n      \"column\": \"releaseDate\",\n      \"properties\": {\n        \"dtype\": \"number\",\n        \"std\": 83532341174,\n        \"min\": 1425960000000,\n        \"max\": 1714104000000,\n        \"num_unique_values\": 190,\n        \"samples\": [\n          1581656400000\n        ],\n        \"semantic_type\": \"\",\n        \"description\": \"\"\n      }\n    },\n    {\n      \"column\": \"EAReleaseDate\",\n      \"properties\": {\n        \"dtype\": \"number\",\n        \"std\": 109514112666.32506,\n        \"min\": 1285891200000.0,\n        \"max\": 1714104000000.0,\n        \"num_unique_values\": 58,\n        \"samples\": [\n          1601956800000.0\n        ],\n        \"semantic_type\": \"\",\n        \"description\": \"\"\n      }\n    },\n    {\n      \"column\": \"publisherClass\",\n      \"properties\": {\n        \"dtype\": \"category\",\n        \"num_unique_values\": 3,\n        \"samples\": [\n          \"AAA\"\n        ],\n        \"semantic_type\": \"\",\n        \"description\": \"\"\n      }\n    }\n  ]\n}"
            }
          },
          "metadata": {},
          "execution_count": 10
        }
      ]
    },
    {
      "cell_type": "markdown",
      "source": [
        "### Steam Descriptions and Historical Copies Sold"
      ],
      "metadata": {
        "id": "NCSkhRwsDfCk"
      }
    },
    {
      "cell_type": "markdown",
      "source": [
        "In order to gather the data regarding game descriptions, we'll need to utilize another API, the Steam app details API. This will require querying on the individual steamId of the games that we currently have. So, we take the ids from the dataframe of the 200 games that we have gathered from the API and convert it into a list to be used down the line."
      ],
      "metadata": {
        "id": "SlBHsBOTDrAp"
      }
    },
    {
      "cell_type": "code",
      "source": [
        "id_list = list(df[\"steamId\"])"
      ],
      "metadata": {
        "id": "WmHh8c8N297R"
      },
      "execution_count": null,
      "outputs": []
    },
    {
      "cell_type": "markdown",
      "source": [
        "We import the BeautifulSoup package in order to parse any HTML remnants that are common within descriptions that are retrieved from the Steam API. However, some of the HTML might be a good indicator for sales such as the amount of images or links within the description. So we make sure to count those in our parsing function."
      ],
      "metadata": {
        "id": "77gaCdpIE1ny"
      }
    },
    {
      "cell_type": "code",
      "source": [
        "from bs4 import BeautifulSoup\n",
        "\n",
        "def getdesc(description, id):\n",
        "  description = {k: description[str(id)]['data'][k] for k in ('steam_appid', 'about_the_game')}\n",
        "  description[\"steamId\"] = description.pop('steam_appid')\n",
        "  soup = BeautifulSoup(description['about_the_game'], 'html.parser')\n",
        "  description['about_the_game'] = soup.get_text(separator=\" \").strip()\n",
        "  description[\"img_count\"] = len(soup.find_all('img'))\n",
        "  description[\"link_count\"] = len(soup.find_all('a'))\n",
        "  return description"
      ],
      "metadata": {
        "id": "bEGPdYchtEqf"
      },
      "execution_count": null,
      "outputs": []
    },
    {
      "cell_type": "markdown",
      "source": [
        "An example of a singular parse result is shown below:"
      ],
      "metadata": {
        "id": "aQL6sIHrFNxh"
      }
    },
    {
      "cell_type": "code",
      "source": [
        "\"\"\"\n",
        "description = r.json()\n",
        "getdesc(description, id_list[2])\n",
        "\"\"\""
      ],
      "metadata": {
        "colab": {
          "base_uri": "https://localhost:8080/"
        },
        "id": "HYEn2cHLtbcK",
        "outputId": "f5b8adde-2f9d-43ff-e559-fc1cf540247b"
      },
      "execution_count": null,
      "outputs": [
        {
          "output_type": "execute_result",
          "data": {
            "text/plain": [
              "{'about_the_game': 'Cyberpunk 2077 is an open-world, action-adventure RPG set in the megalopolis of Night City, where you play as a cyberpunk mercenary wrapped up in a do-or-die fight for survival. Improved and featuring all-new free additional content, customize your character and playstyle as you take on jobs, build a reputation, and unlock upgrades. The relationships you forge and the choices you make will shape the story and the world around you. Legends are made here. What will yours be? IMMERSE YOURSELF WITH UPDATE 2.1 Night City feels more alive than ever with the free Update 2.1! Take a ride on the fully functional NCART metro system, listen to music as you explore the city with the Radioport, hang out with your partner in V’s apartment, compete in replayable races, ride new vehicles, enjoy improved bike combat and handling, discover hiddens secrets and much, much more! CREATE YOUR OWN CYBERPUNK Become an urban outlaw equipped with cybernetic enhancements and build your legend on the streets of Night City. EXPLORE THE CITY OF THE FUTURE Night City is packed to the brim with things to do, places to see, and people to meet. And it’s up to you where to go, when to go, and how to get there. BUILD YOUR LEGEND Go on daring adventures and build relationships with unforgettable characters whose fates are shaped by the choices you make. EQUIPPED WITH IMPROVEMENTS Experience Cyberpunk 2077 with a host of changes and improvements to gameplay and economy, the city, map usage, and more. CLAIM EXCLUSIVE ITEMS Claim in-game swag & digital goodies inspired by CD PROJEKT RED games as part of the My Rewards program. GO TO  CYBERPUNK.NET',\n",
              " 'steamId': 1091500,\n",
              " 'img_count': 8,\n",
              " 'link_count': 1}"
            ]
          },
          "metadata": {},
          "execution_count": 192
        }
      ]
    },
    {
      "cell_type": "markdown",
      "source": [
        "We also want to attempt to take into account the fact that some games will be selling more just from the fact that they've been out longer. Finding an alternate response variable of historical unit sales from around 30 days after release will allow us to mitigate the advantage older games get just from existing longer. To do this we call another gamalytic API which gives us historical data over multiple different unix timestamps, we find the first unix time stamp that is greater than a month old (the range here is usually 1-1.5 months after release) and use that as a historical price indicator."
      ],
      "metadata": {
        "id": "ZHzV39-1FSq1"
      }
    },
    {
      "cell_type": "code",
      "source": [
        "def findmonth(timestamps):\n",
        "  if abs(timestamps['history'][-1]['timeStamp'] - timestamps['releaseDate']) <= 2629743000:\n",
        "    print(\"what\")\n",
        "    hist_price = timestamps['history'][-1]\n",
        "    hist_price[\"steamId\"] = int(timestamps[\"steamId\"])\n",
        "    return hist_price\n",
        "  for i in range(1,len(timestamps['history'])):\n",
        "    if abs(timestamps['history'][0]['timeStamp'] - timestamps['history'][i]['timeStamp']) >= 2629743000:\n",
        "      hist_price = timestamps['history'][i]\n",
        "      hist_price[\"steamId\"] = int(timestamps[\"steamId\"])\n",
        "      return hist_price"
      ],
      "metadata": {
        "id": "u7-AyOhZXKir"
      },
      "execution_count": null,
      "outputs": []
    },
    {
      "cell_type": "markdown",
      "source": [
        "An example of the results from a singular call is shown below."
      ],
      "metadata": {
        "id": "NotDLZftJcpb"
      }
    },
    {
      "cell_type": "code",
      "source": [
        "\"\"\"\n",
        "timestamps = r.json()\n",
        "findmonth(timestamps)\n",
        "\"\"\""
      ],
      "metadata": {
        "colab": {
          "base_uri": "https://localhost:8080/"
        },
        "id": "CMnPtbzvrkTi",
        "outputId": "24b92075-2fc2-4d8f-f58f-71826ef3bd1d"
      },
      "execution_count": null,
      "outputs": [
        {
          "output_type": "execute_result",
          "data": {
            "text/plain": [
              "{'timeStamp': 1679889883569,\n",
              " 'reviews': 103815,\n",
              " 'price': 29.99,\n",
              " 'score': 81,\n",
              " 'rank': 8,\n",
              " 'players': 22892.14285714286,\n",
              " 'sales': 4855906,\n",
              " 'revenue': 125325077,\n",
              " 'steamId': 1326470}"
            ]
          },
          "metadata": {},
          "execution_count": 317
        }
      ]
    },
    {
      "cell_type": "markdown",
      "source": [
        "Now we put together our parsing and processing functions inside another function which calls both the Steam and gamalytic apis every half a second after processing has completed. It retains features from the previous function such as being able to save on error and saving upon completion."
      ],
      "metadata": {
        "id": "uojhNRFuJhFK"
      }
    },
    {
      "cell_type": "code",
      "source": [
        "def dual_requests(id_list = id_list, timeout = 10):\n",
        "  url2 = \"https://store.steampowered.com/api/appdetails\"\n",
        "  payload2 = {\"filters\": \"basic\"}\n",
        "\n",
        "  request_list1 = []\n",
        "  request_list2 = []\n",
        "\n",
        "  for game in id_list:\n",
        "    url1 = f'https://api.gamalytic.com/game/{game}'\n",
        "    payload2[\"appids\"] = game\n",
        "    try:\n",
        "      r1 = requests.get(url1, timeout = timeout)\n",
        "      r2 = requests.get(url2, params=payload2, timeout = timeout)\n",
        "    except requests.exceptions.Timeout:\n",
        "      index = id_list.index(game)\n",
        "      print(f\"Timed out on id index {index}\")\n",
        "      with open(f'{drive}/erroratindex{index}1.json', 'w') as f:\n",
        "        f.write(json.dumps(request_list1))\n",
        "      with open(f'{drive}/erroratindex{index}2.json', 'w') as f:\n",
        "        f.write(json.dumps(request_list1))\n",
        "      return request_list1, request_list2\n",
        "\n",
        "    request_list1.append(findmonth(r1.json()))\n",
        "    request_list2.append(getdesc(r2.json(), game))\n",
        "    time.sleep(0.5)\n",
        "\n",
        "  with open(f'{drive}/completedpagedquery1.json', 'w') as f:\n",
        "    f.write(json.dumps(request_list1))\n",
        "  with open(f'{drive}/completedpagedquery2.json', 'w') as f:\n",
        "    f.write(json.dumps(request_list2))\n",
        "  return request_list1, request_list2"
      ],
      "metadata": {
        "id": "xABaleIFVvC5"
      },
      "execution_count": null,
      "outputs": []
    },
    {
      "cell_type": "markdown",
      "source": [
        "Like before we have uploaded the query results onto GitHub for easier access and this project can be reproduced by simply downloading these files below:"
      ],
      "metadata": {
        "id": "AbOOnENNJwNU"
      }
    },
    {
      "cell_type": "code",
      "source": [
        "\"\"\"\n",
        "timestamps,descriptions = dual_requests(id_list = id_list)\n",
        "\"\"\"\n",
        "\n",
        "!wget https://github.com/abnormalPotassium/DATA620/raw/main/Project%20Final/completedpagedquery1.json && wget https://github.com/abnormalPotassium/DATA620/raw/main/Project%20Final/completedpagedquery2.json"
      ],
      "metadata": {
        "id": "F-qIwdlUcfyB",
        "colab": {
          "base_uri": "https://localhost:8080/"
        },
        "outputId": "a18d20d7-b9ca-45b6-bd90-a69cb5785971"
      },
      "execution_count": 4,
      "outputs": [
        {
          "output_type": "stream",
          "name": "stdout",
          "text": [
            "--2024-05-17 23:33:56--  https://github.com/abnormalPotassium/DATA620/raw/main/Project%20Final/completedpagedquery1.json\n",
            "Resolving github.com (github.com)... 140.82.112.4\n",
            "Connecting to github.com (github.com)|140.82.112.4|:443... connected.\n",
            "HTTP request sent, awaiting response... 302 Found\n",
            "Location: https://raw.githubusercontent.com/abnormalPotassium/DATA620/main/Project%20Final/completedpagedquery1.json [following]\n",
            "--2024-05-17 23:33:57--  https://raw.githubusercontent.com/abnormalPotassium/DATA620/main/Project%20Final/completedpagedquery1.json\n",
            "Resolving raw.githubusercontent.com (raw.githubusercontent.com)... 185.199.108.133, 185.199.109.133, 185.199.110.133, ...\n",
            "Connecting to raw.githubusercontent.com (raw.githubusercontent.com)|185.199.108.133|:443... connected.\n",
            "HTTP request sent, awaiting response... 200 OK\n",
            "Length: 36626 (36K) [text/plain]\n",
            "Saving to: ‘completedpagedquery1.json’\n",
            "\n",
            "completedpagedquery 100%[===================>]  35.77K  --.-KB/s    in 0.01s   \n",
            "\n",
            "2024-05-17 23:33:57 (3.27 MB/s) - ‘completedpagedquery1.json’ saved [36626/36626]\n",
            "\n",
            "--2024-05-17 23:33:57--  https://github.com/abnormalPotassium/DATA620/raw/main/Project%20Final/completedpagedquery2.json\n",
            "Resolving github.com (github.com)... 140.82.112.4\n",
            "Connecting to github.com (github.com)|140.82.112.4|:443... connected.\n",
            "HTTP request sent, awaiting response... 302 Found\n",
            "Location: https://raw.githubusercontent.com/abnormalPotassium/DATA620/main/Project%20Final/completedpagedquery2.json [following]\n",
            "--2024-05-17 23:33:57--  https://raw.githubusercontent.com/abnormalPotassium/DATA620/main/Project%20Final/completedpagedquery2.json\n",
            "Resolving raw.githubusercontent.com (raw.githubusercontent.com)... 185.199.108.133, 185.199.109.133, 185.199.110.133, ...\n",
            "Connecting to raw.githubusercontent.com (raw.githubusercontent.com)|185.199.108.133|:443... connected.\n",
            "HTTP request sent, awaiting response... 200 OK\n",
            "Length: 449046 (439K) [text/plain]\n",
            "Saving to: ‘completedpagedquery2.json’\n",
            "\n",
            "completedpagedquery 100%[===================>] 438.52K  --.-KB/s    in 0.05s   \n",
            "\n",
            "2024-05-17 23:33:57 (9.44 MB/s) - ‘completedpagedquery2.json’ saved [449046/449046]\n",
            "\n"
          ]
        }
      ]
    },
    {
      "cell_type": "markdown",
      "source": [
        "We load both query result files into pandas dataframes and preview what they look like. We can see that df1 has a decent amount of excess information like rank, followers, etc which we want to trim later on."
      ],
      "metadata": {
        "id": "lGMITPHHJ80s"
      }
    },
    {
      "cell_type": "code",
      "source": [
        "df1 = pd.read_json(\"completedpagedquery1.json\")\n",
        "df2 = pd.read_json(\"completedpagedquery2.json\")"
      ],
      "metadata": {
        "id": "17N7FLRn2gXI"
      },
      "execution_count": 5,
      "outputs": []
    },
    {
      "cell_type": "code",
      "source": [
        "df1"
      ],
      "metadata": {
        "colab": {
          "base_uri": "https://localhost:8080/",
          "height": 424
        },
        "id": "M37ERiDyA_zp",
        "outputId": "920c2bdc-774d-47cd-de83-4a41836053b3"
      },
      "execution_count": 6,
      "outputs": [
        {
          "output_type": "execute_result",
          "data": {
            "text/plain": [
              "                  timeStamp  reviews  price      score       players  \\\n",
              "0   2020-12-01 05:00:00.000    28169  59.99  88.999966   4831.348504   \n",
              "1   2024-05-07 06:26:56.409  1632508   0.00  92.000000  52077.000000   \n",
              "2   2024-05-07 05:31:27.344   649930  59.99  94.000000  15309.000000   \n",
              "3   2015-02-02 00:00:00.000     1024  59.99  81.000485    907.869089   \n",
              "4   2024-05-06 10:32:59.826  1085195  19.99  77.000000  38523.000000   \n",
              "..                      ...      ...    ...        ...           ...   \n",
              "195 2016-02-02 00:00:00.000      172   5.39  98.000000     69.363436   \n",
              "196 2024-05-07 05:09:05.067    14505  59.99  86.000000    246.000000   \n",
              "197 2024-05-06 09:30:24.148    26924  19.99  76.000000    192.000000   \n",
              "198 2024-05-07 05:00:23.050   269741  13.99  96.000000   7629.000000   \n",
              "199 2024-05-07 05:47:36.442    37146  59.99  93.000000    586.000000   \n",
              "\n",
              "        sales      revenue  steamId    rank  followers  \n",
              "0     1504620   79542168.0  1086940     NaN        NaN  \n",
              "1    39394460          NaN   271590    41.0  3106521.0  \n",
              "2    14080902  580349985.0  1091500    53.0  1405847.0  \n",
              "3       39870    1471040.0   306130     NaN        NaN  \n",
              "4    21336380  203473302.0   359550    31.0  1233525.0  \n",
              "..        ...          ...      ...     ...        ...  \n",
              "195     20942     105998.0   431240     NaN        NaN  \n",
              "196    601660   24392556.0   292730  1435.0    69292.0  \n",
              "197   1278519   19755011.0   310950  1875.0   120733.0  \n",
              "198   7213041   35062034.0   960090   192.0    79064.0  \n",
              "199   1143118   34420678.0   851850   629.0   146854.0  \n",
              "\n",
              "[200 rows x 10 columns]"
            ],
            "text/html": [
              "\n",
              "  <div id=\"df-015fcddd-84be-44eb-92c1-a9639a74c26c\" class=\"colab-df-container\">\n",
              "    <div>\n",
              "<style scoped>\n",
              "    .dataframe tbody tr th:only-of-type {\n",
              "        vertical-align: middle;\n",
              "    }\n",
              "\n",
              "    .dataframe tbody tr th {\n",
              "        vertical-align: top;\n",
              "    }\n",
              "\n",
              "    .dataframe thead th {\n",
              "        text-align: right;\n",
              "    }\n",
              "</style>\n",
              "<table border=\"1\" class=\"dataframe\">\n",
              "  <thead>\n",
              "    <tr style=\"text-align: right;\">\n",
              "      <th></th>\n",
              "      <th>timeStamp</th>\n",
              "      <th>reviews</th>\n",
              "      <th>price</th>\n",
              "      <th>score</th>\n",
              "      <th>players</th>\n",
              "      <th>sales</th>\n",
              "      <th>revenue</th>\n",
              "      <th>steamId</th>\n",
              "      <th>rank</th>\n",
              "      <th>followers</th>\n",
              "    </tr>\n",
              "  </thead>\n",
              "  <tbody>\n",
              "    <tr>\n",
              "      <th>0</th>\n",
              "      <td>2020-12-01 05:00:00.000</td>\n",
              "      <td>28169</td>\n",
              "      <td>59.99</td>\n",
              "      <td>88.999966</td>\n",
              "      <td>4831.348504</td>\n",
              "      <td>1504620</td>\n",
              "      <td>79542168.0</td>\n",
              "      <td>1086940</td>\n",
              "      <td>NaN</td>\n",
              "      <td>NaN</td>\n",
              "    </tr>\n",
              "    <tr>\n",
              "      <th>1</th>\n",
              "      <td>2024-05-07 06:26:56.409</td>\n",
              "      <td>1632508</td>\n",
              "      <td>0.00</td>\n",
              "      <td>92.000000</td>\n",
              "      <td>52077.000000</td>\n",
              "      <td>39394460</td>\n",
              "      <td>NaN</td>\n",
              "      <td>271590</td>\n",
              "      <td>41.0</td>\n",
              "      <td>3106521.0</td>\n",
              "    </tr>\n",
              "    <tr>\n",
              "      <th>2</th>\n",
              "      <td>2024-05-07 05:31:27.344</td>\n",
              "      <td>649930</td>\n",
              "      <td>59.99</td>\n",
              "      <td>94.000000</td>\n",
              "      <td>15309.000000</td>\n",
              "      <td>14080902</td>\n",
              "      <td>580349985.0</td>\n",
              "      <td>1091500</td>\n",
              "      <td>53.0</td>\n",
              "      <td>1405847.0</td>\n",
              "    </tr>\n",
              "    <tr>\n",
              "      <th>3</th>\n",
              "      <td>2015-02-02 00:00:00.000</td>\n",
              "      <td>1024</td>\n",
              "      <td>59.99</td>\n",
              "      <td>81.000485</td>\n",
              "      <td>907.869089</td>\n",
              "      <td>39870</td>\n",
              "      <td>1471040.0</td>\n",
              "      <td>306130</td>\n",
              "      <td>NaN</td>\n",
              "      <td>NaN</td>\n",
              "    </tr>\n",
              "    <tr>\n",
              "      <th>4</th>\n",
              "      <td>2024-05-06 10:32:59.826</td>\n",
              "      <td>1085195</td>\n",
              "      <td>19.99</td>\n",
              "      <td>77.000000</td>\n",
              "      <td>38523.000000</td>\n",
              "      <td>21336380</td>\n",
              "      <td>203473302.0</td>\n",
              "      <td>359550</td>\n",
              "      <td>31.0</td>\n",
              "      <td>1233525.0</td>\n",
              "    </tr>\n",
              "    <tr>\n",
              "      <th>...</th>\n",
              "      <td>...</td>\n",
              "      <td>...</td>\n",
              "      <td>...</td>\n",
              "      <td>...</td>\n",
              "      <td>...</td>\n",
              "      <td>...</td>\n",
              "      <td>...</td>\n",
              "      <td>...</td>\n",
              "      <td>...</td>\n",
              "      <td>...</td>\n",
              "    </tr>\n",
              "    <tr>\n",
              "      <th>195</th>\n",
              "      <td>2016-02-02 00:00:00.000</td>\n",
              "      <td>172</td>\n",
              "      <td>5.39</td>\n",
              "      <td>98.000000</td>\n",
              "      <td>69.363436</td>\n",
              "      <td>20942</td>\n",
              "      <td>105998.0</td>\n",
              "      <td>431240</td>\n",
              "      <td>NaN</td>\n",
              "      <td>NaN</td>\n",
              "    </tr>\n",
              "    <tr>\n",
              "      <th>196</th>\n",
              "      <td>2024-05-07 05:09:05.067</td>\n",
              "      <td>14505</td>\n",
              "      <td>59.99</td>\n",
              "      <td>86.000000</td>\n",
              "      <td>246.000000</td>\n",
              "      <td>601660</td>\n",
              "      <td>24392556.0</td>\n",
              "      <td>292730</td>\n",
              "      <td>1435.0</td>\n",
              "      <td>69292.0</td>\n",
              "    </tr>\n",
              "    <tr>\n",
              "      <th>197</th>\n",
              "      <td>2024-05-06 09:30:24.148</td>\n",
              "      <td>26924</td>\n",
              "      <td>19.99</td>\n",
              "      <td>76.000000</td>\n",
              "      <td>192.000000</td>\n",
              "      <td>1278519</td>\n",
              "      <td>19755011.0</td>\n",
              "      <td>310950</td>\n",
              "      <td>1875.0</td>\n",
              "      <td>120733.0</td>\n",
              "    </tr>\n",
              "    <tr>\n",
              "      <th>198</th>\n",
              "      <td>2024-05-07 05:00:23.050</td>\n",
              "      <td>269741</td>\n",
              "      <td>13.99</td>\n",
              "      <td>96.000000</td>\n",
              "      <td>7629.000000</td>\n",
              "      <td>7213041</td>\n",
              "      <td>35062034.0</td>\n",
              "      <td>960090</td>\n",
              "      <td>192.0</td>\n",
              "      <td>79064.0</td>\n",
              "    </tr>\n",
              "    <tr>\n",
              "      <th>199</th>\n",
              "      <td>2024-05-07 05:47:36.442</td>\n",
              "      <td>37146</td>\n",
              "      <td>59.99</td>\n",
              "      <td>93.000000</td>\n",
              "      <td>586.000000</td>\n",
              "      <td>1143118</td>\n",
              "      <td>34420678.0</td>\n",
              "      <td>851850</td>\n",
              "      <td>629.0</td>\n",
              "      <td>146854.0</td>\n",
              "    </tr>\n",
              "  </tbody>\n",
              "</table>\n",
              "<p>200 rows × 10 columns</p>\n",
              "</div>\n",
              "    <div class=\"colab-df-buttons\">\n",
              "\n",
              "  <div class=\"colab-df-container\">\n",
              "    <button class=\"colab-df-convert\" onclick=\"convertToInteractive('df-015fcddd-84be-44eb-92c1-a9639a74c26c')\"\n",
              "            title=\"Convert this dataframe to an interactive table.\"\n",
              "            style=\"display:none;\">\n",
              "\n",
              "  <svg xmlns=\"http://www.w3.org/2000/svg\" height=\"24px\" viewBox=\"0 -960 960 960\">\n",
              "    <path d=\"M120-120v-720h720v720H120Zm60-500h600v-160H180v160Zm220 220h160v-160H400v160Zm0 220h160v-160H400v160ZM180-400h160v-160H180v160Zm440 0h160v-160H620v160ZM180-180h160v-160H180v160Zm440 0h160v-160H620v160Z\"/>\n",
              "  </svg>\n",
              "    </button>\n",
              "\n",
              "  <style>\n",
              "    .colab-df-container {\n",
              "      display:flex;\n",
              "      gap: 12px;\n",
              "    }\n",
              "\n",
              "    .colab-df-convert {\n",
              "      background-color: #E8F0FE;\n",
              "      border: none;\n",
              "      border-radius: 50%;\n",
              "      cursor: pointer;\n",
              "      display: none;\n",
              "      fill: #1967D2;\n",
              "      height: 32px;\n",
              "      padding: 0 0 0 0;\n",
              "      width: 32px;\n",
              "    }\n",
              "\n",
              "    .colab-df-convert:hover {\n",
              "      background-color: #E2EBFA;\n",
              "      box-shadow: 0px 1px 2px rgba(60, 64, 67, 0.3), 0px 1px 3px 1px rgba(60, 64, 67, 0.15);\n",
              "      fill: #174EA6;\n",
              "    }\n",
              "\n",
              "    .colab-df-buttons div {\n",
              "      margin-bottom: 4px;\n",
              "    }\n",
              "\n",
              "    [theme=dark] .colab-df-convert {\n",
              "      background-color: #3B4455;\n",
              "      fill: #D2E3FC;\n",
              "    }\n",
              "\n",
              "    [theme=dark] .colab-df-convert:hover {\n",
              "      background-color: #434B5C;\n",
              "      box-shadow: 0px 1px 3px 1px rgba(0, 0, 0, 0.15);\n",
              "      filter: drop-shadow(0px 1px 2px rgba(0, 0, 0, 0.3));\n",
              "      fill: #FFFFFF;\n",
              "    }\n",
              "  </style>\n",
              "\n",
              "    <script>\n",
              "      const buttonEl =\n",
              "        document.querySelector('#df-015fcddd-84be-44eb-92c1-a9639a74c26c button.colab-df-convert');\n",
              "      buttonEl.style.display =\n",
              "        google.colab.kernel.accessAllowed ? 'block' : 'none';\n",
              "\n",
              "      async function convertToInteractive(key) {\n",
              "        const element = document.querySelector('#df-015fcddd-84be-44eb-92c1-a9639a74c26c');\n",
              "        const dataTable =\n",
              "          await google.colab.kernel.invokeFunction('convertToInteractive',\n",
              "                                                    [key], {});\n",
              "        if (!dataTable) return;\n",
              "\n",
              "        const docLinkHtml = 'Like what you see? Visit the ' +\n",
              "          '<a target=\"_blank\" href=https://colab.research.google.com/notebooks/data_table.ipynb>data table notebook</a>'\n",
              "          + ' to learn more about interactive tables.';\n",
              "        element.innerHTML = '';\n",
              "        dataTable['output_type'] = 'display_data';\n",
              "        await google.colab.output.renderOutput(dataTable, element);\n",
              "        const docLink = document.createElement('div');\n",
              "        docLink.innerHTML = docLinkHtml;\n",
              "        element.appendChild(docLink);\n",
              "      }\n",
              "    </script>\n",
              "  </div>\n",
              "\n",
              "\n",
              "<div id=\"df-921b8cb8-6166-4ab9-8652-244a0ed1d3e6\">\n",
              "  <button class=\"colab-df-quickchart\" onclick=\"quickchart('df-921b8cb8-6166-4ab9-8652-244a0ed1d3e6')\"\n",
              "            title=\"Suggest charts\"\n",
              "            style=\"display:none;\">\n",
              "\n",
              "<svg xmlns=\"http://www.w3.org/2000/svg\" height=\"24px\"viewBox=\"0 0 24 24\"\n",
              "     width=\"24px\">\n",
              "    <g>\n",
              "        <path d=\"M19 3H5c-1.1 0-2 .9-2 2v14c0 1.1.9 2 2 2h14c1.1 0 2-.9 2-2V5c0-1.1-.9-2-2-2zM9 17H7v-7h2v7zm4 0h-2V7h2v10zm4 0h-2v-4h2v4z\"/>\n",
              "    </g>\n",
              "</svg>\n",
              "  </button>\n",
              "\n",
              "<style>\n",
              "  .colab-df-quickchart {\n",
              "      --bg-color: #E8F0FE;\n",
              "      --fill-color: #1967D2;\n",
              "      --hover-bg-color: #E2EBFA;\n",
              "      --hover-fill-color: #174EA6;\n",
              "      --disabled-fill-color: #AAA;\n",
              "      --disabled-bg-color: #DDD;\n",
              "  }\n",
              "\n",
              "  [theme=dark] .colab-df-quickchart {\n",
              "      --bg-color: #3B4455;\n",
              "      --fill-color: #D2E3FC;\n",
              "      --hover-bg-color: #434B5C;\n",
              "      --hover-fill-color: #FFFFFF;\n",
              "      --disabled-bg-color: #3B4455;\n",
              "      --disabled-fill-color: #666;\n",
              "  }\n",
              "\n",
              "  .colab-df-quickchart {\n",
              "    background-color: var(--bg-color);\n",
              "    border: none;\n",
              "    border-radius: 50%;\n",
              "    cursor: pointer;\n",
              "    display: none;\n",
              "    fill: var(--fill-color);\n",
              "    height: 32px;\n",
              "    padding: 0;\n",
              "    width: 32px;\n",
              "  }\n",
              "\n",
              "  .colab-df-quickchart:hover {\n",
              "    background-color: var(--hover-bg-color);\n",
              "    box-shadow: 0 1px 2px rgba(60, 64, 67, 0.3), 0 1px 3px 1px rgba(60, 64, 67, 0.15);\n",
              "    fill: var(--button-hover-fill-color);\n",
              "  }\n",
              "\n",
              "  .colab-df-quickchart-complete:disabled,\n",
              "  .colab-df-quickchart-complete:disabled:hover {\n",
              "    background-color: var(--disabled-bg-color);\n",
              "    fill: var(--disabled-fill-color);\n",
              "    box-shadow: none;\n",
              "  }\n",
              "\n",
              "  .colab-df-spinner {\n",
              "    border: 2px solid var(--fill-color);\n",
              "    border-color: transparent;\n",
              "    border-bottom-color: var(--fill-color);\n",
              "    animation:\n",
              "      spin 1s steps(1) infinite;\n",
              "  }\n",
              "\n",
              "  @keyframes spin {\n",
              "    0% {\n",
              "      border-color: transparent;\n",
              "      border-bottom-color: var(--fill-color);\n",
              "      border-left-color: var(--fill-color);\n",
              "    }\n",
              "    20% {\n",
              "      border-color: transparent;\n",
              "      border-left-color: var(--fill-color);\n",
              "      border-top-color: var(--fill-color);\n",
              "    }\n",
              "    30% {\n",
              "      border-color: transparent;\n",
              "      border-left-color: var(--fill-color);\n",
              "      border-top-color: var(--fill-color);\n",
              "      border-right-color: var(--fill-color);\n",
              "    }\n",
              "    40% {\n",
              "      border-color: transparent;\n",
              "      border-right-color: var(--fill-color);\n",
              "      border-top-color: var(--fill-color);\n",
              "    }\n",
              "    60% {\n",
              "      border-color: transparent;\n",
              "      border-right-color: var(--fill-color);\n",
              "    }\n",
              "    80% {\n",
              "      border-color: transparent;\n",
              "      border-right-color: var(--fill-color);\n",
              "      border-bottom-color: var(--fill-color);\n",
              "    }\n",
              "    90% {\n",
              "      border-color: transparent;\n",
              "      border-bottom-color: var(--fill-color);\n",
              "    }\n",
              "  }\n",
              "</style>\n",
              "\n",
              "  <script>\n",
              "    async function quickchart(key) {\n",
              "      const quickchartButtonEl =\n",
              "        document.querySelector('#' + key + ' button');\n",
              "      quickchartButtonEl.disabled = true;  // To prevent multiple clicks.\n",
              "      quickchartButtonEl.classList.add('colab-df-spinner');\n",
              "      try {\n",
              "        const charts = await google.colab.kernel.invokeFunction(\n",
              "            'suggestCharts', [key], {});\n",
              "      } catch (error) {\n",
              "        console.error('Error during call to suggestCharts:', error);\n",
              "      }\n",
              "      quickchartButtonEl.classList.remove('colab-df-spinner');\n",
              "      quickchartButtonEl.classList.add('colab-df-quickchart-complete');\n",
              "    }\n",
              "    (() => {\n",
              "      let quickchartButtonEl =\n",
              "        document.querySelector('#df-921b8cb8-6166-4ab9-8652-244a0ed1d3e6 button');\n",
              "      quickchartButtonEl.style.display =\n",
              "        google.colab.kernel.accessAllowed ? 'block' : 'none';\n",
              "    })();\n",
              "  </script>\n",
              "</div>\n",
              "\n",
              "  <div id=\"id_570736be-e62c-4180-a339-0100f8c4b941\">\n",
              "    <style>\n",
              "      .colab-df-generate {\n",
              "        background-color: #E8F0FE;\n",
              "        border: none;\n",
              "        border-radius: 50%;\n",
              "        cursor: pointer;\n",
              "        display: none;\n",
              "        fill: #1967D2;\n",
              "        height: 32px;\n",
              "        padding: 0 0 0 0;\n",
              "        width: 32px;\n",
              "      }\n",
              "\n",
              "      .colab-df-generate:hover {\n",
              "        background-color: #E2EBFA;\n",
              "        box-shadow: 0px 1px 2px rgba(60, 64, 67, 0.3), 0px 1px 3px 1px rgba(60, 64, 67, 0.15);\n",
              "        fill: #174EA6;\n",
              "      }\n",
              "\n",
              "      [theme=dark] .colab-df-generate {\n",
              "        background-color: #3B4455;\n",
              "        fill: #D2E3FC;\n",
              "      }\n",
              "\n",
              "      [theme=dark] .colab-df-generate:hover {\n",
              "        background-color: #434B5C;\n",
              "        box-shadow: 0px 1px 3px 1px rgba(0, 0, 0, 0.15);\n",
              "        filter: drop-shadow(0px 1px 2px rgba(0, 0, 0, 0.3));\n",
              "        fill: #FFFFFF;\n",
              "      }\n",
              "    </style>\n",
              "    <button class=\"colab-df-generate\" onclick=\"generateWithVariable('df1')\"\n",
              "            title=\"Generate code using this dataframe.\"\n",
              "            style=\"display:none;\">\n",
              "\n",
              "  <svg xmlns=\"http://www.w3.org/2000/svg\" height=\"24px\"viewBox=\"0 0 24 24\"\n",
              "       width=\"24px\">\n",
              "    <path d=\"M7,19H8.4L18.45,9,17,7.55,7,17.6ZM5,21V16.75L18.45,3.32a2,2,0,0,1,2.83,0l1.4,1.43a1.91,1.91,0,0,1,.58,1.4,1.91,1.91,0,0,1-.58,1.4L9.25,21ZM18.45,9,17,7.55Zm-12,3A5.31,5.31,0,0,0,4.9,8.1,5.31,5.31,0,0,0,1,6.5,5.31,5.31,0,0,0,4.9,4.9,5.31,5.31,0,0,0,6.5,1,5.31,5.31,0,0,0,8.1,4.9,5.31,5.31,0,0,0,12,6.5,5.46,5.46,0,0,0,6.5,12Z\"/>\n",
              "  </svg>\n",
              "    </button>\n",
              "    <script>\n",
              "      (() => {\n",
              "      const buttonEl =\n",
              "        document.querySelector('#id_570736be-e62c-4180-a339-0100f8c4b941 button.colab-df-generate');\n",
              "      buttonEl.style.display =\n",
              "        google.colab.kernel.accessAllowed ? 'block' : 'none';\n",
              "\n",
              "      buttonEl.onclick = () => {\n",
              "        google.colab.notebook.generateWithVariable('df1');\n",
              "      }\n",
              "      })();\n",
              "    </script>\n",
              "  </div>\n",
              "\n",
              "    </div>\n",
              "  </div>\n"
            ],
            "application/vnd.google.colaboratory.intrinsic+json": {
              "type": "dataframe",
              "variable_name": "df1",
              "summary": "{\n  \"name\": \"df1\",\n  \"rows\": 200,\n  \"fields\": [\n    {\n      \"column\": \"timeStamp\",\n      \"properties\": {\n        \"dtype\": \"date\",\n        \"min\": \"2015-02-02 00:00:00\",\n        \"max\": \"2024-05-07 06:45:07.179000\",\n        \"num_unique_values\": 179,\n        \"samples\": [\n          \"2024-05-07 05:46:11.943000\",\n          \"2024-05-05 07:34:05.596000\",\n          \"2019-06-01 04:00:00\"\n        ],\n        \"semantic_type\": \"\",\n        \"description\": \"\"\n      }\n    },\n    {\n      \"column\": \"reviews\",\n      \"properties\": {\n        \"dtype\": \"number\",\n        \"std\": 179814,\n        \"min\": 0,\n        \"max\": 1632508,\n        \"num_unique_values\": 200,\n        \"samples\": [\n          71610,\n          226522,\n          123295\n        ],\n        \"semantic_type\": \"\",\n        \"description\": \"\"\n      }\n    },\n    {\n      \"column\": \"price\",\n      \"properties\": {\n        \"dtype\": \"number\",\n        \"std\": 17.819252467203828,\n        \"min\": 0.0,\n        \"max\": 69.99,\n        \"num_unique_values\": 38,\n        \"samples\": [\n          20.99,\n          12.49,\n          29.99\n        ],\n        \"semantic_type\": \"\",\n        \"description\": \"\"\n      }\n    },\n    {\n      \"column\": \"score\",\n      \"properties\": {\n        \"dtype\": \"number\",\n        \"std\": 13.72395279150355,\n        \"min\": 0.7720463880164291,\n        \"max\": 99.0,\n        \"num_unique_values\": 84,\n        \"samples\": [\n          81.00072886297376,\n          88.99996644835731,\n          96.999978449019\n        ],\n        \"semantic_type\": \"\",\n        \"description\": \"\"\n      }\n    },\n    {\n      \"column\": \"players\",\n      \"properties\": {\n        \"dtype\": \"number\",\n        \"std\": 16068.738276119564,\n        \"min\": 1.0,\n        \"max\": 113359.7903231875,\n        \"num_unique_values\": 198,\n        \"samples\": [\n          5282.0,\n          830.0,\n          81509.0\n        ],\n        \"semantic_type\": \"\",\n        \"description\": \"\"\n      }\n    },\n    {\n      \"column\": \"sales\",\n      \"properties\": {\n        \"dtype\": \"number\",\n        \"std\": 4609662,\n        \"min\": 0,\n        \"max\": 39394460,\n        \"num_unique_values\": 200,\n        \"samples\": [\n          3875526,\n          5949676,\n          4882014\n        ],\n        \"semantic_type\": \"\",\n        \"description\": \"\"\n      }\n    },\n    {\n      \"column\": \"revenue\",\n      \"properties\": {\n        \"dtype\": \"number\",\n        \"std\": 81289364.40622234,\n        \"min\": 0.0,\n        \"max\": 580349985.0,\n        \"num_unique_values\": 198,\n        \"samples\": [\n          52452012.0,\n          43861668.0,\n          210717466.0\n        ],\n        \"semantic_type\": \"\",\n        \"description\": \"\"\n      }\n    },\n    {\n      \"column\": \"steamId\",\n      \"properties\": {\n        \"dtype\": \"number\",\n        \"std\": 536849,\n        \"min\": 12210,\n        \"max\": 2519060,\n        \"num_unique_values\": 200,\n        \"samples\": [\n          356190,\n          275850,\n          311210\n        ],\n        \"semantic_type\": \"\",\n        \"description\": \"\"\n      }\n    },\n    {\n      \"column\": \"rank\",\n      \"properties\": {\n        \"dtype\": \"number\",\n        \"std\": 577.56538680008,\n        \"min\": 3.0,\n        \"max\": 3944.0,\n        \"num_unique_values\": 143,\n        \"samples\": [\n          1587.0,\n          193.0,\n          546.0\n        ],\n        \"semantic_type\": \"\",\n        \"description\": \"\"\n      }\n    },\n    {\n      \"column\": \"followers\",\n      \"properties\": {\n        \"dtype\": \"number\",\n        \"std\": 335835.0384592431,\n        \"min\": 42002.0,\n        \"max\": 3106521.0,\n        \"num_unique_values\": 143,\n        \"samples\": [\n          155206.0,\n          770990.0,\n          289456.0\n        ],\n        \"semantic_type\": \"\",\n        \"description\": \"\"\n      }\n    }\n  ]\n}"
            }
          },
          "metadata": {},
          "execution_count": 6
        }
      ]
    },
    {
      "cell_type": "code",
      "source": [
        "df2"
      ],
      "metadata": {
        "colab": {
          "base_uri": "https://localhost:8080/",
          "height": 424
        },
        "id": "4vEi9s7o2UdP",
        "outputId": "cea9aa55-d7c3-4db7-b988-087c54702273"
      },
      "execution_count": 7,
      "outputs": [
        {
          "output_type": "execute_result",
          "data": {
            "text/plain": [
              "                                        about_the_game  steamId  img_count  \\\n",
              "0    Gather your party and return to the Forgotten ...  1086940         12   \n",
              "1    When a young street hustler, a retired bank ro...   271590          0   \n",
              "2    Cyberpunk 2077 is an open-world, action-advent...  1091500          8   \n",
              "3    Experience an ever-expanding story across all ...   306130          0   \n",
              "4    “One of the best first-person shooters ever ma...   359550          4   \n",
              "..                                                 ...      ...        ...   \n",
              "195  Why have friends if not to play Golf... With Y...   431240          6   \n",
              "196  Includes the Terminal Bonus Map and Zombies in...   292730          1   \n",
              "197  Experience the intensity of head-to-head battl...   310950          6   \n",
              "198  Craft your perfect defense from a combination ...   960090          5   \n",
              "199  BE THE HOPE OF THE UNIVERSE • Experience the s...   851850          3   \n",
              "\n",
              "     link_count  \n",
              "0             0  \n",
              "1             1  \n",
              "2             1  \n",
              "3             0  \n",
              "4             0  \n",
              "..          ...  \n",
              "195           0  \n",
              "196           0  \n",
              "197           0  \n",
              "198           6  \n",
              "199           0  \n",
              "\n",
              "[200 rows x 4 columns]"
            ],
            "text/html": [
              "\n",
              "  <div id=\"df-a7be595a-65cc-4b23-902a-939a292d2493\" class=\"colab-df-container\">\n",
              "    <div>\n",
              "<style scoped>\n",
              "    .dataframe tbody tr th:only-of-type {\n",
              "        vertical-align: middle;\n",
              "    }\n",
              "\n",
              "    .dataframe tbody tr th {\n",
              "        vertical-align: top;\n",
              "    }\n",
              "\n",
              "    .dataframe thead th {\n",
              "        text-align: right;\n",
              "    }\n",
              "</style>\n",
              "<table border=\"1\" class=\"dataframe\">\n",
              "  <thead>\n",
              "    <tr style=\"text-align: right;\">\n",
              "      <th></th>\n",
              "      <th>about_the_game</th>\n",
              "      <th>steamId</th>\n",
              "      <th>img_count</th>\n",
              "      <th>link_count</th>\n",
              "    </tr>\n",
              "  </thead>\n",
              "  <tbody>\n",
              "    <tr>\n",
              "      <th>0</th>\n",
              "      <td>Gather your party and return to the Forgotten ...</td>\n",
              "      <td>1086940</td>\n",
              "      <td>12</td>\n",
              "      <td>0</td>\n",
              "    </tr>\n",
              "    <tr>\n",
              "      <th>1</th>\n",
              "      <td>When a young street hustler, a retired bank ro...</td>\n",
              "      <td>271590</td>\n",
              "      <td>0</td>\n",
              "      <td>1</td>\n",
              "    </tr>\n",
              "    <tr>\n",
              "      <th>2</th>\n",
              "      <td>Cyberpunk 2077 is an open-world, action-advent...</td>\n",
              "      <td>1091500</td>\n",
              "      <td>8</td>\n",
              "      <td>1</td>\n",
              "    </tr>\n",
              "    <tr>\n",
              "      <th>3</th>\n",
              "      <td>Experience an ever-expanding story across all ...</td>\n",
              "      <td>306130</td>\n",
              "      <td>0</td>\n",
              "      <td>0</td>\n",
              "    </tr>\n",
              "    <tr>\n",
              "      <th>4</th>\n",
              "      <td>“One of the best first-person shooters ever ma...</td>\n",
              "      <td>359550</td>\n",
              "      <td>4</td>\n",
              "      <td>0</td>\n",
              "    </tr>\n",
              "    <tr>\n",
              "      <th>...</th>\n",
              "      <td>...</td>\n",
              "      <td>...</td>\n",
              "      <td>...</td>\n",
              "      <td>...</td>\n",
              "    </tr>\n",
              "    <tr>\n",
              "      <th>195</th>\n",
              "      <td>Why have friends if not to play Golf... With Y...</td>\n",
              "      <td>431240</td>\n",
              "      <td>6</td>\n",
              "      <td>0</td>\n",
              "    </tr>\n",
              "    <tr>\n",
              "      <th>196</th>\n",
              "      <td>Includes the Terminal Bonus Map and Zombies in...</td>\n",
              "      <td>292730</td>\n",
              "      <td>1</td>\n",
              "      <td>0</td>\n",
              "    </tr>\n",
              "    <tr>\n",
              "      <th>197</th>\n",
              "      <td>Experience the intensity of head-to-head battl...</td>\n",
              "      <td>310950</td>\n",
              "      <td>6</td>\n",
              "      <td>0</td>\n",
              "    </tr>\n",
              "    <tr>\n",
              "      <th>198</th>\n",
              "      <td>Craft your perfect defense from a combination ...</td>\n",
              "      <td>960090</td>\n",
              "      <td>5</td>\n",
              "      <td>6</td>\n",
              "    </tr>\n",
              "    <tr>\n",
              "      <th>199</th>\n",
              "      <td>BE THE HOPE OF THE UNIVERSE • Experience the s...</td>\n",
              "      <td>851850</td>\n",
              "      <td>3</td>\n",
              "      <td>0</td>\n",
              "    </tr>\n",
              "  </tbody>\n",
              "</table>\n",
              "<p>200 rows × 4 columns</p>\n",
              "</div>\n",
              "    <div class=\"colab-df-buttons\">\n",
              "\n",
              "  <div class=\"colab-df-container\">\n",
              "    <button class=\"colab-df-convert\" onclick=\"convertToInteractive('df-a7be595a-65cc-4b23-902a-939a292d2493')\"\n",
              "            title=\"Convert this dataframe to an interactive table.\"\n",
              "            style=\"display:none;\">\n",
              "\n",
              "  <svg xmlns=\"http://www.w3.org/2000/svg\" height=\"24px\" viewBox=\"0 -960 960 960\">\n",
              "    <path d=\"M120-120v-720h720v720H120Zm60-500h600v-160H180v160Zm220 220h160v-160H400v160Zm0 220h160v-160H400v160ZM180-400h160v-160H180v160Zm440 0h160v-160H620v160ZM180-180h160v-160H180v160Zm440 0h160v-160H620v160Z\"/>\n",
              "  </svg>\n",
              "    </button>\n",
              "\n",
              "  <style>\n",
              "    .colab-df-container {\n",
              "      display:flex;\n",
              "      gap: 12px;\n",
              "    }\n",
              "\n",
              "    .colab-df-convert {\n",
              "      background-color: #E8F0FE;\n",
              "      border: none;\n",
              "      border-radius: 50%;\n",
              "      cursor: pointer;\n",
              "      display: none;\n",
              "      fill: #1967D2;\n",
              "      height: 32px;\n",
              "      padding: 0 0 0 0;\n",
              "      width: 32px;\n",
              "    }\n",
              "\n",
              "    .colab-df-convert:hover {\n",
              "      background-color: #E2EBFA;\n",
              "      box-shadow: 0px 1px 2px rgba(60, 64, 67, 0.3), 0px 1px 3px 1px rgba(60, 64, 67, 0.15);\n",
              "      fill: #174EA6;\n",
              "    }\n",
              "\n",
              "    .colab-df-buttons div {\n",
              "      margin-bottom: 4px;\n",
              "    }\n",
              "\n",
              "    [theme=dark] .colab-df-convert {\n",
              "      background-color: #3B4455;\n",
              "      fill: #D2E3FC;\n",
              "    }\n",
              "\n",
              "    [theme=dark] .colab-df-convert:hover {\n",
              "      background-color: #434B5C;\n",
              "      box-shadow: 0px 1px 3px 1px rgba(0, 0, 0, 0.15);\n",
              "      filter: drop-shadow(0px 1px 2px rgba(0, 0, 0, 0.3));\n",
              "      fill: #FFFFFF;\n",
              "    }\n",
              "  </style>\n",
              "\n",
              "    <script>\n",
              "      const buttonEl =\n",
              "        document.querySelector('#df-a7be595a-65cc-4b23-902a-939a292d2493 button.colab-df-convert');\n",
              "      buttonEl.style.display =\n",
              "        google.colab.kernel.accessAllowed ? 'block' : 'none';\n",
              "\n",
              "      async function convertToInteractive(key) {\n",
              "        const element = document.querySelector('#df-a7be595a-65cc-4b23-902a-939a292d2493');\n",
              "        const dataTable =\n",
              "          await google.colab.kernel.invokeFunction('convertToInteractive',\n",
              "                                                    [key], {});\n",
              "        if (!dataTable) return;\n",
              "\n",
              "        const docLinkHtml = 'Like what you see? Visit the ' +\n",
              "          '<a target=\"_blank\" href=https://colab.research.google.com/notebooks/data_table.ipynb>data table notebook</a>'\n",
              "          + ' to learn more about interactive tables.';\n",
              "        element.innerHTML = '';\n",
              "        dataTable['output_type'] = 'display_data';\n",
              "        await google.colab.output.renderOutput(dataTable, element);\n",
              "        const docLink = document.createElement('div');\n",
              "        docLink.innerHTML = docLinkHtml;\n",
              "        element.appendChild(docLink);\n",
              "      }\n",
              "    </script>\n",
              "  </div>\n",
              "\n",
              "\n",
              "<div id=\"df-23b4c215-a109-44f6-bf0e-a8f7f31fd4b6\">\n",
              "  <button class=\"colab-df-quickchart\" onclick=\"quickchart('df-23b4c215-a109-44f6-bf0e-a8f7f31fd4b6')\"\n",
              "            title=\"Suggest charts\"\n",
              "            style=\"display:none;\">\n",
              "\n",
              "<svg xmlns=\"http://www.w3.org/2000/svg\" height=\"24px\"viewBox=\"0 0 24 24\"\n",
              "     width=\"24px\">\n",
              "    <g>\n",
              "        <path d=\"M19 3H5c-1.1 0-2 .9-2 2v14c0 1.1.9 2 2 2h14c1.1 0 2-.9 2-2V5c0-1.1-.9-2-2-2zM9 17H7v-7h2v7zm4 0h-2V7h2v10zm4 0h-2v-4h2v4z\"/>\n",
              "    </g>\n",
              "</svg>\n",
              "  </button>\n",
              "\n",
              "<style>\n",
              "  .colab-df-quickchart {\n",
              "      --bg-color: #E8F0FE;\n",
              "      --fill-color: #1967D2;\n",
              "      --hover-bg-color: #E2EBFA;\n",
              "      --hover-fill-color: #174EA6;\n",
              "      --disabled-fill-color: #AAA;\n",
              "      --disabled-bg-color: #DDD;\n",
              "  }\n",
              "\n",
              "  [theme=dark] .colab-df-quickchart {\n",
              "      --bg-color: #3B4455;\n",
              "      --fill-color: #D2E3FC;\n",
              "      --hover-bg-color: #434B5C;\n",
              "      --hover-fill-color: #FFFFFF;\n",
              "      --disabled-bg-color: #3B4455;\n",
              "      --disabled-fill-color: #666;\n",
              "  }\n",
              "\n",
              "  .colab-df-quickchart {\n",
              "    background-color: var(--bg-color);\n",
              "    border: none;\n",
              "    border-radius: 50%;\n",
              "    cursor: pointer;\n",
              "    display: none;\n",
              "    fill: var(--fill-color);\n",
              "    height: 32px;\n",
              "    padding: 0;\n",
              "    width: 32px;\n",
              "  }\n",
              "\n",
              "  .colab-df-quickchart:hover {\n",
              "    background-color: var(--hover-bg-color);\n",
              "    box-shadow: 0 1px 2px rgba(60, 64, 67, 0.3), 0 1px 3px 1px rgba(60, 64, 67, 0.15);\n",
              "    fill: var(--button-hover-fill-color);\n",
              "  }\n",
              "\n",
              "  .colab-df-quickchart-complete:disabled,\n",
              "  .colab-df-quickchart-complete:disabled:hover {\n",
              "    background-color: var(--disabled-bg-color);\n",
              "    fill: var(--disabled-fill-color);\n",
              "    box-shadow: none;\n",
              "  }\n",
              "\n",
              "  .colab-df-spinner {\n",
              "    border: 2px solid var(--fill-color);\n",
              "    border-color: transparent;\n",
              "    border-bottom-color: var(--fill-color);\n",
              "    animation:\n",
              "      spin 1s steps(1) infinite;\n",
              "  }\n",
              "\n",
              "  @keyframes spin {\n",
              "    0% {\n",
              "      border-color: transparent;\n",
              "      border-bottom-color: var(--fill-color);\n",
              "      border-left-color: var(--fill-color);\n",
              "    }\n",
              "    20% {\n",
              "      border-color: transparent;\n",
              "      border-left-color: var(--fill-color);\n",
              "      border-top-color: var(--fill-color);\n",
              "    }\n",
              "    30% {\n",
              "      border-color: transparent;\n",
              "      border-left-color: var(--fill-color);\n",
              "      border-top-color: var(--fill-color);\n",
              "      border-right-color: var(--fill-color);\n",
              "    }\n",
              "    40% {\n",
              "      border-color: transparent;\n",
              "      border-right-color: var(--fill-color);\n",
              "      border-top-color: var(--fill-color);\n",
              "    }\n",
              "    60% {\n",
              "      border-color: transparent;\n",
              "      border-right-color: var(--fill-color);\n",
              "    }\n",
              "    80% {\n",
              "      border-color: transparent;\n",
              "      border-right-color: var(--fill-color);\n",
              "      border-bottom-color: var(--fill-color);\n",
              "    }\n",
              "    90% {\n",
              "      border-color: transparent;\n",
              "      border-bottom-color: var(--fill-color);\n",
              "    }\n",
              "  }\n",
              "</style>\n",
              "\n",
              "  <script>\n",
              "    async function quickchart(key) {\n",
              "      const quickchartButtonEl =\n",
              "        document.querySelector('#' + key + ' button');\n",
              "      quickchartButtonEl.disabled = true;  // To prevent multiple clicks.\n",
              "      quickchartButtonEl.classList.add('colab-df-spinner');\n",
              "      try {\n",
              "        const charts = await google.colab.kernel.invokeFunction(\n",
              "            'suggestCharts', [key], {});\n",
              "      } catch (error) {\n",
              "        console.error('Error during call to suggestCharts:', error);\n",
              "      }\n",
              "      quickchartButtonEl.classList.remove('colab-df-spinner');\n",
              "      quickchartButtonEl.classList.add('colab-df-quickchart-complete');\n",
              "    }\n",
              "    (() => {\n",
              "      let quickchartButtonEl =\n",
              "        document.querySelector('#df-23b4c215-a109-44f6-bf0e-a8f7f31fd4b6 button');\n",
              "      quickchartButtonEl.style.display =\n",
              "        google.colab.kernel.accessAllowed ? 'block' : 'none';\n",
              "    })();\n",
              "  </script>\n",
              "</div>\n",
              "\n",
              "  <div id=\"id_da4bee3b-c661-40b5-87a0-09d9dde30080\">\n",
              "    <style>\n",
              "      .colab-df-generate {\n",
              "        background-color: #E8F0FE;\n",
              "        border: none;\n",
              "        border-radius: 50%;\n",
              "        cursor: pointer;\n",
              "        display: none;\n",
              "        fill: #1967D2;\n",
              "        height: 32px;\n",
              "        padding: 0 0 0 0;\n",
              "        width: 32px;\n",
              "      }\n",
              "\n",
              "      .colab-df-generate:hover {\n",
              "        background-color: #E2EBFA;\n",
              "        box-shadow: 0px 1px 2px rgba(60, 64, 67, 0.3), 0px 1px 3px 1px rgba(60, 64, 67, 0.15);\n",
              "        fill: #174EA6;\n",
              "      }\n",
              "\n",
              "      [theme=dark] .colab-df-generate {\n",
              "        background-color: #3B4455;\n",
              "        fill: #D2E3FC;\n",
              "      }\n",
              "\n",
              "      [theme=dark] .colab-df-generate:hover {\n",
              "        background-color: #434B5C;\n",
              "        box-shadow: 0px 1px 3px 1px rgba(0, 0, 0, 0.15);\n",
              "        filter: drop-shadow(0px 1px 2px rgba(0, 0, 0, 0.3));\n",
              "        fill: #FFFFFF;\n",
              "      }\n",
              "    </style>\n",
              "    <button class=\"colab-df-generate\" onclick=\"generateWithVariable('df2')\"\n",
              "            title=\"Generate code using this dataframe.\"\n",
              "            style=\"display:none;\">\n",
              "\n",
              "  <svg xmlns=\"http://www.w3.org/2000/svg\" height=\"24px\"viewBox=\"0 0 24 24\"\n",
              "       width=\"24px\">\n",
              "    <path d=\"M7,19H8.4L18.45,9,17,7.55,7,17.6ZM5,21V16.75L18.45,3.32a2,2,0,0,1,2.83,0l1.4,1.43a1.91,1.91,0,0,1,.58,1.4,1.91,1.91,0,0,1-.58,1.4L9.25,21ZM18.45,9,17,7.55Zm-12,3A5.31,5.31,0,0,0,4.9,8.1,5.31,5.31,0,0,0,1,6.5,5.31,5.31,0,0,0,4.9,4.9,5.31,5.31,0,0,0,6.5,1,5.31,5.31,0,0,0,8.1,4.9,5.31,5.31,0,0,0,12,6.5,5.46,5.46,0,0,0,6.5,12Z\"/>\n",
              "  </svg>\n",
              "    </button>\n",
              "    <script>\n",
              "      (() => {\n",
              "      const buttonEl =\n",
              "        document.querySelector('#id_da4bee3b-c661-40b5-87a0-09d9dde30080 button.colab-df-generate');\n",
              "      buttonEl.style.display =\n",
              "        google.colab.kernel.accessAllowed ? 'block' : 'none';\n",
              "\n",
              "      buttonEl.onclick = () => {\n",
              "        google.colab.notebook.generateWithVariable('df2');\n",
              "      }\n",
              "      })();\n",
              "    </script>\n",
              "  </div>\n",
              "\n",
              "    </div>\n",
              "  </div>\n"
            ],
            "application/vnd.google.colaboratory.intrinsic+json": {
              "type": "dataframe",
              "variable_name": "df2",
              "summary": "{\n  \"name\": \"df2\",\n  \"rows\": 200,\n  \"fields\": [\n    {\n      \"column\": \"about_the_game\",\n      \"properties\": {\n        \"dtype\": \"string\",\n        \"num_unique_values\": 200,\n        \"samples\": [\n          \"Go behind enemy lines to forge your army, conquer Fortresses and dominate Mordor from within. Experience how the award winning Nemesis System creates unique personal stories with every enemy and follower, and confront the full power of the Dark Lord Sauron and his Ringwraiths in this epic new story of Middle-earth.  \\n \\r\\nIn Middle-earth\\u2122: Shadow of War\\u2122, nothing will be forgotten.\",\n          \"Inspired by the adventure and imagination that we love from classic science-fiction, No Man's Sky presents you with a galaxy to explore, filled with unique planets and lifeforms, and constant danger and action. In No Man's Sky, every star is the light of a distant sun, each orbited by planets filled with life, and you can go to any of them you choose. Fly smoothly from deep space to planetary surfaces, with no loading screens, and no limits. In this infinite procedurally generated universe, you'll discover places and creatures that no other players have seen before - and perhaps never will again. Now including... Play with all major updates since launch: Foundation, Pathfinder, Atlas Rises, NEXT, The Abyss, Visions, the 2.0 BEYOND update, Synthesis, Living Ship, Exo Mech, Desolation and the 3.0 update, ORIGINS, Next Generation, Companions, Expeditions, Prisms, Frontiers, Sentinel, Outlaws, Endurance, Waypoint (4.0),  Fractal, Interceptor, Echoes, Omega and Orbital. Available for PC and Mac (see recommended and minimum specs for details). An epic voyage to the centre of a shared universe awaits, allowing you to explore, trade, fight and survive alone or with friends. Embark on an epic voyage At the centre of the galaxy lies a irresistible pulse which draws you on a journey towards it to learn the true nature of the cosmos. But, facing hostile creatures and fierce pirates, you'll know that death comes at a cost, and survival will be down to the choices you make over how you upgrade your ship, your weapon and suit. Find your own destiny Your voyage through No Man's Sky is up to you. Will you be a fighter, preying on the weak and taking their riches, or taking out pirates for their bounties? Power is yours if you upgrade your ship for speed and weaponry. Or a trader? Find rich resources on forgotten worlds and exploit them for the highest prices. Invest in more cargo space and you'll reap huge rewards. Or perhaps an explorer? Go beyond the known frontier and discover places and things that no one has ever seen before. Upgrade your engines to jump ever farther, and strengthen your suit for survival in toxic environments that would kill the unwary. Share your journey The galaxy is a living, breathing place. Trade convoys travel between stars, factions vie for territory, pirates hunt the unwary, and the police are ever watching. Every other player lives in the same galaxy, and you can choose to share your discoveries with them on a map that spans known space. Perhaps you will see the results of their actions as well as your own...\",\n          \"Call of Duty\\u00ae: Black Ops III Zombies Chronicles Edition includes the full base game and the Zombies Chronicles content expansion. \\n \\r\\nCall of Duty: Black Ops III combines three unique game modes: Campaign, Multiplayer, and Zombies, providing fans with the deepest and most ambitious Call of Duty ever. \\n \\r\\nThe Zombies Chronicles content expansion delivers 8 remastered classic Zombies maps from Call of Duty\\u00ae: World at War, Call of Duty\\u00ae: Black Ops and Call of Duty\\u00ae: Black Ops II. Complete maps from the original saga are fully remastered and HD playable within Call of Duty\\u00ae: Black Ops III.\"\n        ],\n        \"semantic_type\": \"\",\n        \"description\": \"\"\n      }\n    },\n    {\n      \"column\": \"steamId\",\n      \"properties\": {\n        \"dtype\": \"number\",\n        \"std\": 536849,\n        \"min\": 12210,\n        \"max\": 2519060,\n        \"num_unique_values\": 200,\n        \"samples\": [\n          356190,\n          275850,\n          311210\n        ],\n        \"semantic_type\": \"\",\n        \"description\": \"\"\n      }\n    },\n    {\n      \"column\": \"img_count\",\n      \"properties\": {\n        \"dtype\": \"number\",\n        \"std\": 4,\n        \"min\": 0,\n        \"max\": 34,\n        \"num_unique_values\": 16,\n        \"samples\": [\n          12,\n          0,\n          2\n        ],\n        \"semantic_type\": \"\",\n        \"description\": \"\"\n      }\n    },\n    {\n      \"column\": \"link_count\",\n      \"properties\": {\n        \"dtype\": \"number\",\n        \"std\": 1,\n        \"min\": 0,\n        \"max\": 10,\n        \"num_unique_values\": 7,\n        \"samples\": [\n          0,\n          1,\n          10\n        ],\n        \"semantic_type\": \"\",\n        \"description\": \"\"\n      }\n    }\n  ]\n}"
            }
          },
          "metadata": {},
          "execution_count": 7
        }
      ]
    },
    {
      "cell_type": "markdown",
      "source": [
        "The last part of data collection is getting rid of fields that we will not use and merging together our three different API collections to get a singular dataframe which we will process further for model building. The most important features are about_the_game which has much meaning left to extract from the description. As well as copiesSold being the total copies sold tracked as of the current point in time (5/7/2024) with sales being the total copies sold about a month after release for two potential response variables to compare. It's nice having the timeStamp and releaseDate fields too since we'll be able to calculate time after release that the sales feature's value is for."
      ],
      "metadata": {
        "id": "PmaNhKpNKLSV"
      }
    },
    {
      "cell_type": "code",
      "source": [
        "df = pd.merge(df, df1, on='steamId')\n",
        "df = pd.merge(df, df2, on='steamId')\n",
        "df = df[[\"steamId\",\"name\",\"copiesSold\",\"timeStamp\",\"releaseDate\",\"sales\",\"about_the_game\",\"img_count\",\"link_count\"]]"
      ],
      "metadata": {
        "id": "tlQBPJ_cxZs1"
      },
      "execution_count": 11,
      "outputs": []
    },
    {
      "cell_type": "code",
      "source": [
        "df"
      ],
      "metadata": {
        "colab": {
          "base_uri": "https://localhost:8080/",
          "height": 424
        },
        "id": "gL7klgK-H45H",
        "outputId": "6efdff31-5d3d-458c-806c-3c4bbe3ce81e"
      },
      "execution_count": 12,
      "outputs": [
        {
          "output_type": "execute_result",
          "data": {
            "text/plain": [
              "     steamId                             name  copiesSold  \\\n",
              "0    1086940                  Baldur's Gate 3    16113300   \n",
              "1     271590               Grand Theft Auto V    35118817   \n",
              "2    1091500                   Cyberpunk 2077    14072558   \n",
              "3     306130        The Elder Scrolls® Online     5226369   \n",
              "4     359550  Tom Clancy's Rainbow Six® Siege    21327664   \n",
              "..       ...                              ...         ...   \n",
              "195   431240           Golf With Your Friends     3734612   \n",
              "196   292730  Call of Duty®: Infinite Warfare      600697   \n",
              "197   310950                 Street Fighter V     1278316   \n",
              "198   960090                      Bloons TD 6     7209688   \n",
              "199   851850           DRAGON BALL Z: KAKAROT     1143220   \n",
              "\n",
              "                  timeStamp    releaseDate     sales  \\\n",
              "0   2020-12-01 05:00:00.000  1691035200000   1504620   \n",
              "1   2024-05-07 06:26:56.409  1428897600000  39394460   \n",
              "2   2024-05-07 05:31:27.344  1607490000000  14080902   \n",
              "3   2015-02-02 00:00:00.000  1495425600000     39870   \n",
              "4   2024-05-06 10:32:59.826  1448946000000  21336380   \n",
              "..                      ...            ...       ...   \n",
              "195 2016-02-02 00:00:00.000  1589860800000     20942   \n",
              "196 2024-05-07 05:09:05.067  1478145600000    601660   \n",
              "197 2024-05-06 09:30:24.148  1455512400000   1278519   \n",
              "198 2024-05-07 05:00:23.050  1545022800000   7213041   \n",
              "199 2024-05-07 05:47:36.442  1579150800000   1143118   \n",
              "\n",
              "                                        about_the_game  img_count  link_count  \n",
              "0    Gather your party and return to the Forgotten ...         12           0  \n",
              "1    When a young street hustler, a retired bank ro...          0           1  \n",
              "2    Cyberpunk 2077 is an open-world, action-advent...          8           1  \n",
              "3    Experience an ever-expanding story across all ...          0           0  \n",
              "4    “One of the best first-person shooters ever ma...          4           0  \n",
              "..                                                 ...        ...         ...  \n",
              "195  Why have friends if not to play Golf... With Y...          6           0  \n",
              "196  Includes the Terminal Bonus Map and Zombies in...          1           0  \n",
              "197  Experience the intensity of head-to-head battl...          6           0  \n",
              "198  Craft your perfect defense from a combination ...          5           6  \n",
              "199  BE THE HOPE OF THE UNIVERSE • Experience the s...          3           0  \n",
              "\n",
              "[200 rows x 9 columns]"
            ],
            "text/html": [
              "\n",
              "  <div id=\"df-7bdfa19b-e2c9-4625-943a-dac232bd43e2\" class=\"colab-df-container\">\n",
              "    <div>\n",
              "<style scoped>\n",
              "    .dataframe tbody tr th:only-of-type {\n",
              "        vertical-align: middle;\n",
              "    }\n",
              "\n",
              "    .dataframe tbody tr th {\n",
              "        vertical-align: top;\n",
              "    }\n",
              "\n",
              "    .dataframe thead th {\n",
              "        text-align: right;\n",
              "    }\n",
              "</style>\n",
              "<table border=\"1\" class=\"dataframe\">\n",
              "  <thead>\n",
              "    <tr style=\"text-align: right;\">\n",
              "      <th></th>\n",
              "      <th>steamId</th>\n",
              "      <th>name</th>\n",
              "      <th>copiesSold</th>\n",
              "      <th>timeStamp</th>\n",
              "      <th>releaseDate</th>\n",
              "      <th>sales</th>\n",
              "      <th>about_the_game</th>\n",
              "      <th>img_count</th>\n",
              "      <th>link_count</th>\n",
              "    </tr>\n",
              "  </thead>\n",
              "  <tbody>\n",
              "    <tr>\n",
              "      <th>0</th>\n",
              "      <td>1086940</td>\n",
              "      <td>Baldur's Gate 3</td>\n",
              "      <td>16113300</td>\n",
              "      <td>2020-12-01 05:00:00.000</td>\n",
              "      <td>1691035200000</td>\n",
              "      <td>1504620</td>\n",
              "      <td>Gather your party and return to the Forgotten ...</td>\n",
              "      <td>12</td>\n",
              "      <td>0</td>\n",
              "    </tr>\n",
              "    <tr>\n",
              "      <th>1</th>\n",
              "      <td>271590</td>\n",
              "      <td>Grand Theft Auto V</td>\n",
              "      <td>35118817</td>\n",
              "      <td>2024-05-07 06:26:56.409</td>\n",
              "      <td>1428897600000</td>\n",
              "      <td>39394460</td>\n",
              "      <td>When a young street hustler, a retired bank ro...</td>\n",
              "      <td>0</td>\n",
              "      <td>1</td>\n",
              "    </tr>\n",
              "    <tr>\n",
              "      <th>2</th>\n",
              "      <td>1091500</td>\n",
              "      <td>Cyberpunk 2077</td>\n",
              "      <td>14072558</td>\n",
              "      <td>2024-05-07 05:31:27.344</td>\n",
              "      <td>1607490000000</td>\n",
              "      <td>14080902</td>\n",
              "      <td>Cyberpunk 2077 is an open-world, action-advent...</td>\n",
              "      <td>8</td>\n",
              "      <td>1</td>\n",
              "    </tr>\n",
              "    <tr>\n",
              "      <th>3</th>\n",
              "      <td>306130</td>\n",
              "      <td>The Elder Scrolls® Online</td>\n",
              "      <td>5226369</td>\n",
              "      <td>2015-02-02 00:00:00.000</td>\n",
              "      <td>1495425600000</td>\n",
              "      <td>39870</td>\n",
              "      <td>Experience an ever-expanding story across all ...</td>\n",
              "      <td>0</td>\n",
              "      <td>0</td>\n",
              "    </tr>\n",
              "    <tr>\n",
              "      <th>4</th>\n",
              "      <td>359550</td>\n",
              "      <td>Tom Clancy's Rainbow Six® Siege</td>\n",
              "      <td>21327664</td>\n",
              "      <td>2024-05-06 10:32:59.826</td>\n",
              "      <td>1448946000000</td>\n",
              "      <td>21336380</td>\n",
              "      <td>“One of the best first-person shooters ever ma...</td>\n",
              "      <td>4</td>\n",
              "      <td>0</td>\n",
              "    </tr>\n",
              "    <tr>\n",
              "      <th>...</th>\n",
              "      <td>...</td>\n",
              "      <td>...</td>\n",
              "      <td>...</td>\n",
              "      <td>...</td>\n",
              "      <td>...</td>\n",
              "      <td>...</td>\n",
              "      <td>...</td>\n",
              "      <td>...</td>\n",
              "      <td>...</td>\n",
              "    </tr>\n",
              "    <tr>\n",
              "      <th>195</th>\n",
              "      <td>431240</td>\n",
              "      <td>Golf With Your Friends</td>\n",
              "      <td>3734612</td>\n",
              "      <td>2016-02-02 00:00:00.000</td>\n",
              "      <td>1589860800000</td>\n",
              "      <td>20942</td>\n",
              "      <td>Why have friends if not to play Golf... With Y...</td>\n",
              "      <td>6</td>\n",
              "      <td>0</td>\n",
              "    </tr>\n",
              "    <tr>\n",
              "      <th>196</th>\n",
              "      <td>292730</td>\n",
              "      <td>Call of Duty®: Infinite Warfare</td>\n",
              "      <td>600697</td>\n",
              "      <td>2024-05-07 05:09:05.067</td>\n",
              "      <td>1478145600000</td>\n",
              "      <td>601660</td>\n",
              "      <td>Includes the Terminal Bonus Map and Zombies in...</td>\n",
              "      <td>1</td>\n",
              "      <td>0</td>\n",
              "    </tr>\n",
              "    <tr>\n",
              "      <th>197</th>\n",
              "      <td>310950</td>\n",
              "      <td>Street Fighter V</td>\n",
              "      <td>1278316</td>\n",
              "      <td>2024-05-06 09:30:24.148</td>\n",
              "      <td>1455512400000</td>\n",
              "      <td>1278519</td>\n",
              "      <td>Experience the intensity of head-to-head battl...</td>\n",
              "      <td>6</td>\n",
              "      <td>0</td>\n",
              "    </tr>\n",
              "    <tr>\n",
              "      <th>198</th>\n",
              "      <td>960090</td>\n",
              "      <td>Bloons TD 6</td>\n",
              "      <td>7209688</td>\n",
              "      <td>2024-05-07 05:00:23.050</td>\n",
              "      <td>1545022800000</td>\n",
              "      <td>7213041</td>\n",
              "      <td>Craft your perfect defense from a combination ...</td>\n",
              "      <td>5</td>\n",
              "      <td>6</td>\n",
              "    </tr>\n",
              "    <tr>\n",
              "      <th>199</th>\n",
              "      <td>851850</td>\n",
              "      <td>DRAGON BALL Z: KAKAROT</td>\n",
              "      <td>1143220</td>\n",
              "      <td>2024-05-07 05:47:36.442</td>\n",
              "      <td>1579150800000</td>\n",
              "      <td>1143118</td>\n",
              "      <td>BE THE HOPE OF THE UNIVERSE • Experience the s...</td>\n",
              "      <td>3</td>\n",
              "      <td>0</td>\n",
              "    </tr>\n",
              "  </tbody>\n",
              "</table>\n",
              "<p>200 rows × 9 columns</p>\n",
              "</div>\n",
              "    <div class=\"colab-df-buttons\">\n",
              "\n",
              "  <div class=\"colab-df-container\">\n",
              "    <button class=\"colab-df-convert\" onclick=\"convertToInteractive('df-7bdfa19b-e2c9-4625-943a-dac232bd43e2')\"\n",
              "            title=\"Convert this dataframe to an interactive table.\"\n",
              "            style=\"display:none;\">\n",
              "\n",
              "  <svg xmlns=\"http://www.w3.org/2000/svg\" height=\"24px\" viewBox=\"0 -960 960 960\">\n",
              "    <path d=\"M120-120v-720h720v720H120Zm60-500h600v-160H180v160Zm220 220h160v-160H400v160Zm0 220h160v-160H400v160ZM180-400h160v-160H180v160Zm440 0h160v-160H620v160ZM180-180h160v-160H180v160Zm440 0h160v-160H620v160Z\"/>\n",
              "  </svg>\n",
              "    </button>\n",
              "\n",
              "  <style>\n",
              "    .colab-df-container {\n",
              "      display:flex;\n",
              "      gap: 12px;\n",
              "    }\n",
              "\n",
              "    .colab-df-convert {\n",
              "      background-color: #E8F0FE;\n",
              "      border: none;\n",
              "      border-radius: 50%;\n",
              "      cursor: pointer;\n",
              "      display: none;\n",
              "      fill: #1967D2;\n",
              "      height: 32px;\n",
              "      padding: 0 0 0 0;\n",
              "      width: 32px;\n",
              "    }\n",
              "\n",
              "    .colab-df-convert:hover {\n",
              "      background-color: #E2EBFA;\n",
              "      box-shadow: 0px 1px 2px rgba(60, 64, 67, 0.3), 0px 1px 3px 1px rgba(60, 64, 67, 0.15);\n",
              "      fill: #174EA6;\n",
              "    }\n",
              "\n",
              "    .colab-df-buttons div {\n",
              "      margin-bottom: 4px;\n",
              "    }\n",
              "\n",
              "    [theme=dark] .colab-df-convert {\n",
              "      background-color: #3B4455;\n",
              "      fill: #D2E3FC;\n",
              "    }\n",
              "\n",
              "    [theme=dark] .colab-df-convert:hover {\n",
              "      background-color: #434B5C;\n",
              "      box-shadow: 0px 1px 3px 1px rgba(0, 0, 0, 0.15);\n",
              "      filter: drop-shadow(0px 1px 2px rgba(0, 0, 0, 0.3));\n",
              "      fill: #FFFFFF;\n",
              "    }\n",
              "  </style>\n",
              "\n",
              "    <script>\n",
              "      const buttonEl =\n",
              "        document.querySelector('#df-7bdfa19b-e2c9-4625-943a-dac232bd43e2 button.colab-df-convert');\n",
              "      buttonEl.style.display =\n",
              "        google.colab.kernel.accessAllowed ? 'block' : 'none';\n",
              "\n",
              "      async function convertToInteractive(key) {\n",
              "        const element = document.querySelector('#df-7bdfa19b-e2c9-4625-943a-dac232bd43e2');\n",
              "        const dataTable =\n",
              "          await google.colab.kernel.invokeFunction('convertToInteractive',\n",
              "                                                    [key], {});\n",
              "        if (!dataTable) return;\n",
              "\n",
              "        const docLinkHtml = 'Like what you see? Visit the ' +\n",
              "          '<a target=\"_blank\" href=https://colab.research.google.com/notebooks/data_table.ipynb>data table notebook</a>'\n",
              "          + ' to learn more about interactive tables.';\n",
              "        element.innerHTML = '';\n",
              "        dataTable['output_type'] = 'display_data';\n",
              "        await google.colab.output.renderOutput(dataTable, element);\n",
              "        const docLink = document.createElement('div');\n",
              "        docLink.innerHTML = docLinkHtml;\n",
              "        element.appendChild(docLink);\n",
              "      }\n",
              "    </script>\n",
              "  </div>\n",
              "\n",
              "\n",
              "<div id=\"df-710e0989-99f6-4b57-a97d-275dbf0c3983\">\n",
              "  <button class=\"colab-df-quickchart\" onclick=\"quickchart('df-710e0989-99f6-4b57-a97d-275dbf0c3983')\"\n",
              "            title=\"Suggest charts\"\n",
              "            style=\"display:none;\">\n",
              "\n",
              "<svg xmlns=\"http://www.w3.org/2000/svg\" height=\"24px\"viewBox=\"0 0 24 24\"\n",
              "     width=\"24px\">\n",
              "    <g>\n",
              "        <path d=\"M19 3H5c-1.1 0-2 .9-2 2v14c0 1.1.9 2 2 2h14c1.1 0 2-.9 2-2V5c0-1.1-.9-2-2-2zM9 17H7v-7h2v7zm4 0h-2V7h2v10zm4 0h-2v-4h2v4z\"/>\n",
              "    </g>\n",
              "</svg>\n",
              "  </button>\n",
              "\n",
              "<style>\n",
              "  .colab-df-quickchart {\n",
              "      --bg-color: #E8F0FE;\n",
              "      --fill-color: #1967D2;\n",
              "      --hover-bg-color: #E2EBFA;\n",
              "      --hover-fill-color: #174EA6;\n",
              "      --disabled-fill-color: #AAA;\n",
              "      --disabled-bg-color: #DDD;\n",
              "  }\n",
              "\n",
              "  [theme=dark] .colab-df-quickchart {\n",
              "      --bg-color: #3B4455;\n",
              "      --fill-color: #D2E3FC;\n",
              "      --hover-bg-color: #434B5C;\n",
              "      --hover-fill-color: #FFFFFF;\n",
              "      --disabled-bg-color: #3B4455;\n",
              "      --disabled-fill-color: #666;\n",
              "  }\n",
              "\n",
              "  .colab-df-quickchart {\n",
              "    background-color: var(--bg-color);\n",
              "    border: none;\n",
              "    border-radius: 50%;\n",
              "    cursor: pointer;\n",
              "    display: none;\n",
              "    fill: var(--fill-color);\n",
              "    height: 32px;\n",
              "    padding: 0;\n",
              "    width: 32px;\n",
              "  }\n",
              "\n",
              "  .colab-df-quickchart:hover {\n",
              "    background-color: var(--hover-bg-color);\n",
              "    box-shadow: 0 1px 2px rgba(60, 64, 67, 0.3), 0 1px 3px 1px rgba(60, 64, 67, 0.15);\n",
              "    fill: var(--button-hover-fill-color);\n",
              "  }\n",
              "\n",
              "  .colab-df-quickchart-complete:disabled,\n",
              "  .colab-df-quickchart-complete:disabled:hover {\n",
              "    background-color: var(--disabled-bg-color);\n",
              "    fill: var(--disabled-fill-color);\n",
              "    box-shadow: none;\n",
              "  }\n",
              "\n",
              "  .colab-df-spinner {\n",
              "    border: 2px solid var(--fill-color);\n",
              "    border-color: transparent;\n",
              "    border-bottom-color: var(--fill-color);\n",
              "    animation:\n",
              "      spin 1s steps(1) infinite;\n",
              "  }\n",
              "\n",
              "  @keyframes spin {\n",
              "    0% {\n",
              "      border-color: transparent;\n",
              "      border-bottom-color: var(--fill-color);\n",
              "      border-left-color: var(--fill-color);\n",
              "    }\n",
              "    20% {\n",
              "      border-color: transparent;\n",
              "      border-left-color: var(--fill-color);\n",
              "      border-top-color: var(--fill-color);\n",
              "    }\n",
              "    30% {\n",
              "      border-color: transparent;\n",
              "      border-left-color: var(--fill-color);\n",
              "      border-top-color: var(--fill-color);\n",
              "      border-right-color: var(--fill-color);\n",
              "    }\n",
              "    40% {\n",
              "      border-color: transparent;\n",
              "      border-right-color: var(--fill-color);\n",
              "      border-top-color: var(--fill-color);\n",
              "    }\n",
              "    60% {\n",
              "      border-color: transparent;\n",
              "      border-right-color: var(--fill-color);\n",
              "    }\n",
              "    80% {\n",
              "      border-color: transparent;\n",
              "      border-right-color: var(--fill-color);\n",
              "      border-bottom-color: var(--fill-color);\n",
              "    }\n",
              "    90% {\n",
              "      border-color: transparent;\n",
              "      border-bottom-color: var(--fill-color);\n",
              "    }\n",
              "  }\n",
              "</style>\n",
              "\n",
              "  <script>\n",
              "    async function quickchart(key) {\n",
              "      const quickchartButtonEl =\n",
              "        document.querySelector('#' + key + ' button');\n",
              "      quickchartButtonEl.disabled = true;  // To prevent multiple clicks.\n",
              "      quickchartButtonEl.classList.add('colab-df-spinner');\n",
              "      try {\n",
              "        const charts = await google.colab.kernel.invokeFunction(\n",
              "            'suggestCharts', [key], {});\n",
              "      } catch (error) {\n",
              "        console.error('Error during call to suggestCharts:', error);\n",
              "      }\n",
              "      quickchartButtonEl.classList.remove('colab-df-spinner');\n",
              "      quickchartButtonEl.classList.add('colab-df-quickchart-complete');\n",
              "    }\n",
              "    (() => {\n",
              "      let quickchartButtonEl =\n",
              "        document.querySelector('#df-710e0989-99f6-4b57-a97d-275dbf0c3983 button');\n",
              "      quickchartButtonEl.style.display =\n",
              "        google.colab.kernel.accessAllowed ? 'block' : 'none';\n",
              "    })();\n",
              "  </script>\n",
              "</div>\n",
              "\n",
              "  <div id=\"id_1a4ed2e7-4915-48cf-89c0-011277b8867e\">\n",
              "    <style>\n",
              "      .colab-df-generate {\n",
              "        background-color: #E8F0FE;\n",
              "        border: none;\n",
              "        border-radius: 50%;\n",
              "        cursor: pointer;\n",
              "        display: none;\n",
              "        fill: #1967D2;\n",
              "        height: 32px;\n",
              "        padding: 0 0 0 0;\n",
              "        width: 32px;\n",
              "      }\n",
              "\n",
              "      .colab-df-generate:hover {\n",
              "        background-color: #E2EBFA;\n",
              "        box-shadow: 0px 1px 2px rgba(60, 64, 67, 0.3), 0px 1px 3px 1px rgba(60, 64, 67, 0.15);\n",
              "        fill: #174EA6;\n",
              "      }\n",
              "\n",
              "      [theme=dark] .colab-df-generate {\n",
              "        background-color: #3B4455;\n",
              "        fill: #D2E3FC;\n",
              "      }\n",
              "\n",
              "      [theme=dark] .colab-df-generate:hover {\n",
              "        background-color: #434B5C;\n",
              "        box-shadow: 0px 1px 3px 1px rgba(0, 0, 0, 0.15);\n",
              "        filter: drop-shadow(0px 1px 2px rgba(0, 0, 0, 0.3));\n",
              "        fill: #FFFFFF;\n",
              "      }\n",
              "    </style>\n",
              "    <button class=\"colab-df-generate\" onclick=\"generateWithVariable('df')\"\n",
              "            title=\"Generate code using this dataframe.\"\n",
              "            style=\"display:none;\">\n",
              "\n",
              "  <svg xmlns=\"http://www.w3.org/2000/svg\" height=\"24px\"viewBox=\"0 0 24 24\"\n",
              "       width=\"24px\">\n",
              "    <path d=\"M7,19H8.4L18.45,9,17,7.55,7,17.6ZM5,21V16.75L18.45,3.32a2,2,0,0,1,2.83,0l1.4,1.43a1.91,1.91,0,0,1,.58,1.4,1.91,1.91,0,0,1-.58,1.4L9.25,21ZM18.45,9,17,7.55Zm-12,3A5.31,5.31,0,0,0,4.9,8.1,5.31,5.31,0,0,0,1,6.5,5.31,5.31,0,0,0,4.9,4.9,5.31,5.31,0,0,0,6.5,1,5.31,5.31,0,0,0,8.1,4.9,5.31,5.31,0,0,0,12,6.5,5.46,5.46,0,0,0,6.5,12Z\"/>\n",
              "  </svg>\n",
              "    </button>\n",
              "    <script>\n",
              "      (() => {\n",
              "      const buttonEl =\n",
              "        document.querySelector('#id_1a4ed2e7-4915-48cf-89c0-011277b8867e button.colab-df-generate');\n",
              "      buttonEl.style.display =\n",
              "        google.colab.kernel.accessAllowed ? 'block' : 'none';\n",
              "\n",
              "      buttonEl.onclick = () => {\n",
              "        google.colab.notebook.generateWithVariable('df');\n",
              "      }\n",
              "      })();\n",
              "    </script>\n",
              "  </div>\n",
              "\n",
              "    </div>\n",
              "  </div>\n"
            ],
            "application/vnd.google.colaboratory.intrinsic+json": {
              "type": "dataframe",
              "variable_name": "df",
              "summary": "{\n  \"name\": \"df\",\n  \"rows\": 200,\n  \"fields\": [\n    {\n      \"column\": \"steamId\",\n      \"properties\": {\n        \"dtype\": \"number\",\n        \"std\": 536849,\n        \"min\": 12210,\n        \"max\": 2519060,\n        \"num_unique_values\": 200,\n        \"samples\": [\n          356190,\n          275850,\n          311210\n        ],\n        \"semantic_type\": \"\",\n        \"description\": \"\"\n      }\n    },\n    {\n      \"column\": \"name\",\n      \"properties\": {\n        \"dtype\": \"string\",\n        \"num_unique_values\": 200,\n        \"samples\": [\n          \"Middle-earth\\u2122: Shadow of War\\u2122\",\n          \"No Man's Sky\",\n          \"Call of Duty\\u00ae: Black Ops III\"\n        ],\n        \"semantic_type\": \"\",\n        \"description\": \"\"\n      }\n    },\n    {\n      \"column\": \"copiesSold\",\n      \"properties\": {\n        \"dtype\": \"number\",\n        \"std\": 4702706,\n        \"min\": 600697,\n        \"max\": 35118817,\n        \"num_unique_values\": 200,\n        \"samples\": [\n          3874439,\n          5949624,\n          4874587\n        ],\n        \"semantic_type\": \"\",\n        \"description\": \"\"\n      }\n    },\n    {\n      \"column\": \"timeStamp\",\n      \"properties\": {\n        \"dtype\": \"date\",\n        \"min\": \"2015-02-02 00:00:00\",\n        \"max\": \"2024-05-07 06:45:07.179000\",\n        \"num_unique_values\": 179,\n        \"samples\": [\n          \"2024-05-07 05:46:11.943000\",\n          \"2024-05-05 07:34:05.596000\",\n          \"2019-06-01 04:00:00\"\n        ],\n        \"semantic_type\": \"\",\n        \"description\": \"\"\n      }\n    },\n    {\n      \"column\": \"releaseDate\",\n      \"properties\": {\n        \"dtype\": \"number\",\n        \"std\": 83532341174,\n        \"min\": 1425960000000,\n        \"max\": 1714104000000,\n        \"num_unique_values\": 190,\n        \"samples\": [\n          1581656400000,\n          1650513600000,\n          1479358800000\n        ],\n        \"semantic_type\": \"\",\n        \"description\": \"\"\n      }\n    },\n    {\n      \"column\": \"sales\",\n      \"properties\": {\n        \"dtype\": \"number\",\n        \"std\": 4609662,\n        \"min\": 0,\n        \"max\": 39394460,\n        \"num_unique_values\": 200,\n        \"samples\": [\n          3875526,\n          5949676,\n          4882014\n        ],\n        \"semantic_type\": \"\",\n        \"description\": \"\"\n      }\n    },\n    {\n      \"column\": \"about_the_game\",\n      \"properties\": {\n        \"dtype\": \"string\",\n        \"num_unique_values\": 200,\n        \"samples\": [\n          \"Go behind enemy lines to forge your army, conquer Fortresses and dominate Mordor from within. Experience how the award winning Nemesis System creates unique personal stories with every enemy and follower, and confront the full power of the Dark Lord Sauron and his Ringwraiths in this epic new story of Middle-earth.  \\n \\r\\nIn Middle-earth\\u2122: Shadow of War\\u2122, nothing will be forgotten.\",\n          \"Inspired by the adventure and imagination that we love from classic science-fiction, No Man's Sky presents you with a galaxy to explore, filled with unique planets and lifeforms, and constant danger and action. In No Man's Sky, every star is the light of a distant sun, each orbited by planets filled with life, and you can go to any of them you choose. Fly smoothly from deep space to planetary surfaces, with no loading screens, and no limits. In this infinite procedurally generated universe, you'll discover places and creatures that no other players have seen before - and perhaps never will again. Now including... Play with all major updates since launch: Foundation, Pathfinder, Atlas Rises, NEXT, The Abyss, Visions, the 2.0 BEYOND update, Synthesis, Living Ship, Exo Mech, Desolation and the 3.0 update, ORIGINS, Next Generation, Companions, Expeditions, Prisms, Frontiers, Sentinel, Outlaws, Endurance, Waypoint (4.0),  Fractal, Interceptor, Echoes, Omega and Orbital. Available for PC and Mac (see recommended and minimum specs for details). An epic voyage to the centre of a shared universe awaits, allowing you to explore, trade, fight and survive alone or with friends. Embark on an epic voyage At the centre of the galaxy lies a irresistible pulse which draws you on a journey towards it to learn the true nature of the cosmos. But, facing hostile creatures and fierce pirates, you'll know that death comes at a cost, and survival will be down to the choices you make over how you upgrade your ship, your weapon and suit. Find your own destiny Your voyage through No Man's Sky is up to you. Will you be a fighter, preying on the weak and taking their riches, or taking out pirates for their bounties? Power is yours if you upgrade your ship for speed and weaponry. Or a trader? Find rich resources on forgotten worlds and exploit them for the highest prices. Invest in more cargo space and you'll reap huge rewards. Or perhaps an explorer? Go beyond the known frontier and discover places and things that no one has ever seen before. Upgrade your engines to jump ever farther, and strengthen your suit for survival in toxic environments that would kill the unwary. Share your journey The galaxy is a living, breathing place. Trade convoys travel between stars, factions vie for territory, pirates hunt the unwary, and the police are ever watching. Every other player lives in the same galaxy, and you can choose to share your discoveries with them on a map that spans known space. Perhaps you will see the results of their actions as well as your own...\",\n          \"Call of Duty\\u00ae: Black Ops III Zombies Chronicles Edition includes the full base game and the Zombies Chronicles content expansion. \\n \\r\\nCall of Duty: Black Ops III combines three unique game modes: Campaign, Multiplayer, and Zombies, providing fans with the deepest and most ambitious Call of Duty ever. \\n \\r\\nThe Zombies Chronicles content expansion delivers 8 remastered classic Zombies maps from Call of Duty\\u00ae: World at War, Call of Duty\\u00ae: Black Ops and Call of Duty\\u00ae: Black Ops II. Complete maps from the original saga are fully remastered and HD playable within Call of Duty\\u00ae: Black Ops III.\"\n        ],\n        \"semantic_type\": \"\",\n        \"description\": \"\"\n      }\n    },\n    {\n      \"column\": \"img_count\",\n      \"properties\": {\n        \"dtype\": \"number\",\n        \"std\": 4,\n        \"min\": 0,\n        \"max\": 34,\n        \"num_unique_values\": 16,\n        \"samples\": [\n          12,\n          0,\n          2\n        ],\n        \"semantic_type\": \"\",\n        \"description\": \"\"\n      }\n    },\n    {\n      \"column\": \"link_count\",\n      \"properties\": {\n        \"dtype\": \"number\",\n        \"std\": 1,\n        \"min\": 0,\n        \"max\": 10,\n        \"num_unique_values\": 7,\n        \"samples\": [\n          0,\n          1,\n          10\n        ],\n        \"semantic_type\": \"\",\n        \"description\": \"\"\n      }\n    }\n  ]\n}"
            }
          },
          "metadata": {},
          "execution_count": 12
        }
      ]
    },
    {
      "cell_type": "markdown",
      "source": [
        "We save then save the combined dataframe together and upload it to GitHub for easy access."
      ],
      "metadata": {
        "id": "fCllTPCj68Ck"
      }
    },
    {
      "cell_type": "code",
      "source": [
        "#df.to_csv('200df.csv')"
      ],
      "metadata": {
        "id": "gRtcWwy-6uFK"
      },
      "execution_count": 13,
      "outputs": []
    },
    {
      "cell_type": "code",
      "source": [
        "df = pd.read_csv(\"https://github.com/abnormalPotassium/DATA620/raw/main/Project%20Final/200df.csv\", index_col=0)"
      ],
      "metadata": {
        "id": "CRcswQKt7KCd"
      },
      "execution_count": 92,
      "outputs": []
    },
    {
      "cell_type": "markdown",
      "source": [
        "---\n",
        "## Data Cleaning"
      ],
      "metadata": {
        "id": "hYyAjKYuSdxv"
      }
    },
    {
      "cell_type": "markdown",
      "source": [
        "To get an overview of our data we are utilizing the skim function from the skimpy package. This package is based off of the SkimR library from R where the intent is to give a quick overview and jumpstart into data exploration for the data that you have. We can get some interesting insights right off the bat with our numerical variables such of sales having incredibly high values at the hundredth percentile. A possible indicator of erroneous outliers within the data. There is good news in that our data has no missing values that needs to be processed out."
      ],
      "metadata": {
        "id": "a32zMlANPO1K"
      }
    },
    {
      "cell_type": "code",
      "source": [
        "skim(df.drop('steamId', axis = 1))"
      ],
      "metadata": {
        "colab": {
          "base_uri": "https://localhost:8080/",
          "height": 571
        },
        "id": "v8BcPKjUPPCl",
        "outputId": "1b1f7983-2bd8-49a8-9be6-54f1ba971729"
      },
      "execution_count": 93,
      "outputs": [
        {
          "output_type": "display_data",
          "data": {
            "text/plain": [
              "╭──────────────────────────────────────────────── skimpy summary ─────────────────────────────────────────────────╮\n",
              "│ \u001b[3m         Data Summary         \u001b[0m \u001b[3m      Data Types       \u001b[0m                                                          │\n",
              "│ ┏━━━━━━━━━━━━━━━━━━━┳━━━━━━━━┓ ┏━━━━━━━━━━━━━┳━━━━━━━┓                                                          │\n",
              "│ ┃\u001b[1;36m \u001b[0m\u001b[1;36mdataframe        \u001b[0m\u001b[1;36m \u001b[0m┃\u001b[1;36m \u001b[0m\u001b[1;36mValues\u001b[0m\u001b[1;36m \u001b[0m┃ ┃\u001b[1;36m \u001b[0m\u001b[1;36mColumn Type\u001b[0m\u001b[1;36m \u001b[0m┃\u001b[1;36m \u001b[0m\u001b[1;36mCount\u001b[0m\u001b[1;36m \u001b[0m┃                                                          │\n",
              "│ ┡━━━━━━━━━━━━━━━━━━━╇━━━━━━━━┩ ┡━━━━━━━━━━━━━╇━━━━━━━┩                                                          │\n",
              "│ │ Number of rows    │ 200    │ │ int64       │ 5     │                                                          │\n",
              "│ │ Number of columns │ 8      │ │ string      │ 3     │                                                          │\n",
              "│ └───────────────────┴────────┘ └─────────────┴───────┘                                                          │\n",
              "│ \u001b[3m                                                    number                                                    \u001b[0m  │\n",
              "│ ┏━━━━━━━━━━┳━━━━┳━━━━━━┳━━━━━━━━━━┳━━━━━━━━━━┳━━━━━━━━━━┳━━━━━━━━━━┳━━━━━━━━━━┳━━━━━━━━━━┳━━━━━━━━━━┳━━━━━━━━┓  │\n",
              "│ ┃\u001b[1m \u001b[0m\u001b[1mcolumn_n\u001b[0m\u001b[1m \u001b[0m┃\u001b[1m    \u001b[0m┃\u001b[1m      \u001b[0m┃\u001b[1m          \u001b[0m┃\u001b[1m          \u001b[0m┃\u001b[1m          \u001b[0m┃\u001b[1m          \u001b[0m┃\u001b[1m          \u001b[0m┃\u001b[1m          \u001b[0m┃\u001b[1m          \u001b[0m┃\u001b[1m        \u001b[0m┃  │\n",
              "│ ┃\u001b[1m \u001b[0m\u001b[1mame     \u001b[0m\u001b[1m \u001b[0m┃\u001b[1m \u001b[0m\u001b[1mNA\u001b[0m\u001b[1m \u001b[0m┃\u001b[1m \u001b[0m\u001b[1mNA %\u001b[0m\u001b[1m \u001b[0m┃\u001b[1m \u001b[0m\u001b[1mmean    \u001b[0m\u001b[1m \u001b[0m┃\u001b[1m \u001b[0m\u001b[1msd      \u001b[0m\u001b[1m \u001b[0m┃\u001b[1m \u001b[0m\u001b[1mp0      \u001b[0m\u001b[1m \u001b[0m┃\u001b[1m \u001b[0m\u001b[1mp25     \u001b[0m\u001b[1m \u001b[0m┃\u001b[1m \u001b[0m\u001b[1mp50     \u001b[0m\u001b[1m \u001b[0m┃\u001b[1m \u001b[0m\u001b[1mp75     \u001b[0m\u001b[1m \u001b[0m┃\u001b[1m \u001b[0m\u001b[1mp100    \u001b[0m\u001b[1m \u001b[0m┃\u001b[1m \u001b[0m\u001b[1mhist  \u001b[0m\u001b[1m \u001b[0m┃  │\n",
              "│ ┡━━━━━━━━━━╇━━━━╇━━━━━━╇━━━━━━━━━━╇━━━━━━━━━━╇━━━━━━━━━━╇━━━━━━━━━━╇━━━━━━━━━━╇━━━━━━━━━━╇━━━━━━━━━━╇━━━━━━━━┩  │\n",
              "│ │ \u001b[38;5;141mcopiesSo\u001b[0m │ \u001b[36m 0\u001b[0m │ \u001b[36m   0\u001b[0m │ \u001b[36m 4993000\u001b[0m │ \u001b[36m 4703000\u001b[0m │ \u001b[36m  600700\u001b[0m │ \u001b[36m 2014000\u001b[0m │ \u001b[36m 3479000\u001b[0m │ \u001b[36m 5738000\u001b[0m │ \u001b[36m35120000\u001b[0m │ \u001b[32m ▇▁▁  \u001b[0m │  │\n",
              "│ │ \u001b[38;5;141mld      \u001b[0m │    │      │          │          │          │          │          │          │          │        │  │\n",
              "│ │ \u001b[38;5;141mreleaseD\u001b[0m │ \u001b[36m 0\u001b[0m │ \u001b[36m   0\u001b[0m │ \u001b[36m15700000\u001b[0m │ \u001b[36m83530000\u001b[0m │ \u001b[36m14260000\u001b[0m │ \u001b[36m14960000\u001b[0m │ \u001b[36m15720000\u001b[0m │ \u001b[36m16420000\u001b[0m │ \u001b[36m17140000\u001b[0m │ \u001b[32m▇▇▇▇▇▇\u001b[0m │  │\n",
              "│ │ \u001b[38;5;141mate     \u001b[0m │    │      │ \u001b[36m   00000\u001b[0m │ \u001b[36m     000\u001b[0m │ \u001b[36m   00000\u001b[0m │ \u001b[36m   00000\u001b[0m │ \u001b[36m   00000\u001b[0m │ \u001b[36m   00000\u001b[0m │ \u001b[36m   00000\u001b[0m │        │  │\n",
              "│ │ \u001b[38;5;141msales   \u001b[0m │ \u001b[36m 0\u001b[0m │ \u001b[36m   0\u001b[0m │ \u001b[36m 3555000\u001b[0m │ \u001b[36m 4610000\u001b[0m │ \u001b[36m       0\u001b[0m │ \u001b[36m  903900\u001b[0m │ \u001b[36m 2109000\u001b[0m │ \u001b[36m 4238000\u001b[0m │ \u001b[36m39390000\u001b[0m │ \u001b[32m  ▇▁  \u001b[0m │  │\n",
              "│ │ \u001b[38;5;141mimg_coun\u001b[0m │ \u001b[36m 0\u001b[0m │ \u001b[36m   0\u001b[0m │ \u001b[36m    3.34\u001b[0m │ \u001b[36m   4.171\u001b[0m │ \u001b[36m       0\u001b[0m │ \u001b[36m       0\u001b[0m │ \u001b[36m     2.5\u001b[0m │ \u001b[36m       5\u001b[0m │ \u001b[36m      34\u001b[0m │ \u001b[32m  ▇▂  \u001b[0m │  │\n",
              "│ │ \u001b[38;5;141mt       \u001b[0m │    │      │          │          │          │          │          │          │          │        │  │\n",
              "│ │ \u001b[38;5;141mlink_cou\u001b[0m │ \u001b[36m 0\u001b[0m │ \u001b[36m   0\u001b[0m │ \u001b[36m    0.38\u001b[0m │ \u001b[36m   1.262\u001b[0m │ \u001b[36m       0\u001b[0m │ \u001b[36m       0\u001b[0m │ \u001b[36m       0\u001b[0m │ \u001b[36m       0\u001b[0m │ \u001b[36m      10\u001b[0m │ \u001b[32m  ▇   \u001b[0m │  │\n",
              "│ │ \u001b[38;5;141mnt      \u001b[0m │    │      │          │          │          │          │          │          │          │        │  │\n",
              "│ └──────────┴────┴──────┴──────────┴──────────┴──────────┴──────────┴──────────┴──────────┴──────────┴────────┘  │\n",
              "│ \u001b[3m                                                    string                                                    \u001b[0m  │\n",
              "│ ┏━━━━━━━━━━━━━━━━━━━━━━━━━━━━━━━┳━━━━━━━━┳━━━━━━━━━━━━┳━━━━━━━━━━━━━━━━━━━━━━━━━━━━━┳━━━━━━━━━━━━━━━━━━━━━━━━┓  │\n",
              "│ ┃\u001b[1m \u001b[0m\u001b[1mcolumn_name                  \u001b[0m\u001b[1m \u001b[0m┃\u001b[1m \u001b[0m\u001b[1mNA    \u001b[0m\u001b[1m \u001b[0m┃\u001b[1m \u001b[0m\u001b[1mNA %      \u001b[0m\u001b[1m \u001b[0m┃\u001b[1m \u001b[0m\u001b[1mwords per row              \u001b[0m\u001b[1m \u001b[0m┃\u001b[1m \u001b[0m\u001b[1mtotal words           \u001b[0m\u001b[1m \u001b[0m┃  │\n",
              "│ ┡━━━━━━━━━━━━━━━━━━━━━━━━━━━━━━━╇━━━━━━━━╇━━━━━━━━━━━━╇━━━━━━━━━━━━━━━━━━━━━━━━━━━━━╇━━━━━━━━━━━━━━━━━━━━━━━━┩  │\n",
              "│ │ \u001b[38;5;141mname                         \u001b[0m │ \u001b[36m     0\u001b[0m │ \u001b[36m         0\u001b[0m │ \u001b[36m                          3\u001b[0m │ \u001b[36m                   593\u001b[0m │  │\n",
              "│ │ \u001b[38;5;141mtimeStamp                    \u001b[0m │ \u001b[36m     0\u001b[0m │ \u001b[36m         0\u001b[0m │ \u001b[36m                          2\u001b[0m │ \u001b[36m                   400\u001b[0m │  │\n",
              "│ │ \u001b[38;5;141mabout_the_game               \u001b[0m │ \u001b[36m     0\u001b[0m │ \u001b[36m         0\u001b[0m │ \u001b[36m                        350\u001b[0m │ \u001b[36m                 69872\u001b[0m │  │\n",
              "│ └───────────────────────────────┴────────┴────────────┴─────────────────────────────┴────────────────────────┘  │\n",
              "╰────────────────────────────────────────────────────── End ──────────────────────────────────────────────────────╯\n"
            ],
            "text/html": [
              "<pre style=\"white-space:pre;overflow-x:auto;line-height:normal;font-family:Menlo,'DejaVu Sans Mono',consolas,'Courier New',monospace\">╭──────────────────────────────────────────────── skimpy summary ─────────────────────────────────────────────────╮\n",
              "│ <span style=\"font-style: italic\">         Data Summary         </span> <span style=\"font-style: italic\">      Data Types       </span>                                                          │\n",
              "│ ┏━━━━━━━━━━━━━━━━━━━┳━━━━━━━━┓ ┏━━━━━━━━━━━━━┳━━━━━━━┓                                                          │\n",
              "│ ┃<span style=\"color: #008080; text-decoration-color: #008080; font-weight: bold\"> dataframe         </span>┃<span style=\"color: #008080; text-decoration-color: #008080; font-weight: bold\"> Values </span>┃ ┃<span style=\"color: #008080; text-decoration-color: #008080; font-weight: bold\"> Column Type </span>┃<span style=\"color: #008080; text-decoration-color: #008080; font-weight: bold\"> Count </span>┃                                                          │\n",
              "│ ┡━━━━━━━━━━━━━━━━━━━╇━━━━━━━━┩ ┡━━━━━━━━━━━━━╇━━━━━━━┩                                                          │\n",
              "│ │ Number of rows    │ 200    │ │ int64       │ 5     │                                                          │\n",
              "│ │ Number of columns │ 8      │ │ string      │ 3     │                                                          │\n",
              "│ └───────────────────┴────────┘ └─────────────┴───────┘                                                          │\n",
              "│ <span style=\"font-style: italic\">                                                    number                                                    </span>  │\n",
              "│ ┏━━━━━━━━━━┳━━━━┳━━━━━━┳━━━━━━━━━━┳━━━━━━━━━━┳━━━━━━━━━━┳━━━━━━━━━━┳━━━━━━━━━━┳━━━━━━━━━━┳━━━━━━━━━━┳━━━━━━━━┓  │\n",
              "│ ┃<span style=\"font-weight: bold\"> column_n </span>┃<span style=\"font-weight: bold\">    </span>┃<span style=\"font-weight: bold\">      </span>┃<span style=\"font-weight: bold\">          </span>┃<span style=\"font-weight: bold\">          </span>┃<span style=\"font-weight: bold\">          </span>┃<span style=\"font-weight: bold\">          </span>┃<span style=\"font-weight: bold\">          </span>┃<span style=\"font-weight: bold\">          </span>┃<span style=\"font-weight: bold\">          </span>┃<span style=\"font-weight: bold\">        </span>┃  │\n",
              "│ ┃<span style=\"font-weight: bold\"> ame      </span>┃<span style=\"font-weight: bold\"> NA </span>┃<span style=\"font-weight: bold\"> NA % </span>┃<span style=\"font-weight: bold\"> mean     </span>┃<span style=\"font-weight: bold\"> sd       </span>┃<span style=\"font-weight: bold\"> p0       </span>┃<span style=\"font-weight: bold\"> p25      </span>┃<span style=\"font-weight: bold\"> p50      </span>┃<span style=\"font-weight: bold\"> p75      </span>┃<span style=\"font-weight: bold\"> p100     </span>┃<span style=\"font-weight: bold\"> hist   </span>┃  │\n",
              "│ ┡━━━━━━━━━━╇━━━━╇━━━━━━╇━━━━━━━━━━╇━━━━━━━━━━╇━━━━━━━━━━╇━━━━━━━━━━╇━━━━━━━━━━╇━━━━━━━━━━╇━━━━━━━━━━╇━━━━━━━━┩  │\n",
              "│ │ <span style=\"color: #af87ff; text-decoration-color: #af87ff\">copiesSo</span> │ <span style=\"color: #008080; text-decoration-color: #008080\"> 0</span> │ <span style=\"color: #008080; text-decoration-color: #008080\">   0</span> │ <span style=\"color: #008080; text-decoration-color: #008080\"> 4993000</span> │ <span style=\"color: #008080; text-decoration-color: #008080\"> 4703000</span> │ <span style=\"color: #008080; text-decoration-color: #008080\">  600700</span> │ <span style=\"color: #008080; text-decoration-color: #008080\"> 2014000</span> │ <span style=\"color: #008080; text-decoration-color: #008080\"> 3479000</span> │ <span style=\"color: #008080; text-decoration-color: #008080\"> 5738000</span> │ <span style=\"color: #008080; text-decoration-color: #008080\">35120000</span> │ <span style=\"color: #008000; text-decoration-color: #008000\"> ▇▁▁  </span> │  │\n",
              "│ │ <span style=\"color: #af87ff; text-decoration-color: #af87ff\">ld      </span> │    │      │          │          │          │          │          │          │          │        │  │\n",
              "│ │ <span style=\"color: #af87ff; text-decoration-color: #af87ff\">releaseD</span> │ <span style=\"color: #008080; text-decoration-color: #008080\"> 0</span> │ <span style=\"color: #008080; text-decoration-color: #008080\">   0</span> │ <span style=\"color: #008080; text-decoration-color: #008080\">15700000</span> │ <span style=\"color: #008080; text-decoration-color: #008080\">83530000</span> │ <span style=\"color: #008080; text-decoration-color: #008080\">14260000</span> │ <span style=\"color: #008080; text-decoration-color: #008080\">14960000</span> │ <span style=\"color: #008080; text-decoration-color: #008080\">15720000</span> │ <span style=\"color: #008080; text-decoration-color: #008080\">16420000</span> │ <span style=\"color: #008080; text-decoration-color: #008080\">17140000</span> │ <span style=\"color: #008000; text-decoration-color: #008000\">▇▇▇▇▇▇</span> │  │\n",
              "│ │ <span style=\"color: #af87ff; text-decoration-color: #af87ff\">ate     </span> │    │      │ <span style=\"color: #008080; text-decoration-color: #008080\">   00000</span> │ <span style=\"color: #008080; text-decoration-color: #008080\">     000</span> │ <span style=\"color: #008080; text-decoration-color: #008080\">   00000</span> │ <span style=\"color: #008080; text-decoration-color: #008080\">   00000</span> │ <span style=\"color: #008080; text-decoration-color: #008080\">   00000</span> │ <span style=\"color: #008080; text-decoration-color: #008080\">   00000</span> │ <span style=\"color: #008080; text-decoration-color: #008080\">   00000</span> │        │  │\n",
              "│ │ <span style=\"color: #af87ff; text-decoration-color: #af87ff\">sales   </span> │ <span style=\"color: #008080; text-decoration-color: #008080\"> 0</span> │ <span style=\"color: #008080; text-decoration-color: #008080\">   0</span> │ <span style=\"color: #008080; text-decoration-color: #008080\"> 3555000</span> │ <span style=\"color: #008080; text-decoration-color: #008080\"> 4610000</span> │ <span style=\"color: #008080; text-decoration-color: #008080\">       0</span> │ <span style=\"color: #008080; text-decoration-color: #008080\">  903900</span> │ <span style=\"color: #008080; text-decoration-color: #008080\"> 2109000</span> │ <span style=\"color: #008080; text-decoration-color: #008080\"> 4238000</span> │ <span style=\"color: #008080; text-decoration-color: #008080\">39390000</span> │ <span style=\"color: #008000; text-decoration-color: #008000\">  ▇▁  </span> │  │\n",
              "│ │ <span style=\"color: #af87ff; text-decoration-color: #af87ff\">img_coun</span> │ <span style=\"color: #008080; text-decoration-color: #008080\"> 0</span> │ <span style=\"color: #008080; text-decoration-color: #008080\">   0</span> │ <span style=\"color: #008080; text-decoration-color: #008080\">    3.34</span> │ <span style=\"color: #008080; text-decoration-color: #008080\">   4.171</span> │ <span style=\"color: #008080; text-decoration-color: #008080\">       0</span> │ <span style=\"color: #008080; text-decoration-color: #008080\">       0</span> │ <span style=\"color: #008080; text-decoration-color: #008080\">     2.5</span> │ <span style=\"color: #008080; text-decoration-color: #008080\">       5</span> │ <span style=\"color: #008080; text-decoration-color: #008080\">      34</span> │ <span style=\"color: #008000; text-decoration-color: #008000\">  ▇▂  </span> │  │\n",
              "│ │ <span style=\"color: #af87ff; text-decoration-color: #af87ff\">t       </span> │    │      │          │          │          │          │          │          │          │        │  │\n",
              "│ │ <span style=\"color: #af87ff; text-decoration-color: #af87ff\">link_cou</span> │ <span style=\"color: #008080; text-decoration-color: #008080\"> 0</span> │ <span style=\"color: #008080; text-decoration-color: #008080\">   0</span> │ <span style=\"color: #008080; text-decoration-color: #008080\">    0.38</span> │ <span style=\"color: #008080; text-decoration-color: #008080\">   1.262</span> │ <span style=\"color: #008080; text-decoration-color: #008080\">       0</span> │ <span style=\"color: #008080; text-decoration-color: #008080\">       0</span> │ <span style=\"color: #008080; text-decoration-color: #008080\">       0</span> │ <span style=\"color: #008080; text-decoration-color: #008080\">       0</span> │ <span style=\"color: #008080; text-decoration-color: #008080\">      10</span> │ <span style=\"color: #008000; text-decoration-color: #008000\">  ▇   </span> │  │\n",
              "│ │ <span style=\"color: #af87ff; text-decoration-color: #af87ff\">nt      </span> │    │      │          │          │          │          │          │          │          │        │  │\n",
              "│ └──────────┴────┴──────┴──────────┴──────────┴──────────┴──────────┴──────────┴──────────┴──────────┴────────┘  │\n",
              "│ <span style=\"font-style: italic\">                                                    string                                                    </span>  │\n",
              "│ ┏━━━━━━━━━━━━━━━━━━━━━━━━━━━━━━━┳━━━━━━━━┳━━━━━━━━━━━━┳━━━━━━━━━━━━━━━━━━━━━━━━━━━━━┳━━━━━━━━━━━━━━━━━━━━━━━━┓  │\n",
              "│ ┃<span style=\"font-weight: bold\"> column_name                   </span>┃<span style=\"font-weight: bold\"> NA     </span>┃<span style=\"font-weight: bold\"> NA %       </span>┃<span style=\"font-weight: bold\"> words per row               </span>┃<span style=\"font-weight: bold\"> total words            </span>┃  │\n",
              "│ ┡━━━━━━━━━━━━━━━━━━━━━━━━━━━━━━━╇━━━━━━━━╇━━━━━━━━━━━━╇━━━━━━━━━━━━━━━━━━━━━━━━━━━━━╇━━━━━━━━━━━━━━━━━━━━━━━━┩  │\n",
              "│ │ <span style=\"color: #af87ff; text-decoration-color: #af87ff\">name                         </span> │ <span style=\"color: #008080; text-decoration-color: #008080\">     0</span> │ <span style=\"color: #008080; text-decoration-color: #008080\">         0</span> │ <span style=\"color: #008080; text-decoration-color: #008080\">                          3</span> │ <span style=\"color: #008080; text-decoration-color: #008080\">                   593</span> │  │\n",
              "│ │ <span style=\"color: #af87ff; text-decoration-color: #af87ff\">timeStamp                    </span> │ <span style=\"color: #008080; text-decoration-color: #008080\">     0</span> │ <span style=\"color: #008080; text-decoration-color: #008080\">         0</span> │ <span style=\"color: #008080; text-decoration-color: #008080\">                          2</span> │ <span style=\"color: #008080; text-decoration-color: #008080\">                   400</span> │  │\n",
              "│ │ <span style=\"color: #af87ff; text-decoration-color: #af87ff\">about_the_game               </span> │ <span style=\"color: #008080; text-decoration-color: #008080\">     0</span> │ <span style=\"color: #008080; text-decoration-color: #008080\">         0</span> │ <span style=\"color: #008080; text-decoration-color: #008080\">                        350</span> │ <span style=\"color: #008080; text-decoration-color: #008080\">                 69872</span> │  │\n",
              "│ └───────────────────────────────┴────────┴────────────┴─────────────────────────────┴────────────────────────┘  │\n",
              "╰────────────────────────────────────────────────────── End ──────────────────────────────────────────────────────╯\n",
              "</pre>\n"
            ]
          },
          "metadata": {}
        }
      ]
    },
    {
      "cell_type": "markdown",
      "source": [
        "#### Date Time and Sales Processing"
      ],
      "metadata": {
        "id": "2MaXiVL-LbQ0"
      }
    },
    {
      "cell_type": "markdown",
      "source": [
        "One of the things to note in our skim table is that the timestamp and release date columns are not in a proper format for analysis. The release date is currently stored in unix datetime format down to the millisecond. While the timestamp string is found to be contained in three different formats: unix datetime millisecond, year-month-day with time to the second, and year-month-day with time down to the millisecond.\n",
        "\n",
        "We have to convert these values to proper datetime variables in order to make processing and analyzing the data easier. This conversion is done through the to_datetime function provided by Pandas. We also remove the time from these dates, as our calculations will not be needing such specificity."
      ],
      "metadata": {
        "id": "GwVs1Jwf4CDf"
      }
    },
    {
      "cell_type": "code",
      "source": [
        "tcol = df.columns.get_loc('timeStamp')\n",
        "for i,x in enumerate(df['timeStamp']):\n",
        "  try:\n",
        "    df.iloc[i, tcol] = pd.to_datetime(x, format='%Y-%m-%d %H:%M:%S')\n",
        "  except ValueError:\n",
        "    try:\n",
        "      df.iloc[i, tcol] = pd.to_datetime(x, format='%Y-%m-%d %H:%M:%S.%f')\n",
        "    except ValueError:\n",
        "      df.iloc[i, tcol] = pd.to_datetime(int(x), unit='ms')"
      ],
      "metadata": {
        "id": "wC2_sY_VRFxa"
      },
      "execution_count": 94,
      "outputs": []
    },
    {
      "cell_type": "code",
      "source": [
        "df['timeStamp'] = pd.to_datetime(df['timeStamp']).dt.floor('D')\n",
        "df['releaseDate'] = pd.to_datetime(df['releaseDate'], unit='ms').dt.floor('D')"
      ],
      "metadata": {
        "id": "42NO9vaALGMn"
      },
      "execution_count": 95,
      "outputs": []
    },
    {
      "cell_type": "markdown",
      "source": [
        "With these two columns in datetime format we are able to create the new time after release column. This is how long after the release date the historical sales data was actually recorded. As previously mentioned, we are aiming for a months worth of sales data after release. However, historical data records do not necessarily match up to exactly thirty days or even approximately close to thirty days. Thus, we need to account for this discrepancy in our data by normalizing the historical sales records by adjusting the value to match a time after of release which was actually thirty days."
      ],
      "metadata": {
        "id": "6lW3P5OaPwTV"
      }
    },
    {
      "cell_type": "code",
      "source": [
        "df['timeAfterRelease'] = abs(df['timeStamp'] - df['releaseDate'])"
      ],
      "metadata": {
        "id": "IFKhQGwx4NTL"
      },
      "execution_count": 96,
      "outputs": []
    },
    {
      "cell_type": "markdown",
      "source": [
        "Our adjustment formula is a fairly simple approach that does assume a fairly linear increase in sales past the two week mark up until the two month mark. We create an adjustment factor that is the percent of thirty days that the historical data was actually recorded. Then this adjustment factor is multiplied by sales and rounded to the nearest whole number as we can not have a decimal amount of a sale."
      ],
      "metadata": {
        "id": "sT9cigA1-W3A"
      }
    },
    {
      "cell_type": "code",
      "source": [
        "df['sales_adj'] = round(df['sales'] / (df['timeAfterRelease']/pd.Timedelta(days=30)), 0).apply(lambda x: int(x))"
      ],
      "metadata": {
        "id": "JIs8K7FUCQ4-"
      },
      "execution_count": 97,
      "outputs": []
    },
    {
      "cell_type": "markdown",
      "source": [
        "We have to convert the Copies_Sold column into a classification column, where 0 represents no copies of the game were sold and a 1 represents copies of the game being sold."
      ],
      "metadata": {
        "id": "hi-gXAmdA29p"
      }
    },
    {
      "cell_type": "code",
      "source": [
        "df2 = df.rename(columns={\"name\": \"Name\", \"steamId\" : \"Steam_Id\",\"about_the_game\":\"Description\"})\n",
        "df2.loc[:,'Copies_Sold2'] = np.where(df2['copiesSold'] > 0, 1,0)"
      ],
      "metadata": {
        "id": "L36WrQtBA7km"
      },
      "execution_count": 98,
      "outputs": []
    },
    {
      "cell_type": "markdown",
      "source": [
        "## Data Preprocessing"
      ],
      "metadata": {
        "id": "qPDZ3BsJAiaA"
      }
    },
    {
      "cell_type": "markdown",
      "source": [
        "Now that we have cleaned up most of the data-frame and removed columns and added a classification column. We will now further clean up the description column by removing punctuation, stopwords and convert all of the words to lower-case before we feed it into our machine-learning algorithms."
      ],
      "metadata": {
        "id": "h2jF2cP-Amuj"
      }
    },
    {
      "cell_type": "code",
      "source": [
        "## First we need to remove the puncunation\n",
        "## Apparently I have to use loc if I want to add a new column too it\n",
        "df2.loc[:, 'Clean_Description']= df2['Description'].apply(lambda x: re.sub(r'[^\\w\\s]', '', x))\n",
        "\n",
        "df2.loc[:, 'Clean_Description'] = df2['Clean_Description'].apply(lambda x: word_tokenize(x))\n",
        "\n",
        "## Call for the stopwords\n",
        "stop_words = set(stopwords.words('english'))\n",
        "\n",
        "## Remove all the stopwords and then recreate it back as a sentence..\n",
        "df2.loc[:, 'Clean_Description'] = df2['Clean_Description'].apply(lambda x: [word for word in x if word not in stop_words])\n",
        "df2.loc[:, 'Clean_Description'] = df2['Clean_Description'].apply(lambda x: ' '.join(x))\n",
        "\n",
        "df2"
      ],
      "metadata": {
        "colab": {
          "base_uri": "https://localhost:8080/",
          "height": 424
        },
        "id": "S2m6-vtMAoOX",
        "outputId": "fa7c7d2d-b645-49fd-bbcf-1cb35864cbd2"
      },
      "execution_count": 99,
      "outputs": [
        {
          "output_type": "execute_result",
          "data": {
            "text/plain": [
              "     Steam_Id                             Name  copiesSold  timeStamp  \\\n",
              "0     1086940                  Baldur's Gate 3    16113300 2020-12-01   \n",
              "1      271590               Grand Theft Auto V    35118817 2024-05-07   \n",
              "2     1091500                   Cyberpunk 2077    14072558 2024-05-07   \n",
              "3      306130        The Elder Scrolls® Online     5226369 2015-02-02   \n",
              "4      359550  Tom Clancy's Rainbow Six® Siege    21327664 2024-05-06   \n",
              "..        ...                              ...         ...        ...   \n",
              "195    431240           Golf With Your Friends     3734612 2016-02-02   \n",
              "196    292730  Call of Duty®: Infinite Warfare      600697 2024-05-07   \n",
              "197    310950                 Street Fighter V     1278316 2024-05-06   \n",
              "198    960090                      Bloons TD 6     7209688 2024-05-07   \n",
              "199    851850           DRAGON BALL Z: KAKAROT     1143220 2024-05-07   \n",
              "\n",
              "    releaseDate     sales                                        Description  \\\n",
              "0    2023-08-03   1504620  Gather your party and return to the Forgotten ...   \n",
              "1    2015-04-13  39394460  When a young street hustler, a retired bank ro...   \n",
              "2    2020-12-09  14080902  Cyberpunk 2077 is an open-world, action-advent...   \n",
              "3    2017-05-22     39870  Experience an ever-expanding story across all ...   \n",
              "4    2015-12-01  21336380  “One of the best first-person shooters ever ma...   \n",
              "..          ...       ...                                                ...   \n",
              "195  2020-05-19     20942  Why have friends if not to play Golf... With Y...   \n",
              "196  2016-11-03    601660  Includes the Terminal Bonus Map and Zombies in...   \n",
              "197  2016-02-15   1278519  Experience the intensity of head-to-head battl...   \n",
              "198  2018-12-17   7213041  Craft your perfect defense from a combination ...   \n",
              "199  2020-01-16   1143118  BE THE HOPE OF THE UNIVERSE • Experience the s...   \n",
              "\n",
              "     img_count  link_count timeAfterRelease  sales_adj  Copies_Sold2  \\\n",
              "0           12           0         975 days      46296             1   \n",
              "1            0           1        3312 days     356834             1   \n",
              "2            8           1        1245 days     339299             1   \n",
              "3            0           0         840 days       1424             1   \n",
              "4            4           0        3079 days     207889             1   \n",
              "..         ...         ...              ...        ...           ...   \n",
              "195          6           0        1568 days        401             1   \n",
              "196          1           0        2742 days       6583             1   \n",
              "197          6           0        3003 days      12772             1   \n",
              "198          5           6        1968 days     109955             1   \n",
              "199          3           0        1573 days      21801             1   \n",
              "\n",
              "                                     Clean_Description  \n",
              "0    Gather party return Forgotten Realms tale fell...  \n",
              "1    When young street hustler retired bank robber ...  \n",
              "2    Cyberpunk 2077 openworld actionadventure RPG s...  \n",
              "3    Experience everexpanding story across Tamriel ...  \n",
              "4    One best firstperson shooters ever made 1010 G...  \n",
              "..                                                 ...  \n",
              "195  Why friends play Golf With Your Friends Nothin...  \n",
              "196  Includes Terminal Bonus Map Zombies Spaceland ...  \n",
              "197  Experience intensity headtohead battle Street ...  \n",
              "198  Craft perfect defense combination powerful Mon...  \n",
              "199  BE THE HOPE OF THE UNIVERSE Experience story D...  \n",
              "\n",
              "[200 rows x 13 columns]"
            ],
            "text/html": [
              "\n",
              "  <div id=\"df-402bb5bb-3ea6-40b5-ace8-b2f57530a90d\" class=\"colab-df-container\">\n",
              "    <div>\n",
              "<style scoped>\n",
              "    .dataframe tbody tr th:only-of-type {\n",
              "        vertical-align: middle;\n",
              "    }\n",
              "\n",
              "    .dataframe tbody tr th {\n",
              "        vertical-align: top;\n",
              "    }\n",
              "\n",
              "    .dataframe thead th {\n",
              "        text-align: right;\n",
              "    }\n",
              "</style>\n",
              "<table border=\"1\" class=\"dataframe\">\n",
              "  <thead>\n",
              "    <tr style=\"text-align: right;\">\n",
              "      <th></th>\n",
              "      <th>Steam_Id</th>\n",
              "      <th>Name</th>\n",
              "      <th>copiesSold</th>\n",
              "      <th>timeStamp</th>\n",
              "      <th>releaseDate</th>\n",
              "      <th>sales</th>\n",
              "      <th>Description</th>\n",
              "      <th>img_count</th>\n",
              "      <th>link_count</th>\n",
              "      <th>timeAfterRelease</th>\n",
              "      <th>sales_adj</th>\n",
              "      <th>Copies_Sold2</th>\n",
              "      <th>Clean_Description</th>\n",
              "    </tr>\n",
              "  </thead>\n",
              "  <tbody>\n",
              "    <tr>\n",
              "      <th>0</th>\n",
              "      <td>1086940</td>\n",
              "      <td>Baldur's Gate 3</td>\n",
              "      <td>16113300</td>\n",
              "      <td>2020-12-01</td>\n",
              "      <td>2023-08-03</td>\n",
              "      <td>1504620</td>\n",
              "      <td>Gather your party and return to the Forgotten ...</td>\n",
              "      <td>12</td>\n",
              "      <td>0</td>\n",
              "      <td>975 days</td>\n",
              "      <td>46296</td>\n",
              "      <td>1</td>\n",
              "      <td>Gather party return Forgotten Realms tale fell...</td>\n",
              "    </tr>\n",
              "    <tr>\n",
              "      <th>1</th>\n",
              "      <td>271590</td>\n",
              "      <td>Grand Theft Auto V</td>\n",
              "      <td>35118817</td>\n",
              "      <td>2024-05-07</td>\n",
              "      <td>2015-04-13</td>\n",
              "      <td>39394460</td>\n",
              "      <td>When a young street hustler, a retired bank ro...</td>\n",
              "      <td>0</td>\n",
              "      <td>1</td>\n",
              "      <td>3312 days</td>\n",
              "      <td>356834</td>\n",
              "      <td>1</td>\n",
              "      <td>When young street hustler retired bank robber ...</td>\n",
              "    </tr>\n",
              "    <tr>\n",
              "      <th>2</th>\n",
              "      <td>1091500</td>\n",
              "      <td>Cyberpunk 2077</td>\n",
              "      <td>14072558</td>\n",
              "      <td>2024-05-07</td>\n",
              "      <td>2020-12-09</td>\n",
              "      <td>14080902</td>\n",
              "      <td>Cyberpunk 2077 is an open-world, action-advent...</td>\n",
              "      <td>8</td>\n",
              "      <td>1</td>\n",
              "      <td>1245 days</td>\n",
              "      <td>339299</td>\n",
              "      <td>1</td>\n",
              "      <td>Cyberpunk 2077 openworld actionadventure RPG s...</td>\n",
              "    </tr>\n",
              "    <tr>\n",
              "      <th>3</th>\n",
              "      <td>306130</td>\n",
              "      <td>The Elder Scrolls® Online</td>\n",
              "      <td>5226369</td>\n",
              "      <td>2015-02-02</td>\n",
              "      <td>2017-05-22</td>\n",
              "      <td>39870</td>\n",
              "      <td>Experience an ever-expanding story across all ...</td>\n",
              "      <td>0</td>\n",
              "      <td>0</td>\n",
              "      <td>840 days</td>\n",
              "      <td>1424</td>\n",
              "      <td>1</td>\n",
              "      <td>Experience everexpanding story across Tamriel ...</td>\n",
              "    </tr>\n",
              "    <tr>\n",
              "      <th>4</th>\n",
              "      <td>359550</td>\n",
              "      <td>Tom Clancy's Rainbow Six® Siege</td>\n",
              "      <td>21327664</td>\n",
              "      <td>2024-05-06</td>\n",
              "      <td>2015-12-01</td>\n",
              "      <td>21336380</td>\n",
              "      <td>“One of the best first-person shooters ever ma...</td>\n",
              "      <td>4</td>\n",
              "      <td>0</td>\n",
              "      <td>3079 days</td>\n",
              "      <td>207889</td>\n",
              "      <td>1</td>\n",
              "      <td>One best firstperson shooters ever made 1010 G...</td>\n",
              "    </tr>\n",
              "    <tr>\n",
              "      <th>...</th>\n",
              "      <td>...</td>\n",
              "      <td>...</td>\n",
              "      <td>...</td>\n",
              "      <td>...</td>\n",
              "      <td>...</td>\n",
              "      <td>...</td>\n",
              "      <td>...</td>\n",
              "      <td>...</td>\n",
              "      <td>...</td>\n",
              "      <td>...</td>\n",
              "      <td>...</td>\n",
              "      <td>...</td>\n",
              "      <td>...</td>\n",
              "    </tr>\n",
              "    <tr>\n",
              "      <th>195</th>\n",
              "      <td>431240</td>\n",
              "      <td>Golf With Your Friends</td>\n",
              "      <td>3734612</td>\n",
              "      <td>2016-02-02</td>\n",
              "      <td>2020-05-19</td>\n",
              "      <td>20942</td>\n",
              "      <td>Why have friends if not to play Golf... With Y...</td>\n",
              "      <td>6</td>\n",
              "      <td>0</td>\n",
              "      <td>1568 days</td>\n",
              "      <td>401</td>\n",
              "      <td>1</td>\n",
              "      <td>Why friends play Golf With Your Friends Nothin...</td>\n",
              "    </tr>\n",
              "    <tr>\n",
              "      <th>196</th>\n",
              "      <td>292730</td>\n",
              "      <td>Call of Duty®: Infinite Warfare</td>\n",
              "      <td>600697</td>\n",
              "      <td>2024-05-07</td>\n",
              "      <td>2016-11-03</td>\n",
              "      <td>601660</td>\n",
              "      <td>Includes the Terminal Bonus Map and Zombies in...</td>\n",
              "      <td>1</td>\n",
              "      <td>0</td>\n",
              "      <td>2742 days</td>\n",
              "      <td>6583</td>\n",
              "      <td>1</td>\n",
              "      <td>Includes Terminal Bonus Map Zombies Spaceland ...</td>\n",
              "    </tr>\n",
              "    <tr>\n",
              "      <th>197</th>\n",
              "      <td>310950</td>\n",
              "      <td>Street Fighter V</td>\n",
              "      <td>1278316</td>\n",
              "      <td>2024-05-06</td>\n",
              "      <td>2016-02-15</td>\n",
              "      <td>1278519</td>\n",
              "      <td>Experience the intensity of head-to-head battl...</td>\n",
              "      <td>6</td>\n",
              "      <td>0</td>\n",
              "      <td>3003 days</td>\n",
              "      <td>12772</td>\n",
              "      <td>1</td>\n",
              "      <td>Experience intensity headtohead battle Street ...</td>\n",
              "    </tr>\n",
              "    <tr>\n",
              "      <th>198</th>\n",
              "      <td>960090</td>\n",
              "      <td>Bloons TD 6</td>\n",
              "      <td>7209688</td>\n",
              "      <td>2024-05-07</td>\n",
              "      <td>2018-12-17</td>\n",
              "      <td>7213041</td>\n",
              "      <td>Craft your perfect defense from a combination ...</td>\n",
              "      <td>5</td>\n",
              "      <td>6</td>\n",
              "      <td>1968 days</td>\n",
              "      <td>109955</td>\n",
              "      <td>1</td>\n",
              "      <td>Craft perfect defense combination powerful Mon...</td>\n",
              "    </tr>\n",
              "    <tr>\n",
              "      <th>199</th>\n",
              "      <td>851850</td>\n",
              "      <td>DRAGON BALL Z: KAKAROT</td>\n",
              "      <td>1143220</td>\n",
              "      <td>2024-05-07</td>\n",
              "      <td>2020-01-16</td>\n",
              "      <td>1143118</td>\n",
              "      <td>BE THE HOPE OF THE UNIVERSE • Experience the s...</td>\n",
              "      <td>3</td>\n",
              "      <td>0</td>\n",
              "      <td>1573 days</td>\n",
              "      <td>21801</td>\n",
              "      <td>1</td>\n",
              "      <td>BE THE HOPE OF THE UNIVERSE Experience story D...</td>\n",
              "    </tr>\n",
              "  </tbody>\n",
              "</table>\n",
              "<p>200 rows × 13 columns</p>\n",
              "</div>\n",
              "    <div class=\"colab-df-buttons\">\n",
              "\n",
              "  <div class=\"colab-df-container\">\n",
              "    <button class=\"colab-df-convert\" onclick=\"convertToInteractive('df-402bb5bb-3ea6-40b5-ace8-b2f57530a90d')\"\n",
              "            title=\"Convert this dataframe to an interactive table.\"\n",
              "            style=\"display:none;\">\n",
              "\n",
              "  <svg xmlns=\"http://www.w3.org/2000/svg\" height=\"24px\" viewBox=\"0 -960 960 960\">\n",
              "    <path d=\"M120-120v-720h720v720H120Zm60-500h600v-160H180v160Zm220 220h160v-160H400v160Zm0 220h160v-160H400v160ZM180-400h160v-160H180v160Zm440 0h160v-160H620v160ZM180-180h160v-160H180v160Zm440 0h160v-160H620v160Z\"/>\n",
              "  </svg>\n",
              "    </button>\n",
              "\n",
              "  <style>\n",
              "    .colab-df-container {\n",
              "      display:flex;\n",
              "      gap: 12px;\n",
              "    }\n",
              "\n",
              "    .colab-df-convert {\n",
              "      background-color: #E8F0FE;\n",
              "      border: none;\n",
              "      border-radius: 50%;\n",
              "      cursor: pointer;\n",
              "      display: none;\n",
              "      fill: #1967D2;\n",
              "      height: 32px;\n",
              "      padding: 0 0 0 0;\n",
              "      width: 32px;\n",
              "    }\n",
              "\n",
              "    .colab-df-convert:hover {\n",
              "      background-color: #E2EBFA;\n",
              "      box-shadow: 0px 1px 2px rgba(60, 64, 67, 0.3), 0px 1px 3px 1px rgba(60, 64, 67, 0.15);\n",
              "      fill: #174EA6;\n",
              "    }\n",
              "\n",
              "    .colab-df-buttons div {\n",
              "      margin-bottom: 4px;\n",
              "    }\n",
              "\n",
              "    [theme=dark] .colab-df-convert {\n",
              "      background-color: #3B4455;\n",
              "      fill: #D2E3FC;\n",
              "    }\n",
              "\n",
              "    [theme=dark] .colab-df-convert:hover {\n",
              "      background-color: #434B5C;\n",
              "      box-shadow: 0px 1px 3px 1px rgba(0, 0, 0, 0.15);\n",
              "      filter: drop-shadow(0px 1px 2px rgba(0, 0, 0, 0.3));\n",
              "      fill: #FFFFFF;\n",
              "    }\n",
              "  </style>\n",
              "\n",
              "    <script>\n",
              "      const buttonEl =\n",
              "        document.querySelector('#df-402bb5bb-3ea6-40b5-ace8-b2f57530a90d button.colab-df-convert');\n",
              "      buttonEl.style.display =\n",
              "        google.colab.kernel.accessAllowed ? 'block' : 'none';\n",
              "\n",
              "      async function convertToInteractive(key) {\n",
              "        const element = document.querySelector('#df-402bb5bb-3ea6-40b5-ace8-b2f57530a90d');\n",
              "        const dataTable =\n",
              "          await google.colab.kernel.invokeFunction('convertToInteractive',\n",
              "                                                    [key], {});\n",
              "        if (!dataTable) return;\n",
              "\n",
              "        const docLinkHtml = 'Like what you see? Visit the ' +\n",
              "          '<a target=\"_blank\" href=https://colab.research.google.com/notebooks/data_table.ipynb>data table notebook</a>'\n",
              "          + ' to learn more about interactive tables.';\n",
              "        element.innerHTML = '';\n",
              "        dataTable['output_type'] = 'display_data';\n",
              "        await google.colab.output.renderOutput(dataTable, element);\n",
              "        const docLink = document.createElement('div');\n",
              "        docLink.innerHTML = docLinkHtml;\n",
              "        element.appendChild(docLink);\n",
              "      }\n",
              "    </script>\n",
              "  </div>\n",
              "\n",
              "\n",
              "<div id=\"df-45d02fd7-a5d7-4c31-ba27-cc6b82ae1c9e\">\n",
              "  <button class=\"colab-df-quickchart\" onclick=\"quickchart('df-45d02fd7-a5d7-4c31-ba27-cc6b82ae1c9e')\"\n",
              "            title=\"Suggest charts\"\n",
              "            style=\"display:none;\">\n",
              "\n",
              "<svg xmlns=\"http://www.w3.org/2000/svg\" height=\"24px\"viewBox=\"0 0 24 24\"\n",
              "     width=\"24px\">\n",
              "    <g>\n",
              "        <path d=\"M19 3H5c-1.1 0-2 .9-2 2v14c0 1.1.9 2 2 2h14c1.1 0 2-.9 2-2V5c0-1.1-.9-2-2-2zM9 17H7v-7h2v7zm4 0h-2V7h2v10zm4 0h-2v-4h2v4z\"/>\n",
              "    </g>\n",
              "</svg>\n",
              "  </button>\n",
              "\n",
              "<style>\n",
              "  .colab-df-quickchart {\n",
              "      --bg-color: #E8F0FE;\n",
              "      --fill-color: #1967D2;\n",
              "      --hover-bg-color: #E2EBFA;\n",
              "      --hover-fill-color: #174EA6;\n",
              "      --disabled-fill-color: #AAA;\n",
              "      --disabled-bg-color: #DDD;\n",
              "  }\n",
              "\n",
              "  [theme=dark] .colab-df-quickchart {\n",
              "      --bg-color: #3B4455;\n",
              "      --fill-color: #D2E3FC;\n",
              "      --hover-bg-color: #434B5C;\n",
              "      --hover-fill-color: #FFFFFF;\n",
              "      --disabled-bg-color: #3B4455;\n",
              "      --disabled-fill-color: #666;\n",
              "  }\n",
              "\n",
              "  .colab-df-quickchart {\n",
              "    background-color: var(--bg-color);\n",
              "    border: none;\n",
              "    border-radius: 50%;\n",
              "    cursor: pointer;\n",
              "    display: none;\n",
              "    fill: var(--fill-color);\n",
              "    height: 32px;\n",
              "    padding: 0;\n",
              "    width: 32px;\n",
              "  }\n",
              "\n",
              "  .colab-df-quickchart:hover {\n",
              "    background-color: var(--hover-bg-color);\n",
              "    box-shadow: 0 1px 2px rgba(60, 64, 67, 0.3), 0 1px 3px 1px rgba(60, 64, 67, 0.15);\n",
              "    fill: var(--button-hover-fill-color);\n",
              "  }\n",
              "\n",
              "  .colab-df-quickchart-complete:disabled,\n",
              "  .colab-df-quickchart-complete:disabled:hover {\n",
              "    background-color: var(--disabled-bg-color);\n",
              "    fill: var(--disabled-fill-color);\n",
              "    box-shadow: none;\n",
              "  }\n",
              "\n",
              "  .colab-df-spinner {\n",
              "    border: 2px solid var(--fill-color);\n",
              "    border-color: transparent;\n",
              "    border-bottom-color: var(--fill-color);\n",
              "    animation:\n",
              "      spin 1s steps(1) infinite;\n",
              "  }\n",
              "\n",
              "  @keyframes spin {\n",
              "    0% {\n",
              "      border-color: transparent;\n",
              "      border-bottom-color: var(--fill-color);\n",
              "      border-left-color: var(--fill-color);\n",
              "    }\n",
              "    20% {\n",
              "      border-color: transparent;\n",
              "      border-left-color: var(--fill-color);\n",
              "      border-top-color: var(--fill-color);\n",
              "    }\n",
              "    30% {\n",
              "      border-color: transparent;\n",
              "      border-left-color: var(--fill-color);\n",
              "      border-top-color: var(--fill-color);\n",
              "      border-right-color: var(--fill-color);\n",
              "    }\n",
              "    40% {\n",
              "      border-color: transparent;\n",
              "      border-right-color: var(--fill-color);\n",
              "      border-top-color: var(--fill-color);\n",
              "    }\n",
              "    60% {\n",
              "      border-color: transparent;\n",
              "      border-right-color: var(--fill-color);\n",
              "    }\n",
              "    80% {\n",
              "      border-color: transparent;\n",
              "      border-right-color: var(--fill-color);\n",
              "      border-bottom-color: var(--fill-color);\n",
              "    }\n",
              "    90% {\n",
              "      border-color: transparent;\n",
              "      border-bottom-color: var(--fill-color);\n",
              "    }\n",
              "  }\n",
              "</style>\n",
              "\n",
              "  <script>\n",
              "    async function quickchart(key) {\n",
              "      const quickchartButtonEl =\n",
              "        document.querySelector('#' + key + ' button');\n",
              "      quickchartButtonEl.disabled = true;  // To prevent multiple clicks.\n",
              "      quickchartButtonEl.classList.add('colab-df-spinner');\n",
              "      try {\n",
              "        const charts = await google.colab.kernel.invokeFunction(\n",
              "            'suggestCharts', [key], {});\n",
              "      } catch (error) {\n",
              "        console.error('Error during call to suggestCharts:', error);\n",
              "      }\n",
              "      quickchartButtonEl.classList.remove('colab-df-spinner');\n",
              "      quickchartButtonEl.classList.add('colab-df-quickchart-complete');\n",
              "    }\n",
              "    (() => {\n",
              "      let quickchartButtonEl =\n",
              "        document.querySelector('#df-45d02fd7-a5d7-4c31-ba27-cc6b82ae1c9e button');\n",
              "      quickchartButtonEl.style.display =\n",
              "        google.colab.kernel.accessAllowed ? 'block' : 'none';\n",
              "    })();\n",
              "  </script>\n",
              "</div>\n",
              "\n",
              "  <div id=\"id_6c33bd92-7dc6-466c-be92-875753774aa5\">\n",
              "    <style>\n",
              "      .colab-df-generate {\n",
              "        background-color: #E8F0FE;\n",
              "        border: none;\n",
              "        border-radius: 50%;\n",
              "        cursor: pointer;\n",
              "        display: none;\n",
              "        fill: #1967D2;\n",
              "        height: 32px;\n",
              "        padding: 0 0 0 0;\n",
              "        width: 32px;\n",
              "      }\n",
              "\n",
              "      .colab-df-generate:hover {\n",
              "        background-color: #E2EBFA;\n",
              "        box-shadow: 0px 1px 2px rgba(60, 64, 67, 0.3), 0px 1px 3px 1px rgba(60, 64, 67, 0.15);\n",
              "        fill: #174EA6;\n",
              "      }\n",
              "\n",
              "      [theme=dark] .colab-df-generate {\n",
              "        background-color: #3B4455;\n",
              "        fill: #D2E3FC;\n",
              "      }\n",
              "\n",
              "      [theme=dark] .colab-df-generate:hover {\n",
              "        background-color: #434B5C;\n",
              "        box-shadow: 0px 1px 3px 1px rgba(0, 0, 0, 0.15);\n",
              "        filter: drop-shadow(0px 1px 2px rgba(0, 0, 0, 0.3));\n",
              "        fill: #FFFFFF;\n",
              "      }\n",
              "    </style>\n",
              "    <button class=\"colab-df-generate\" onclick=\"generateWithVariable('df2')\"\n",
              "            title=\"Generate code using this dataframe.\"\n",
              "            style=\"display:none;\">\n",
              "\n",
              "  <svg xmlns=\"http://www.w3.org/2000/svg\" height=\"24px\"viewBox=\"0 0 24 24\"\n",
              "       width=\"24px\">\n",
              "    <path d=\"M7,19H8.4L18.45,9,17,7.55,7,17.6ZM5,21V16.75L18.45,3.32a2,2,0,0,1,2.83,0l1.4,1.43a1.91,1.91,0,0,1,.58,1.4,1.91,1.91,0,0,1-.58,1.4L9.25,21ZM18.45,9,17,7.55Zm-12,3A5.31,5.31,0,0,0,4.9,8.1,5.31,5.31,0,0,0,1,6.5,5.31,5.31,0,0,0,4.9,4.9,5.31,5.31,0,0,0,6.5,1,5.31,5.31,0,0,0,8.1,4.9,5.31,5.31,0,0,0,12,6.5,5.46,5.46,0,0,0,6.5,12Z\"/>\n",
              "  </svg>\n",
              "    </button>\n",
              "    <script>\n",
              "      (() => {\n",
              "      const buttonEl =\n",
              "        document.querySelector('#id_6c33bd92-7dc6-466c-be92-875753774aa5 button.colab-df-generate');\n",
              "      buttonEl.style.display =\n",
              "        google.colab.kernel.accessAllowed ? 'block' : 'none';\n",
              "\n",
              "      buttonEl.onclick = () => {\n",
              "        google.colab.notebook.generateWithVariable('df2');\n",
              "      }\n",
              "      })();\n",
              "    </script>\n",
              "  </div>\n",
              "\n",
              "    </div>\n",
              "  </div>\n"
            ],
            "application/vnd.google.colaboratory.intrinsic+json": {
              "type": "dataframe",
              "variable_name": "df2",
              "summary": "{\n  \"name\": \"df2\",\n  \"rows\": 200,\n  \"fields\": [\n    {\n      \"column\": \"Steam_Id\",\n      \"properties\": {\n        \"dtype\": \"number\",\n        \"std\": 536849,\n        \"min\": 12210,\n        \"max\": 2519060,\n        \"num_unique_values\": 200,\n        \"samples\": [\n          356190,\n          275850,\n          311210\n        ],\n        \"semantic_type\": \"\",\n        \"description\": \"\"\n      }\n    },\n    {\n      \"column\": \"Name\",\n      \"properties\": {\n        \"dtype\": \"string\",\n        \"num_unique_values\": 200,\n        \"samples\": [\n          \"Middle-earth\\u2122: Shadow of War\\u2122\",\n          \"No Man's Sky\",\n          \"Call of Duty\\u00ae: Black Ops III\"\n        ],\n        \"semantic_type\": \"\",\n        \"description\": \"\"\n      }\n    },\n    {\n      \"column\": \"copiesSold\",\n      \"properties\": {\n        \"dtype\": \"number\",\n        \"std\": 4702706,\n        \"min\": 600697,\n        \"max\": 35118817,\n        \"num_unique_values\": 200,\n        \"samples\": [\n          3874439,\n          5949624,\n          4874587\n        ],\n        \"semantic_type\": \"\",\n        \"description\": \"\"\n      }\n    },\n    {\n      \"column\": \"timeStamp\",\n      \"properties\": {\n        \"dtype\": \"date\",\n        \"min\": \"2015-02-02 00:00:00\",\n        \"max\": \"2024-05-07 00:00:00\",\n        \"num_unique_values\": 39,\n        \"samples\": [\n          \"2018-10-02 00:00:00\",\n          \"2019-04-01 00:00:00\",\n          \"2024-05-04 00:00:00\"\n        ],\n        \"semantic_type\": \"\",\n        \"description\": \"\"\n      }\n    },\n    {\n      \"column\": \"releaseDate\",\n      \"properties\": {\n        \"dtype\": \"date\",\n        \"min\": \"2015-03-10 00:00:00\",\n        \"max\": \"2024-04-26 00:00:00\",\n        \"num_unique_values\": 190,\n        \"samples\": [\n          \"2020-02-14 00:00:00\",\n          \"2022-04-21 00:00:00\",\n          \"2016-11-17 00:00:00\"\n        ],\n        \"semantic_type\": \"\",\n        \"description\": \"\"\n      }\n    },\n    {\n      \"column\": \"sales\",\n      \"properties\": {\n        \"dtype\": \"number\",\n        \"std\": 4609662,\n        \"min\": 0,\n        \"max\": 39394460,\n        \"num_unique_values\": 200,\n        \"samples\": [\n          3875526,\n          5949676,\n          4882014\n        ],\n        \"semantic_type\": \"\",\n        \"description\": \"\"\n      }\n    },\n    {\n      \"column\": \"Description\",\n      \"properties\": {\n        \"dtype\": \"string\",\n        \"num_unique_values\": 200,\n        \"samples\": [\n          \"Go behind enemy lines to forge your army, conquer Fortresses and dominate Mordor from within. Experience how the award winning Nemesis System creates unique personal stories with every enemy and follower, and confront the full power of the Dark Lord Sauron and his Ringwraiths in this epic new story of Middle-earth.  \\n \\r\\nIn Middle-earth\\u2122: Shadow of War\\u2122, nothing will be forgotten.\",\n          \"Inspired by the adventure and imagination that we love from classic science-fiction, No Man's Sky presents you with a galaxy to explore, filled with unique planets and lifeforms, and constant danger and action. In No Man's Sky, every star is the light of a distant sun, each orbited by planets filled with life, and you can go to any of them you choose. Fly smoothly from deep space to planetary surfaces, with no loading screens, and no limits. In this infinite procedurally generated universe, you'll discover places and creatures that no other players have seen before - and perhaps never will again. Now including... Play with all major updates since launch: Foundation, Pathfinder, Atlas Rises, NEXT, The Abyss, Visions, the 2.0 BEYOND update, Synthesis, Living Ship, Exo Mech, Desolation and the 3.0 update, ORIGINS, Next Generation, Companions, Expeditions, Prisms, Frontiers, Sentinel, Outlaws, Endurance, Waypoint (4.0),  Fractal, Interceptor, Echoes, Omega and Orbital. Available for PC and Mac (see recommended and minimum specs for details). An epic voyage to the centre of a shared universe awaits, allowing you to explore, trade, fight and survive alone or with friends. Embark on an epic voyage At the centre of the galaxy lies a irresistible pulse which draws you on a journey towards it to learn the true nature of the cosmos. But, facing hostile creatures and fierce pirates, you'll know that death comes at a cost, and survival will be down to the choices you make over how you upgrade your ship, your weapon and suit. Find your own destiny Your voyage through No Man's Sky is up to you. Will you be a fighter, preying on the weak and taking their riches, or taking out pirates for their bounties? Power is yours if you upgrade your ship for speed and weaponry. Or a trader? Find rich resources on forgotten worlds and exploit them for the highest prices. Invest in more cargo space and you'll reap huge rewards. Or perhaps an explorer? Go beyond the known frontier and discover places and things that no one has ever seen before. Upgrade your engines to jump ever farther, and strengthen your suit for survival in toxic environments that would kill the unwary. Share your journey The galaxy is a living, breathing place. Trade convoys travel between stars, factions vie for territory, pirates hunt the unwary, and the police are ever watching. Every other player lives in the same galaxy, and you can choose to share your discoveries with them on a map that spans known space. Perhaps you will see the results of their actions as well as your own...\",\n          \"Call of Duty\\u00ae: Black Ops III Zombies Chronicles Edition includes the full base game and the Zombies Chronicles content expansion. \\n \\r\\nCall of Duty: Black Ops III combines three unique game modes: Campaign, Multiplayer, and Zombies, providing fans with the deepest and most ambitious Call of Duty ever. \\n \\r\\nThe Zombies Chronicles content expansion delivers 8 remastered classic Zombies maps from Call of Duty\\u00ae: World at War, Call of Duty\\u00ae: Black Ops and Call of Duty\\u00ae: Black Ops II. Complete maps from the original saga are fully remastered and HD playable within Call of Duty\\u00ae: Black Ops III.\"\n        ],\n        \"semantic_type\": \"\",\n        \"description\": \"\"\n      }\n    },\n    {\n      \"column\": \"img_count\",\n      \"properties\": {\n        \"dtype\": \"number\",\n        \"std\": 4,\n        \"min\": 0,\n        \"max\": 34,\n        \"num_unique_values\": 16,\n        \"samples\": [\n          12,\n          0,\n          2\n        ],\n        \"semantic_type\": \"\",\n        \"description\": \"\"\n      }\n    },\n    {\n      \"column\": \"link_count\",\n      \"properties\": {\n        \"dtype\": \"number\",\n        \"std\": 1,\n        \"min\": 0,\n        \"max\": 10,\n        \"num_unique_values\": 7,\n        \"samples\": [\n          0,\n          1,\n          10\n        ],\n        \"semantic_type\": \"\",\n        \"description\": \"\"\n      }\n    },\n    {\n      \"column\": \"timeAfterRelease\",\n      \"properties\": {\n        \"dtype\": \"timedelta64[ns]\",\n        \"num_unique_values\": 192,\n        \"samples\": [\n          \"3017 days 00:00:00\",\n          \"1358 days 00:00:00\",\n          \"112 days 00:00:00\"\n        ],\n        \"semantic_type\": \"\",\n        \"description\": \"\"\n      }\n    },\n    {\n      \"column\": \"sales_adj\",\n      \"properties\": {\n        \"dtype\": \"number\",\n        \"std\": 565099,\n        \"min\": 0,\n        \"max\": 4931895,\n        \"num_unique_values\": 200,\n        \"samples\": [\n          48424,\n          63227,\n          47154\n        ],\n        \"semantic_type\": \"\",\n        \"description\": \"\"\n      }\n    },\n    {\n      \"column\": \"Copies_Sold2\",\n      \"properties\": {\n        \"dtype\": \"number\",\n        \"std\": 0,\n        \"min\": 1,\n        \"max\": 1,\n        \"num_unique_values\": 1,\n        \"samples\": [\n          1\n        ],\n        \"semantic_type\": \"\",\n        \"description\": \"\"\n      }\n    },\n    {\n      \"column\": \"Clean_Description\",\n      \"properties\": {\n        \"dtype\": \"string\",\n        \"num_unique_values\": 200,\n        \"samples\": [\n          \"Go behind enemy lines forge army conquer Fortresses dominate Mordor within Experience award winning Nemesis System creates unique personal stories every enemy follower confront full power Dark Lord Sauron Ringwraiths epic new story Middleearth In Middleearth Shadow War nothing forgotten\"\n        ],\n        \"semantic_type\": \"\",\n        \"description\": \"\"\n      }\n    }\n  ]\n}"
            }
          },
          "metadata": {},
          "execution_count": 99
        }
      ]
    },
    {
      "cell_type": "markdown",
      "source": [
        "### Data Splitting"
      ],
      "metadata": {
        "id": "XJHOxTqaDNlj"
      }
    },
    {
      "cell_type": "markdown",
      "source": [
        "Now that we have properly preprocessed the data we will now begin split our data into training and testing"
      ],
      "metadata": {
        "id": "b_4g6BkpDVYx"
      }
    },
    {
      "cell_type": "code",
      "source": [
        "## This is to split the data into training and testing set\n",
        "## We will split the training and testing set to 80% and 20%\n",
        "X_train,X_test,y_train,y_test = train_test_split(df2['Clean_Description'],df2['Copies_Sold2'],test_size = 0.2,random_state=42)"
      ],
      "metadata": {
        "id": "ZtM2YKnsDVxA"
      },
      "execution_count": 100,
      "outputs": []
    },
    {
      "cell_type": "code",
      "source": [
        "(X_train.shape,X_test.shape)"
      ],
      "metadata": {
        "colab": {
          "base_uri": "https://localhost:8080/"
        },
        "id": "bnZjI7OlDaTp",
        "outputId": "67b28fa6-888e-40a8-f536-c927a9ffe278"
      },
      "execution_count": 101,
      "outputs": [
        {
          "output_type": "execute_result",
          "data": {
            "text/plain": [
              "((160,), (40,))"
            ]
          },
          "metadata": {},
          "execution_count": 101
        }
      ]
    },
    {
      "cell_type": "markdown",
      "source": [
        "### Bag of Words"
      ],
      "metadata": {
        "id": "AdXxZUPMDhtr"
      }
    },
    {
      "cell_type": "markdown",
      "source": [
        "Since we need to convert our text-data into numbers we will use the bag of words algorithm to transform our data into numbers before we feed it."
      ],
      "metadata": {
        "id": "kw_ClyU2Dj6q"
      }
    },
    {
      "cell_type": "code",
      "source": [
        "# Here we will stick for a 1 to 2-word ngram so that the matrix does not get too large\n",
        "vectorizer = CountVectorizer(ngram_range=(1, 2))\n",
        "\n",
        "train_x_vectors = vectorizer.fit_transform(X_train)\n",
        "\n",
        "## Okay so the documentation says to use get_feature_names_out()) to get features name out\n",
        "print(vectorizer.get_feature_names_out())"
      ],
      "metadata": {
        "colab": {
          "base_uri": "https://localhost:8080/"
        },
        "id": "khxxZRlmDmb2",
        "outputId": "5cd96f7e-dd17-4856-cf61-54eabbcccc87"
      },
      "execution_count": 104,
      "outputs": [
        {
          "output_type": "stream",
          "name": "stdout",
          "text": [
            "['03172020' '03172020 the' '10' ... 'álvarez' 'álvarez in' 'álvarez lspd']\n"
          ]
        }
      ]
    },
    {
      "cell_type": "code",
      "source": [
        "## Here we get the array out, the array appears to be sparse\n",
        "print(train_x_vectors.toarray())"
      ],
      "metadata": {
        "colab": {
          "base_uri": "https://localhost:8080/"
        },
        "id": "dpeZYpiVDvUR",
        "outputId": "365ea941-f2e4-4cc4-a126-ddf76a874504"
      },
      "execution_count": 105,
      "outputs": [
        {
          "output_type": "stream",
          "name": "stdout",
          "text": [
            "[[0 0 0 ... 0 0 0]\n",
            " [0 0 0 ... 0 0 0]\n",
            " [0 0 0 ... 0 0 0]\n",
            " ...\n",
            " [0 0 0 ... 0 0 0]\n",
            " [0 0 0 ... 0 0 0]\n",
            " [0 0 0 ... 0 0 0]]\n"
          ]
        }
      ]
    },
    {
      "cell_type": "markdown",
      "source": [
        "## Classification Models"
      ],
      "metadata": {
        "id": "hC_4vC63DwRi"
      }
    },
    {
      "cell_type": "markdown",
      "source": [
        "### Bag of Words - Support Vector Machine"
      ],
      "metadata": {
        "id": "x0DM2bLkD35j"
      }
    },
    {
      "cell_type": "markdown",
      "source": [
        "For this section, I will use Support Vector Machine and to fit a model and see how well it performs on the test set. We fit the model using the transformed description set and with the y_values and then try to predict the copies_sold"
      ],
      "metadata": {
        "id": "dtwm-4oVD99O"
      }
    },
    {
      "cell_type": "code",
      "source": [
        "clf_svm = svm.SVC(kernel = 'linear')\n",
        "clf_svm.fit(train_x_vectors,y_train)"
      ],
      "metadata": {
        "colab": {
          "base_uri": "https://localhost:8080/",
          "height": 75
        },
        "id": "fOT_DaQTD2uC",
        "outputId": "6ccd5f30-0cb2-48c4-e88f-b542de670876"
      },
      "execution_count": 106,
      "outputs": [
        {
          "output_type": "execute_result",
          "data": {
            "text/plain": [
              "SVC(kernel='linear')"
            ],
            "text/html": [
              "<style>#sk-container-id-4 {color: black;background-color: white;}#sk-container-id-4 pre{padding: 0;}#sk-container-id-4 div.sk-toggleable {background-color: white;}#sk-container-id-4 label.sk-toggleable__label {cursor: pointer;display: block;width: 100%;margin-bottom: 0;padding: 0.3em;box-sizing: border-box;text-align: center;}#sk-container-id-4 label.sk-toggleable__label-arrow:before {content: \"▸\";float: left;margin-right: 0.25em;color: #696969;}#sk-container-id-4 label.sk-toggleable__label-arrow:hover:before {color: black;}#sk-container-id-4 div.sk-estimator:hover label.sk-toggleable__label-arrow:before {color: black;}#sk-container-id-4 div.sk-toggleable__content {max-height: 0;max-width: 0;overflow: hidden;text-align: left;background-color: #f0f8ff;}#sk-container-id-4 div.sk-toggleable__content pre {margin: 0.2em;color: black;border-radius: 0.25em;background-color: #f0f8ff;}#sk-container-id-4 input.sk-toggleable__control:checked~div.sk-toggleable__content {max-height: 200px;max-width: 100%;overflow: auto;}#sk-container-id-4 input.sk-toggleable__control:checked~label.sk-toggleable__label-arrow:before {content: \"▾\";}#sk-container-id-4 div.sk-estimator input.sk-toggleable__control:checked~label.sk-toggleable__label {background-color: #d4ebff;}#sk-container-id-4 div.sk-label input.sk-toggleable__control:checked~label.sk-toggleable__label {background-color: #d4ebff;}#sk-container-id-4 input.sk-hidden--visually {border: 0;clip: rect(1px 1px 1px 1px);clip: rect(1px, 1px, 1px, 1px);height: 1px;margin: -1px;overflow: hidden;padding: 0;position: absolute;width: 1px;}#sk-container-id-4 div.sk-estimator {font-family: monospace;background-color: #f0f8ff;border: 1px dotted black;border-radius: 0.25em;box-sizing: border-box;margin-bottom: 0.5em;}#sk-container-id-4 div.sk-estimator:hover {background-color: #d4ebff;}#sk-container-id-4 div.sk-parallel-item::after {content: \"\";width: 100%;border-bottom: 1px solid gray;flex-grow: 1;}#sk-container-id-4 div.sk-label:hover label.sk-toggleable__label {background-color: #d4ebff;}#sk-container-id-4 div.sk-serial::before {content: \"\";position: absolute;border-left: 1px solid gray;box-sizing: border-box;top: 0;bottom: 0;left: 50%;z-index: 0;}#sk-container-id-4 div.sk-serial {display: flex;flex-direction: column;align-items: center;background-color: white;padding-right: 0.2em;padding-left: 0.2em;position: relative;}#sk-container-id-4 div.sk-item {position: relative;z-index: 1;}#sk-container-id-4 div.sk-parallel {display: flex;align-items: stretch;justify-content: center;background-color: white;position: relative;}#sk-container-id-4 div.sk-item::before, #sk-container-id-4 div.sk-parallel-item::before {content: \"\";position: absolute;border-left: 1px solid gray;box-sizing: border-box;top: 0;bottom: 0;left: 50%;z-index: -1;}#sk-container-id-4 div.sk-parallel-item {display: flex;flex-direction: column;z-index: 1;position: relative;background-color: white;}#sk-container-id-4 div.sk-parallel-item:first-child::after {align-self: flex-end;width: 50%;}#sk-container-id-4 div.sk-parallel-item:last-child::after {align-self: flex-start;width: 50%;}#sk-container-id-4 div.sk-parallel-item:only-child::after {width: 0;}#sk-container-id-4 div.sk-dashed-wrapped {border: 1px dashed gray;margin: 0 0.4em 0.5em 0.4em;box-sizing: border-box;padding-bottom: 0.4em;background-color: white;}#sk-container-id-4 div.sk-label label {font-family: monospace;font-weight: bold;display: inline-block;line-height: 1.2em;}#sk-container-id-4 div.sk-label-container {text-align: center;}#sk-container-id-4 div.sk-container {/* jupyter's `normalize.less` sets `[hidden] { display: none; }` but bootstrap.min.css set `[hidden] { display: none !important; }` so we also need the `!important` here to be able to override the default hidden behavior on the sphinx rendered scikit-learn.org. See: https://github.com/scikit-learn/scikit-learn/issues/21755 */display: inline-block !important;position: relative;}#sk-container-id-4 div.sk-text-repr-fallback {display: none;}</style><div id=\"sk-container-id-4\" class=\"sk-top-container\"><div class=\"sk-text-repr-fallback\"><pre>SVC(kernel=&#x27;linear&#x27;)</pre><b>In a Jupyter environment, please rerun this cell to show the HTML representation or trust the notebook. <br />On GitHub, the HTML representation is unable to render, please try loading this page with nbviewer.org.</b></div><div class=\"sk-container\" hidden><div class=\"sk-item\"><div class=\"sk-estimator sk-toggleable\"><input class=\"sk-toggleable__control sk-hidden--visually\" id=\"sk-estimator-id-4\" type=\"checkbox\" checked><label for=\"sk-estimator-id-4\" class=\"sk-toggleable__label sk-toggleable__label-arrow\">SVC</label><div class=\"sk-toggleable__content\"><pre>SVC(kernel=&#x27;linear&#x27;)</pre></div></div></div></div></div>"
            ]
          },
          "metadata": {},
          "execution_count": 106
        }
      ]
    },
    {
      "cell_type": "markdown",
      "source": [
        "\n",
        "I will transform the X_test and then our svm model to predict if it works"
      ],
      "metadata": {
        "id": "7Wuaa96REa6k"
      }
    },
    {
      "cell_type": "code",
      "source": [
        "## Transfrom the test-set\n",
        "test_x_vectors = vectorizer.transform(X_test)\n",
        "\n",
        "## Then we predict with the svm model\n",
        "\n",
        "y_pred = clf_svm.predict(test_x_vectors)\n",
        "\n",
        "y_pred"
      ],
      "metadata": {
        "colab": {
          "base_uri": "https://localhost:8080/"
        },
        "id": "IZuRVI8pEcXM",
        "outputId": "3a33adcb-7dcd-4834-c61d-f978d584f52b"
      },
      "execution_count": 107,
      "outputs": [
        {
          "output_type": "execute_result",
          "data": {
            "text/plain": [
              "array([0, 0, 0, 1, 1, 0, 0, 0, 0, 0, 0, 0, 0, 1, 1, 0, 1, 0, 1, 1, 0, 0,\n",
              "       1, 0, 1, 1, 0, 1, 0, 0, 0, 0, 1, 1, 0, 1, 1, 1, 0, 1])"
            ]
          },
          "metadata": {},
          "execution_count": 107
        }
      ]
    },
    {
      "cell_type": "markdown",
      "source": [
        "\n",
        "The svm models appears to have predicted that half of the copies will sell for the bag_of_words transformation"
      ],
      "metadata": {
        "id": "7Y4gdiA7Efz8"
      }
    },
    {
      "cell_type": "code",
      "source": [
        "# Calculate accuracy score\n",
        "accuracy = accuracy_score(y_test, y_pred)\n",
        "\n",
        "# Print the accuracy score\n",
        "print(\"Accuracy:\", accuracy)"
      ],
      "metadata": {
        "colab": {
          "base_uri": "https://localhost:8080/"
        },
        "id": "n9cBN6BHEifg",
        "outputId": "6d009bba-4a08-4881-932d-2adf18906a18"
      },
      "execution_count": 108,
      "outputs": [
        {
          "output_type": "stream",
          "name": "stdout",
          "text": [
            "Accuracy: 0.525\n"
          ]
        }
      ]
    },
    {
      "cell_type": "markdown",
      "source": [
        "Here we have an accuracy score of 0.525 which is almost as bad as random chance."
      ],
      "metadata": {
        "id": "N3XbQ2UvEuvW"
      }
    },
    {
      "cell_type": "code",
      "source": [
        "print(confusion_matrix(y_test,y_pred))"
      ],
      "metadata": {
        "colab": {
          "base_uri": "https://localhost:8080/"
        },
        "id": "uiLzvZAkEvUP",
        "outputId": "da9e82ff-0ba5-42d8-a6c0-f85a38ce43d8"
      },
      "execution_count": 109,
      "outputs": [
        {
          "output_type": "stream",
          "name": "stdout",
          "text": [
            "[[12  8]\n",
            " [11  9]]\n"
          ]
        }
      ]
    },
    {
      "cell_type": "code",
      "source": [
        "fpr, tpr, threshold = roc_curve(y_test, y_pred)\n",
        "roc_auc = auc(fpr, tpr)\n",
        "\n",
        "# Printing AUC\n",
        "print(f\"AUC for our classifier is: {roc_auc}\")\n",
        "\n",
        "# Plotting the ROC\n",
        "\n",
        "import matplotlib.pyplot as plt\n",
        "\n",
        "plt.title('Receiver Operating Characteristic')\n",
        "plt.plot(fpr, tpr, 'b', label = 'AUC = %0.2f' % roc_auc)\n",
        "plt.legend(loc = 'lower right')\n",
        "plt.plot([0, 1], [0, 1],'r--')\n",
        "plt.xlim([0, 1])\n",
        "plt.ylim([0, 1])\n",
        "plt.ylabel('True Positive Rate')\n",
        "plt.xlabel('False Positive Rate')\n",
        "plt.show()"
      ],
      "metadata": {
        "colab": {
          "base_uri": "https://localhost:8080/",
          "height": 490
        },
        "id": "JTbepTwrExNl",
        "outputId": "f545415c-6bb9-4bed-fad6-27aee77f31ac"
      },
      "execution_count": 110,
      "outputs": [
        {
          "output_type": "stream",
          "name": "stdout",
          "text": [
            "AUC for our classifier is: 0.525\n"
          ]
        },
        {
          "output_type": "display_data",
          "data": {
            "text/plain": [
              "<Figure size 640x480 with 1 Axes>"
            ],
            "image/png": "[encoded data removed]"
          },
          "metadata": {}
        }
      ]
    },
    {
      "cell_type": "markdown",
      "source": [
        "We have an AUC score of 0.53 which tells us that our classifier has a very small class-seperation capacity which is not a good start, so clearly the bag-of-words transformation is not working."
      ],
      "metadata": {
        "id": "B7j609vCGpHU"
      }
    },
    {
      "cell_type": "markdown",
      "source": [
        "### TF-IDF - SVM"
      ],
      "metadata": {
        "id": "5pkF1BgNGxAU"
      }
    },
    {
      "cell_type": "markdown",
      "source": [
        "For this section we will now do a tf-idf transformation and see if this transformation can create a better classifier, Tf-idf bassically counts the # of terms that occur in a document"
      ],
      "metadata": {
        "id": "Z2_01VcXG0Yx"
      }
    },
    {
      "cell_type": "code",
      "source": [
        "## We are going to make a tf-idf with a bigram of 1 and 2\n",
        "tfidf_transformer=TfidfVectorizer(ngram_range = (1,2))\n",
        "\n",
        "## Pass the Text-object\n",
        "\n",
        "## To make the td_idf\n",
        "tf_idf_x = tfidf_transformer.fit_transform(X_train)\n",
        "\n",
        "## Also transform the test-set using the same_vectorizer\n",
        "tf_idf_test = tfidf_transformer.transform(X_test)"
      ],
      "metadata": {
        "id": "n1MJ52W5GwmC"
      },
      "execution_count": 111,
      "outputs": []
    },
    {
      "cell_type": "code",
      "source": [
        "## So we have 160 rows and 39057 features transfromed\n",
        "tf_idf_x.shape"
      ],
      "metadata": {
        "colab": {
          "base_uri": "https://localhost:8080/"
        },
        "id": "9MmRD82gG2YR",
        "outputId": "3f2bc972-23f6-4618-8a14-93df41ef7313"
      },
      "execution_count": 112,
      "outputs": [
        {
          "output_type": "execute_result",
          "data": {
            "text/plain": [
              "(160, 39057)"
            ]
          },
          "metadata": {},
          "execution_count": 112
        }
      ]
    },
    {
      "cell_type": "code",
      "source": [
        "## Again the matrix is sparse\n",
        "tf_idf_x.toarray()"
      ],
      "metadata": {
        "colab": {
          "base_uri": "https://localhost:8080/"
        },
        "id": "fWF9ns-PG734",
        "outputId": "f2ed7028-65eb-44e3-d219-492777d3bfe7"
      },
      "execution_count": 113,
      "outputs": [
        {
          "output_type": "execute_result",
          "data": {
            "text/plain": [
              "array([[0., 0., 0., ..., 0., 0., 0.],\n",
              "       [0., 0., 0., ..., 0., 0., 0.],\n",
              "       [0., 0., 0., ..., 0., 0., 0.],\n",
              "       ...,\n",
              "       [0., 0., 0., ..., 0., 0., 0.],\n",
              "       [0., 0., 0., ..., 0., 0., 0.],\n",
              "       [0., 0., 0., ..., 0., 0., 0.]])"
            ]
          },
          "metadata": {},
          "execution_count": 113
        }
      ]
    },
    {
      "cell_type": "markdown",
      "source": [
        "Now I am going to implement SVM again with the tf-idf transformation"
      ],
      "metadata": {
        "id": "ISwanzd-HTtl"
      }
    },
    {
      "cell_type": "code",
      "source": [
        "clf_svm_wv_i = svm.SVC(kernel = 'linear')\n",
        "clf_svm_wv_i.fit(tf_idf_x,y_train)"
      ],
      "metadata": {
        "colab": {
          "base_uri": "https://localhost:8080/",
          "height": 75
        },
        "id": "zewtgyS-HSiF",
        "outputId": "02164d59-7739-4971-8169-ee76c27c9a01"
      },
      "execution_count": 114,
      "outputs": [
        {
          "output_type": "execute_result",
          "data": {
            "text/plain": [
              "SVC(kernel='linear')"
            ],
            "text/html": [
              "<style>#sk-container-id-5 {color: black;background-color: white;}#sk-container-id-5 pre{padding: 0;}#sk-container-id-5 div.sk-toggleable {background-color: white;}#sk-container-id-5 label.sk-toggleable__label {cursor: pointer;display: block;width: 100%;margin-bottom: 0;padding: 0.3em;box-sizing: border-box;text-align: center;}#sk-container-id-5 label.sk-toggleable__label-arrow:before {content: \"▸\";float: left;margin-right: 0.25em;color: #696969;}#sk-container-id-5 label.sk-toggleable__label-arrow:hover:before {color: black;}#sk-container-id-5 div.sk-estimator:hover label.sk-toggleable__label-arrow:before {color: black;}#sk-container-id-5 div.sk-toggleable__content {max-height: 0;max-width: 0;overflow: hidden;text-align: left;background-color: #f0f8ff;}#sk-container-id-5 div.sk-toggleable__content pre {margin: 0.2em;color: black;border-radius: 0.25em;background-color: #f0f8ff;}#sk-container-id-5 input.sk-toggleable__control:checked~div.sk-toggleable__content {max-height: 200px;max-width: 100%;overflow: auto;}#sk-container-id-5 input.sk-toggleable__control:checked~label.sk-toggleable__label-arrow:before {content: \"▾\";}#sk-container-id-5 div.sk-estimator input.sk-toggleable__control:checked~label.sk-toggleable__label {background-color: #d4ebff;}#sk-container-id-5 div.sk-label input.sk-toggleable__control:checked~label.sk-toggleable__label {background-color: #d4ebff;}#sk-container-id-5 input.sk-hidden--visually {border: 0;clip: rect(1px 1px 1px 1px);clip: rect(1px, 1px, 1px, 1px);height: 1px;margin: -1px;overflow: hidden;padding: 0;position: absolute;width: 1px;}#sk-container-id-5 div.sk-estimator {font-family: monospace;background-color: #f0f8ff;border: 1px dotted black;border-radius: 0.25em;box-sizing: border-box;margin-bottom: 0.5em;}#sk-container-id-5 div.sk-estimator:hover {background-color: #d4ebff;}#sk-container-id-5 div.sk-parallel-item::after {content: \"\";width: 100%;border-bottom: 1px solid gray;flex-grow: 1;}#sk-container-id-5 div.sk-label:hover label.sk-toggleable__label {background-color: #d4ebff;}#sk-container-id-5 div.sk-serial::before {content: \"\";position: absolute;border-left: 1px solid gray;box-sizing: border-box;top: 0;bottom: 0;left: 50%;z-index: 0;}#sk-container-id-5 div.sk-serial {display: flex;flex-direction: column;align-items: center;background-color: white;padding-right: 0.2em;padding-left: 0.2em;position: relative;}#sk-container-id-5 div.sk-item {position: relative;z-index: 1;}#sk-container-id-5 div.sk-parallel {display: flex;align-items: stretch;justify-content: center;background-color: white;position: relative;}#sk-container-id-5 div.sk-item::before, #sk-container-id-5 div.sk-parallel-item::before {content: \"\";position: absolute;border-left: 1px solid gray;box-sizing: border-box;top: 0;bottom: 0;left: 50%;z-index: -1;}#sk-container-id-5 div.sk-parallel-item {display: flex;flex-direction: column;z-index: 1;position: relative;background-color: white;}#sk-container-id-5 div.sk-parallel-item:first-child::after {align-self: flex-end;width: 50%;}#sk-container-id-5 div.sk-parallel-item:last-child::after {align-self: flex-start;width: 50%;}#sk-container-id-5 div.sk-parallel-item:only-child::after {width: 0;}#sk-container-id-5 div.sk-dashed-wrapped {border: 1px dashed gray;margin: 0 0.4em 0.5em 0.4em;box-sizing: border-box;padding-bottom: 0.4em;background-color: white;}#sk-container-id-5 div.sk-label label {font-family: monospace;font-weight: bold;display: inline-block;line-height: 1.2em;}#sk-container-id-5 div.sk-label-container {text-align: center;}#sk-container-id-5 div.sk-container {/* jupyter's `normalize.less` sets `[hidden] { display: none; }` but bootstrap.min.css set `[hidden] { display: none !important; }` so we also need the `!important` here to be able to override the default hidden behavior on the sphinx rendered scikit-learn.org. See: https://github.com/scikit-learn/scikit-learn/issues/21755 */display: inline-block !important;position: relative;}#sk-container-id-5 div.sk-text-repr-fallback {display: none;}</style><div id=\"sk-container-id-5\" class=\"sk-top-container\"><div class=\"sk-text-repr-fallback\"><pre>SVC(kernel=&#x27;linear&#x27;)</pre><b>In a Jupyter environment, please rerun this cell to show the HTML representation or trust the notebook. <br />On GitHub, the HTML representation is unable to render, please try loading this page with nbviewer.org.</b></div><div class=\"sk-container\" hidden><div class=\"sk-item\"><div class=\"sk-estimator sk-toggleable\"><input class=\"sk-toggleable__control sk-hidden--visually\" id=\"sk-estimator-id-5\" type=\"checkbox\" checked><label for=\"sk-estimator-id-5\" class=\"sk-toggleable__label sk-toggleable__label-arrow\">SVC</label><div class=\"sk-toggleable__content\"><pre>SVC(kernel=&#x27;linear&#x27;)</pre></div></div></div></div></div>"
            ]
          },
          "metadata": {},
          "execution_count": 114
        }
      ]
    },
    {
      "cell_type": "code",
      "source": [
        "#y_pred is the tf-idf transformation now\n",
        "y_pred2 = clf_svm_wv_i.predict(tf_idf_test)\n",
        "\n",
        "y_pred2"
      ],
      "metadata": {
        "colab": {
          "base_uri": "https://localhost:8080/"
        },
        "id": "mL-5otXaHWbN",
        "outputId": "b499e954-26d6-409e-8c31-d75aaee66bc5"
      },
      "execution_count": 115,
      "outputs": [
        {
          "output_type": "execute_result",
          "data": {
            "text/plain": [
              "array([0, 0, 0, 0, 1, 0, 0, 0, 0, 0, 0, 0, 0, 1, 0, 0, 1, 0, 0, 0, 0, 0,\n",
              "       1, 0, 1, 1, 0, 1, 1, 0, 0, 0, 1, 1, 1, 1, 0, 1, 1, 1])"
            ]
          },
          "metadata": {},
          "execution_count": 115
        }
      ]
    },
    {
      "cell_type": "code",
      "source": [
        "# Calculate accuracy score\n",
        "accuracy = accuracy_score(y_test, y_pred2)\n",
        "\n",
        "\n",
        "# Likewise the accuracy score is the same as the bag of words transformation\n",
        "print(\"Accuracy:\", accuracy)"
      ],
      "metadata": {
        "colab": {
          "base_uri": "https://localhost:8080/"
        },
        "id": "58oafTkHHYOo",
        "outputId": "3483773f-83bd-4dd1-ef65-432a4618d295"
      },
      "execution_count": 116,
      "outputs": [
        {
          "output_type": "stream",
          "name": "stdout",
          "text": [
            "Accuracy: 0.475\n"
          ]
        }
      ]
    },
    {
      "cell_type": "code",
      "source": [
        "fpr, tpr, threshold = roc_curve(y_test, y_pred2)\n",
        "roc_auc = auc(fpr, tpr)\n",
        "\n",
        "# Printing AUC\n",
        "print(f\"AUC for our classifier is: {roc_auc}\")\n",
        "\n",
        "# Plotting the ROC\n",
        "\n",
        "import matplotlib.pyplot as plt\n",
        "\n",
        "plt.title('Receiver Operating Characteristic')\n",
        "plt.plot(fpr, tpr, 'b', label = 'AUC = %0.2f' % roc_auc)\n",
        "plt.legend(loc = 'lower right')\n",
        "plt.plot([0, 1], [0, 1],'r--')\n",
        "plt.xlim([0, 1])\n",
        "plt.ylim([0, 1])\n",
        "plt.ylabel('True Positive Rate')\n",
        "plt.xlabel('False Positive Rate')\n",
        "plt.show()"
      ],
      "metadata": {
        "colab": {
          "base_uri": "https://localhost:8080/",
          "height": 490
        },
        "id": "qI3XGqzzHa9c",
        "outputId": "f92676c5-9b3d-4185-a1c8-c1e234676241"
      },
      "execution_count": 117,
      "outputs": [
        {
          "output_type": "stream",
          "name": "stdout",
          "text": [
            "AUC for our classifier is: 0.47500000000000003\n"
          ]
        },
        {
          "output_type": "display_data",
          "data": {
            "text/plain": [
              "<Figure size 640x480 with 1 Axes>"
            ],
            "image/png": "[encoded data removed]"
          },
          "metadata": {}
        }
      ]
    },
    {
      "cell_type": "markdown",
      "source": [
        "Unfornatuely, it appears a tf-idf transformation has not worked as well and the AUC score is even lower."
      ],
      "metadata": {
        "id": "0WkzsLHaHdJV"
      }
    },
    {
      "cell_type": "markdown",
      "source": [
        "### Word Vector - SVM"
      ],
      "metadata": {
        "id": "Wgj5mc2fHk5B"
      }
    },
    {
      "cell_type": "markdown",
      "source": [
        "Word Vectors attempt to captures the semantic meaning of a word in a vector\n",
        "\n",
        "Here I will attempt to use the word-vector transformation to see if it will help improve the model classification of the copies_sold column\n",
        "\n",
        "I will use the spacy library in order to implement and use the word_vector algorithms"
      ],
      "metadata": {
        "id": "X8C4XI3zHn4n"
      }
    },
    {
      "cell_type": "code",
      "source": [
        "nlp = spacy.load(\"en_core_web_md\")\n",
        "docs = [nlp(text) for text in X_train]\n",
        "train_x_word_vector = [x.vector for x in docs]"
      ],
      "metadata": {
        "id": "jiOT_Gv1Hkfk"
      },
      "execution_count": 118,
      "outputs": []
    },
    {
      "cell_type": "markdown",
      "source": [
        "Here we will use SVM again this time using the word_vector transformation that captures the semantic meanings of our game description."
      ],
      "metadata": {
        "id": "9FGg2-65Hz_r"
      }
    },
    {
      "cell_type": "code",
      "source": [
        "clf_svm_wv = svm.SVC(kernel = 'linear')\n",
        "clf_svm_wv.fit(train_x_word_vector,y_train)"
      ],
      "metadata": {
        "colab": {
          "base_uri": "https://localhost:8080/",
          "height": 75
        },
        "id": "KbXpMjtYH1FE",
        "outputId": "cd01a0d7-29ec-4597-ec41-f485dabd776d"
      },
      "execution_count": 119,
      "outputs": [
        {
          "output_type": "execute_result",
          "data": {
            "text/plain": [
              "SVC(kernel='linear')"
            ],
            "text/html": [
              "<style>#sk-container-id-6 {color: black;background-color: white;}#sk-container-id-6 pre{padding: 0;}#sk-container-id-6 div.sk-toggleable {background-color: white;}#sk-container-id-6 label.sk-toggleable__label {cursor: pointer;display: block;width: 100%;margin-bottom: 0;padding: 0.3em;box-sizing: border-box;text-align: center;}#sk-container-id-6 label.sk-toggleable__label-arrow:before {content: \"▸\";float: left;margin-right: 0.25em;color: #696969;}#sk-container-id-6 label.sk-toggleable__label-arrow:hover:before {color: black;}#sk-container-id-6 div.sk-estimator:hover label.sk-toggleable__label-arrow:before {color: black;}#sk-container-id-6 div.sk-toggleable__content {max-height: 0;max-width: 0;overflow: hidden;text-align: left;background-color: #f0f8ff;}#sk-container-id-6 div.sk-toggleable__content pre {margin: 0.2em;color: black;border-radius: 0.25em;background-color: #f0f8ff;}#sk-container-id-6 input.sk-toggleable__control:checked~div.sk-toggleable__content {max-height: 200px;max-width: 100%;overflow: auto;}#sk-container-id-6 input.sk-toggleable__control:checked~label.sk-toggleable__label-arrow:before {content: \"▾\";}#sk-container-id-6 div.sk-estimator input.sk-toggleable__control:checked~label.sk-toggleable__label {background-color: #d4ebff;}#sk-container-id-6 div.sk-label input.sk-toggleable__control:checked~label.sk-toggleable__label {background-color: #d4ebff;}#sk-container-id-6 input.sk-hidden--visually {border: 0;clip: rect(1px 1px 1px 1px);clip: rect(1px, 1px, 1px, 1px);height: 1px;margin: -1px;overflow: hidden;padding: 0;position: absolute;width: 1px;}#sk-container-id-6 div.sk-estimator {font-family: monospace;background-color: #f0f8ff;border: 1px dotted black;border-radius: 0.25em;box-sizing: border-box;margin-bottom: 0.5em;}#sk-container-id-6 div.sk-estimator:hover {background-color: #d4ebff;}#sk-container-id-6 div.sk-parallel-item::after {content: \"\";width: 100%;border-bottom: 1px solid gray;flex-grow: 1;}#sk-container-id-6 div.sk-label:hover label.sk-toggleable__label {background-color: #d4ebff;}#sk-container-id-6 div.sk-serial::before {content: \"\";position: absolute;border-left: 1px solid gray;box-sizing: border-box;top: 0;bottom: 0;left: 50%;z-index: 0;}#sk-container-id-6 div.sk-serial {display: flex;flex-direction: column;align-items: center;background-color: white;padding-right: 0.2em;padding-left: 0.2em;position: relative;}#sk-container-id-6 div.sk-item {position: relative;z-index: 1;}#sk-container-id-6 div.sk-parallel {display: flex;align-items: stretch;justify-content: center;background-color: white;position: relative;}#sk-container-id-6 div.sk-item::before, #sk-container-id-6 div.sk-parallel-item::before {content: \"\";position: absolute;border-left: 1px solid gray;box-sizing: border-box;top: 0;bottom: 0;left: 50%;z-index: -1;}#sk-container-id-6 div.sk-parallel-item {display: flex;flex-direction: column;z-index: 1;position: relative;background-color: white;}#sk-container-id-6 div.sk-parallel-item:first-child::after {align-self: flex-end;width: 50%;}#sk-container-id-6 div.sk-parallel-item:last-child::after {align-self: flex-start;width: 50%;}#sk-container-id-6 div.sk-parallel-item:only-child::after {width: 0;}#sk-container-id-6 div.sk-dashed-wrapped {border: 1px dashed gray;margin: 0 0.4em 0.5em 0.4em;box-sizing: border-box;padding-bottom: 0.4em;background-color: white;}#sk-container-id-6 div.sk-label label {font-family: monospace;font-weight: bold;display: inline-block;line-height: 1.2em;}#sk-container-id-6 div.sk-label-container {text-align: center;}#sk-container-id-6 div.sk-container {/* jupyter's `normalize.less` sets `[hidden] { display: none; }` but bootstrap.min.css set `[hidden] { display: none !important; }` so we also need the `!important` here to be able to override the default hidden behavior on the sphinx rendered scikit-learn.org. See: https://github.com/scikit-learn/scikit-learn/issues/21755 */display: inline-block !important;position: relative;}#sk-container-id-6 div.sk-text-repr-fallback {display: none;}</style><div id=\"sk-container-id-6\" class=\"sk-top-container\"><div class=\"sk-text-repr-fallback\"><pre>SVC(kernel=&#x27;linear&#x27;)</pre><b>In a Jupyter environment, please rerun this cell to show the HTML representation or trust the notebook. <br />On GitHub, the HTML representation is unable to render, please try loading this page with nbviewer.org.</b></div><div class=\"sk-container\" hidden><div class=\"sk-item\"><div class=\"sk-estimator sk-toggleable\"><input class=\"sk-toggleable__control sk-hidden--visually\" id=\"sk-estimator-id-6\" type=\"checkbox\" checked><label for=\"sk-estimator-id-6\" class=\"sk-toggleable__label sk-toggleable__label-arrow\">SVC</label><div class=\"sk-toggleable__content\"><pre>SVC(kernel=&#x27;linear&#x27;)</pre></div></div></div></div></div>"
            ]
          },
          "metadata": {},
          "execution_count": 119
        }
      ]
    },
    {
      "cell_type": "code",
      "source": [
        "test_docs = [nlp(text) for text in X_test]\n",
        "test_word_vector = [x.vector for x in test_docs]\n",
        "\n",
        "y_pred3 = clf_svm_wv.predict(test_word_vector)\n",
        "\n",
        "y_pred3"
      ],
      "metadata": {
        "colab": {
          "base_uri": "https://localhost:8080/"
        },
        "id": "p9Dd80MNH3As",
        "outputId": "a30db9d1-0421-430e-8513-9a0be517d72f"
      },
      "execution_count": 120,
      "outputs": [
        {
          "output_type": "execute_result",
          "data": {
            "text/plain": [
              "array([0, 0, 0, 0, 0, 0, 0, 0, 0, 0, 0, 1, 0, 1, 0, 0, 1, 0, 1, 0, 0, 0,\n",
              "       0, 0, 1, 1, 0, 0, 1, 0, 0, 1, 1, 0, 0, 1, 1, 1, 0, 0])"
            ]
          },
          "metadata": {},
          "execution_count": 120
        }
      ]
    },
    {
      "cell_type": "markdown",
      "source": [
        "Already the word-vector seems to be a slight improvement than the tf-idf and bag-of-words algorithm we can see the classifier trying to classify some games will not sell due to their description."
      ],
      "metadata": {
        "id": "5OfpBzrwH67B"
      }
    },
    {
      "cell_type": "code",
      "source": [
        "# Calculate accuracy score\n",
        "accuracy = accuracy_score(y_test, y_pred3)\n",
        "\n",
        "\n",
        "# The score is still the same..\n",
        "print(\"Accuracy:\", accuracy)"
      ],
      "metadata": {
        "colab": {
          "base_uri": "https://localhost:8080/"
        },
        "id": "dXM9n-siH84X",
        "outputId": "bbbcb215-b142-4863-f4d7-000019f57527"
      },
      "execution_count": 121,
      "outputs": [
        {
          "output_type": "stream",
          "name": "stdout",
          "text": [
            "Accuracy: 0.5\n"
          ]
        }
      ]
    },
    {
      "cell_type": "code",
      "source": [
        "fpr, tpr, threshold = roc_curve(y_test, y_pred3)\n",
        "roc_auc = auc(fpr, tpr)\n",
        "\n",
        "# Printing AUC\n",
        "print(f\"AUC for our classifier is: {roc_auc}\")\n",
        "\n",
        "# Plotting the ROC\n",
        "\n",
        "import matplotlib.pyplot as plt\n",
        "\n",
        "plt.title('Receiver Operating Characteristic')\n",
        "plt.plot(fpr, tpr, 'b', label = 'AUC = %0.2f' % roc_auc)\n",
        "plt.legend(loc = 'lower right')\n",
        "plt.plot([0, 1], [0, 1],'r--')\n",
        "plt.xlim([0, 1])\n",
        "plt.ylim([0, 1])\n",
        "plt.ylabel('True Positive Rate')\n",
        "plt.xlabel('False Positive Rate')\n",
        "plt.show()"
      ],
      "metadata": {
        "colab": {
          "base_uri": "https://localhost:8080/",
          "height": 490
        },
        "id": "bIvi3nRbH_O-",
        "outputId": "0e6b4622-466a-4eb7-a892-17643bba894f"
      },
      "execution_count": 122,
      "outputs": [
        {
          "output_type": "stream",
          "name": "stdout",
          "text": [
            "AUC for our classifier is: 0.49999999999999994\n"
          ]
        },
        {
          "output_type": "display_data",
          "data": {
            "text/plain": [
              "<Figure size 640x480 with 1 Axes>"
            ],
            "image/png": "[encoded data removed]"
          },
          "metadata": {}
        }
      ]
    },
    {
      "cell_type": "markdown",
      "source": [
        "Unfornateuly, the AUC score is not that high, with only a .4 increase but it appears the word-vector transformation seems to have done a slightly better job than the tf-idf but worse than bag-of-words transformation."
      ],
      "metadata": {
        "id": "RonZ_DxhICr1"
      }
    },
    {
      "cell_type": "markdown",
      "source": [
        "## Final Thoughts"
      ],
      "metadata": {
        "id": "RX0lNhrWIJTW"
      }
    },
    {
      "cell_type": "markdown",
      "source": [
        "Looking at the scope of the project and the work that I have done it appears that it is difficult to tell if a game will sell based on their description, from the transformations that I have used i.e (tf-idf,bag of words, and word vectors) it appears that word-vectors have only made a slight improvement in the classifier but it stil appears to have done a terrible job\n",
        "\n",
        "Furthermore, the results of the SVM Model and the model we see that the predictions aren't doing well, this may stem from the fact that each utterance in the game description columns are unique from one another and thus the model have may have a difficult time predicting whether the game will sell, after all a horror game description may vary from a first-person shooter game description and thus it may be really difficult to predict whether the game will sell at all which could translate to a terrible classifier."
      ],
      "metadata": {
        "id": "BzbrS3RYILC9"
      }
    },
    {
      "cell_type": "markdown",
      "source": [
        "---\n",
        "## Video Presentation"
      ],
      "metadata": {
        "id": "-pgx8Yxu9MxS"
      }
    },
    {
      "cell_type": "markdown",
      "source": [
        "The code below allows a YouTube link to the video presentation to be inserted for the url variable and will then display the YouTube video within the notebook itself.\n",
        "\n",
        "A regex match extracts the video ID from the URL which is then fed into the IPython package's built in Youtube embedder."
      ],
      "metadata": {
        "id": "ICW8tUu15X3E"
      }
    },
    {
      "cell_type": "code",
      "source": [
        "url = \"https://youtu.be/lJIXAF4lz0M\""
      ],
      "metadata": {
        "id": "uGhP5XMT7yHL"
      },
      "execution_count": 125,
      "outputs": []
    },
    {
      "cell_type": "code",
      "source": [
        "from IPython.display import YouTubeVideo\n",
        "import re\n",
        "\n",
        "reg = r\"(?:v=|\\/)([0-9A-Za-z_-]{11}).*\"\n",
        "urlid = re.search(reg, url)[1]\n",
        "\n",
        "YouTubeVideo(urlid, width=800, height=450)"
      ],
      "metadata": {
        "colab": {
          "base_uri": "https://localhost:8080/",
          "height": 471
        },
        "id": "gp6ithnRIjDA",
        "outputId": "3d176df0-33ac-4e0b-90ee-b3757318de24"
      },
      "execution_count": 126,
      "outputs": [
        {
          "output_type": "execute_result",
          "data": {
            "text/plain": [
              "<IPython.lib.display.YouTubeVideo at 0x7faa23948340>"
            ],
            "text/html": [
              "\n",
              "        <iframe\n",
              "            width=\"800\"\n",
              "            height=\"450\"\n",
              "            src=\"https://www.youtube.com/embed/lJIXAF4lz0M\"\n",
              "            frameborder=\"0\"\n",
              "            allowfullscreen\n",
              "            \n",
              "        ></iframe>\n",
              "        "
            ]
          },
          "metadata": {},
          "execution_count": 126
        }
      ]
    },
    {
      "cell_type": "markdown",
      "source": [
        "## Works Cited"
      ],
      "metadata": {
        "id": "Bai-hIjPIPOv"
      }
    },
    {
      "cell_type": "markdown",
      "source": [
        "Here is a list of sources I have consulted with for help on this project:\n",
        "\n",
        "sklearn documentation for tf-idf: https://scikitlearn.org/stable/modules/generated/sklearn.feature_extraction.text.TfidfVectorizer.html#sklearn.feature_extraction.text.TfidfVectorizer.transform\n",
        "\n",
        "svm documentation: https://scikit-learn.org/1.4/modules/generated/sklearn.svm.SVC.html\n",
        "\n",
        "This guide I have used from analytics vidha to clean up text: https://www.analyticsvidhya.com/blog/2021/09/creating-a-movie-reviews-classifier-using-tf-idf-in-python/\n",
        "\n",
        "NLP Tutorial for Word-Vectors from Keith Galli (gr8 tutorial btw.) https://www.youtube.com/watch?v=M7SWr5xObkA&ab_channel=KeithGalli\n",
        "\n",
        "Gama-analytics API docs: https://gamalytic.com/api-reference.txt\n",
        "\n",
        "Steam-API Help Docs: https://stackoverflow.com/questions/69512319/steam-api-to-get-game-info"
      ],
      "metadata": {
        "id": "JfVh2BlXITRJ"
      }
    }
  ]
}